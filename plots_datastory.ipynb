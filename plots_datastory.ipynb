{
 "cells": [
  {
   "cell_type": "code",
   "execution_count": 1,
   "metadata": {},
   "outputs": [],
   "source": [
    "import pandas as pd \n",
    "import numpy as np \n",
    "import matplotlib.pyplot as plt \n",
    "import seaborn as sns\n",
    "import sys"
   ]
  },
  {
   "cell_type": "code",
   "execution_count": 2,
   "metadata": {},
   "outputs": [],
   "source": [
    "sns.set_theme(style=\"whitegrid\")"
   ]
  },
  {
   "cell_type": "code",
   "execution_count": 3,
   "metadata": {},
   "outputs": [],
   "source": [
    "import ast"
   ]
  },
  {
   "cell_type": "code",
   "execution_count": 4,
   "metadata": {},
   "outputs": [
    {
     "name": "stdout",
     "output_type": "stream",
     "text": [
      "Number of rows 33684\n"
     ]
    },
    {
     "data": {
      "text/html": [
       "<div>\n",
       "<style scoped>\n",
       "    .dataframe tbody tr th:only-of-type {\n",
       "        vertical-align: middle;\n",
       "    }\n",
       "\n",
       "    .dataframe tbody tr th {\n",
       "        vertical-align: top;\n",
       "    }\n",
       "\n",
       "    .dataframe thead th {\n",
       "        text-align: right;\n",
       "    }\n",
       "</style>\n",
       "<table border=\"1\" class=\"dataframe\">\n",
       "  <thead>\n",
       "    <tr style=\"text-align: right;\">\n",
       "      <th></th>\n",
       "      <th>WikiID</th>\n",
       "      <th>merge_year</th>\n",
       "      <th>Genres</th>\n",
       "      <th>distilbert_emotions</th>\n",
       "      <th>ActorAge</th>\n",
       "      <th>ActorGender</th>\n",
       "      <th>ActorBirthDate</th>\n",
       "      <th>ActorGenderFlag</th>\n",
       "    </tr>\n",
       "  </thead>\n",
       "  <tbody>\n",
       "    <tr>\n",
       "      <th>0</th>\n",
       "      <td>975900</td>\n",
       "      <td>2001.0</td>\n",
       "      <td>['Thriller', 'Science Fiction', 'Horror', 'Adv...</td>\n",
       "      <td>{'disgust': 0.5021221041679382, 'fear': 0.3510...</td>\n",
       "      <td>[42.0, 27.0, 32.0, 33.0, 23.0, 52.0, 56.0, 37....</td>\n",
       "      <td>['F', 'F', 'M', 'M', 'F', 'F', 'F', 'M', 'M', ...</td>\n",
       "      <td>[Timestamp('1958-08-26 00:00:00'), Timestamp('...</td>\n",
       "      <td>[1, 1, 0, 0, 1, 1, 1, 0, 0, 0, 0, 0, 0, 0, 0, ...</td>\n",
       "    </tr>\n",
       "    <tr>\n",
       "      <th>3</th>\n",
       "      <td>9363483</td>\n",
       "      <td>1987.0</td>\n",
       "      <td>['Thriller', 'Erotic thriller', 'Psychological...</td>\n",
       "      <td>{'anger': 0.5024036765098572, 'disgust': 0.324...</td>\n",
       "      <td>[32.0, 26.0]</td>\n",
       "      <td>['M', 'F']</td>\n",
       "      <td>[Timestamp('1954-05-08 00:00:00'), Timestamp('...</td>\n",
       "      <td>[0, 1]</td>\n",
       "    </tr>\n",
       "    <tr>\n",
       "      <th>4</th>\n",
       "      <td>261236</td>\n",
       "      <td>1983.0</td>\n",
       "      <td>['Drama']</td>\n",
       "      <td>{'anger': 0.3256497378461063, 'disgust': 0.163...</td>\n",
       "      <td>[32.0, 32.0, 35.0]</td>\n",
       "      <td>['F', 'M', 'M']</td>\n",
       "      <td>[Timestamp('1950-06-20 00:00:00'), Timestamp('...</td>\n",
       "      <td>[1, 0, 0]</td>\n",
       "    </tr>\n",
       "    <tr>\n",
       "      <th>12</th>\n",
       "      <td>6631279</td>\n",
       "      <td>1997.0</td>\n",
       "      <td>['Romantic comedy', 'Ensemble Film', 'Comedy-d...</td>\n",
       "      <td>{'sadness': 0.9155038595199585, 'neutral': 0.0...</td>\n",
       "      <td>[25.0, 33.0, 37.0, 35.0, 33.0, 48.0]</td>\n",
       "      <td>['M', 'F', 'F', 'M', 'F', 'F']</td>\n",
       "      <td>[Timestamp('1971-09-15 00:00:00'), Timestamp('...</td>\n",
       "      <td>[0, 1, 1, 0, 1, 1]</td>\n",
       "    </tr>\n",
       "    <tr>\n",
       "      <th>13</th>\n",
       "      <td>171005</td>\n",
       "      <td>1989.0</td>\n",
       "      <td>['Costume drama', 'War film', 'Epic', 'Period ...</td>\n",
       "      <td>{'neutral': 0.6794102787971497, 'surprise': 0....</td>\n",
       "      <td>[28.0, 51.0, 33.0, 26.0, 30.0, 32.0, 58.0, 53....</td>\n",
       "      <td>['M', 'M', 'M', 'M', 'F', 'M', 'M', 'M', 'M', ...</td>\n",
       "      <td>[Timestamp('1960-12-10 00:00:00'), Timestamp('...</td>\n",
       "      <td>[0, 0, 0, 0, 1, 0, 0, 0, 0, 0, 1, 0, 0, 1, 0, ...</td>\n",
       "    </tr>\n",
       "  </tbody>\n",
       "</table>\n",
       "</div>"
      ],
      "text/plain": [
       "     WikiID  merge_year                                             Genres  \\\n",
       "0    975900      2001.0  ['Thriller', 'Science Fiction', 'Horror', 'Adv...   \n",
       "3   9363483      1987.0  ['Thriller', 'Erotic thriller', 'Psychological...   \n",
       "4    261236      1983.0                                          ['Drama']   \n",
       "12  6631279      1997.0  ['Romantic comedy', 'Ensemble Film', 'Comedy-d...   \n",
       "13   171005      1989.0  ['Costume drama', 'War film', 'Epic', 'Period ...   \n",
       "\n",
       "                                  distilbert_emotions  \\\n",
       "0   {'disgust': 0.5021221041679382, 'fear': 0.3510...   \n",
       "3   {'anger': 0.5024036765098572, 'disgust': 0.324...   \n",
       "4   {'anger': 0.3256497378461063, 'disgust': 0.163...   \n",
       "12  {'sadness': 0.9155038595199585, 'neutral': 0.0...   \n",
       "13  {'neutral': 0.6794102787971497, 'surprise': 0....   \n",
       "\n",
       "                                             ActorAge  \\\n",
       "0   [42.0, 27.0, 32.0, 33.0, 23.0, 52.0, 56.0, 37....   \n",
       "3                                        [32.0, 26.0]   \n",
       "4                                  [32.0, 32.0, 35.0]   \n",
       "12               [25.0, 33.0, 37.0, 35.0, 33.0, 48.0]   \n",
       "13  [28.0, 51.0, 33.0, 26.0, 30.0, 32.0, 58.0, 53....   \n",
       "\n",
       "                                          ActorGender  \\\n",
       "0   ['F', 'F', 'M', 'M', 'F', 'F', 'F', 'M', 'M', ...   \n",
       "3                                          ['M', 'F']   \n",
       "4                                     ['F', 'M', 'M']   \n",
       "12                     ['M', 'F', 'F', 'M', 'F', 'F']   \n",
       "13  ['M', 'M', 'M', 'M', 'F', 'M', 'M', 'M', 'M', ...   \n",
       "\n",
       "                                       ActorBirthDate  \\\n",
       "0   [Timestamp('1958-08-26 00:00:00'), Timestamp('...   \n",
       "3   [Timestamp('1954-05-08 00:00:00'), Timestamp('...   \n",
       "4   [Timestamp('1950-06-20 00:00:00'), Timestamp('...   \n",
       "12  [Timestamp('1971-09-15 00:00:00'), Timestamp('...   \n",
       "13  [Timestamp('1960-12-10 00:00:00'), Timestamp('...   \n",
       "\n",
       "                                      ActorGenderFlag  \n",
       "0   [1, 1, 0, 0, 1, 1, 1, 0, 0, 0, 0, 0, 0, 0, 0, ...  \n",
       "3                                              [0, 1]  \n",
       "4                                           [1, 0, 0]  \n",
       "12                                 [0, 1, 1, 0, 1, 1]  \n",
       "13  [0, 0, 0, 0, 1, 0, 0, 0, 0, 0, 1, 0, 0, 1, 0, ...  "
      ]
     },
     "execution_count": 4,
     "metadata": {},
     "output_type": "execute_result"
    }
   ],
   "source": [
    "PREFIX_PATH = 'data'\n",
    "df = pd.read_csv(f'{PREFIX_PATH}/final_data_complete.csv')\n",
    "df = df[['WikiID', 'merge_year', 'Genres', 'distilbert_emotions', 'ActorAge', 'ActorGender', 'ActorBirthDate', 'ActorGenderFlag']].copy()\n",
    "\n",
    "df = df.dropna(subset=['distilbert_emotions'])\n",
    "print(\"Number of rows\", len(df))\n",
    "df['distilbert_emotions'] = df['distilbert_emotions'].apply(lambda x: {} if pd.isna(x) else ast.literal_eval(x))\n",
    "df.head()"
   ]
  },
  {
   "cell_type": "code",
   "execution_count": 5,
   "metadata": {},
   "outputs": [
    {
     "data": {
      "text/html": [
       "<div>\n",
       "<style scoped>\n",
       "    .dataframe tbody tr th:only-of-type {\n",
       "        vertical-align: middle;\n",
       "    }\n",
       "\n",
       "    .dataframe tbody tr th {\n",
       "        vertical-align: top;\n",
       "    }\n",
       "\n",
       "    .dataframe thead th {\n",
       "        text-align: right;\n",
       "    }\n",
       "</style>\n",
       "<table border=\"1\" class=\"dataframe\">\n",
       "  <thead>\n",
       "    <tr style=\"text-align: right;\">\n",
       "      <th></th>\n",
       "      <th>WikiID</th>\n",
       "      <th>merge_year</th>\n",
       "      <th>Genres</th>\n",
       "      <th>distilbert_emotions</th>\n",
       "      <th>ActorAge</th>\n",
       "      <th>ActorGender</th>\n",
       "      <th>ActorBirthDate</th>\n",
       "      <th>ActorGenderFlag</th>\n",
       "      <th>disgust</th>\n",
       "      <th>fear</th>\n",
       "      <th>anger</th>\n",
       "      <th>neutral</th>\n",
       "      <th>sadness</th>\n",
       "      <th>surprise</th>\n",
       "      <th>joy</th>\n",
       "    </tr>\n",
       "  </thead>\n",
       "  <tbody>\n",
       "    <tr>\n",
       "      <th>0</th>\n",
       "      <td>975900</td>\n",
       "      <td>2001.0</td>\n",
       "      <td>['Thriller', 'Science Fiction', 'Horror', 'Adv...</td>\n",
       "      <td>{'disgust': 0.5021221041679382, 'fear': 0.3510...</td>\n",
       "      <td>[42.0, 27.0, 32.0, 33.0, 23.0, 52.0, 56.0, 37....</td>\n",
       "      <td>['F', 'F', 'M', 'M', 'F', 'F', 'F', 'M', 'M', ...</td>\n",
       "      <td>[Timestamp('1958-08-26 00:00:00'), Timestamp('...</td>\n",
       "      <td>[1, 1, 0, 0, 1, 1, 1, 0, 0, 0, 0, 0, 0, 0, 0, ...</td>\n",
       "      <td>0.502122</td>\n",
       "      <td>0.351022</td>\n",
       "      <td>0.065147</td>\n",
       "      <td>0.057085</td>\n",
       "      <td>0.018771</td>\n",
       "      <td>0.004086</td>\n",
       "      <td>0.001766</td>\n",
       "    </tr>\n",
       "    <tr>\n",
       "      <th>3</th>\n",
       "      <td>9363483</td>\n",
       "      <td>1987.0</td>\n",
       "      <td>['Thriller', 'Erotic thriller', 'Psychological...</td>\n",
       "      <td>{'anger': 0.5024036765098572, 'disgust': 0.324...</td>\n",
       "      <td>[32.0, 26.0]</td>\n",
       "      <td>['M', 'F']</td>\n",
       "      <td>[Timestamp('1954-05-08 00:00:00'), Timestamp('...</td>\n",
       "      <td>[0, 1]</td>\n",
       "      <td>0.324022</td>\n",
       "      <td>0.032032</td>\n",
       "      <td>0.502404</td>\n",
       "      <td>0.096385</td>\n",
       "      <td>0.037811</td>\n",
       "      <td>0.005438</td>\n",
       "      <td>0.001907</td>\n",
       "    </tr>\n",
       "    <tr>\n",
       "      <th>4</th>\n",
       "      <td>261236</td>\n",
       "      <td>1983.0</td>\n",
       "      <td>['Drama']</td>\n",
       "      <td>{'anger': 0.3256497378461063, 'disgust': 0.163...</td>\n",
       "      <td>[32.0, 32.0, 35.0]</td>\n",
       "      <td>['F', 'M', 'M']</td>\n",
       "      <td>[Timestamp('1950-06-20 00:00:00'), Timestamp('...</td>\n",
       "      <td>[1, 0, 0]</td>\n",
       "      <td>0.163747</td>\n",
       "      <td>0.002405</td>\n",
       "      <td>0.325650</td>\n",
       "      <td>0.440068</td>\n",
       "      <td>0.025255</td>\n",
       "      <td>0.005851</td>\n",
       "      <td>0.037024</td>\n",
       "    </tr>\n",
       "    <tr>\n",
       "      <th>12</th>\n",
       "      <td>6631279</td>\n",
       "      <td>1997.0</td>\n",
       "      <td>['Romantic comedy', 'Ensemble Film', 'Comedy-d...</td>\n",
       "      <td>{'sadness': 0.9155038595199585, 'neutral': 0.0...</td>\n",
       "      <td>[25.0, 33.0, 37.0, 35.0, 33.0, 48.0]</td>\n",
       "      <td>['M', 'F', 'F', 'M', 'F', 'F']</td>\n",
       "      <td>[Timestamp('1971-09-15 00:00:00'), Timestamp('...</td>\n",
       "      <td>[0, 1, 1, 0, 1, 1]</td>\n",
       "      <td>0.021709</td>\n",
       "      <td>0.010488</td>\n",
       "      <td>0.006082</td>\n",
       "      <td>0.042634</td>\n",
       "      <td>0.915504</td>\n",
       "      <td>0.002163</td>\n",
       "      <td>0.001421</td>\n",
       "    </tr>\n",
       "    <tr>\n",
       "      <th>13</th>\n",
       "      <td>171005</td>\n",
       "      <td>1989.0</td>\n",
       "      <td>['Costume drama', 'War film', 'Epic', 'Period ...</td>\n",
       "      <td>{'neutral': 0.6794102787971497, 'surprise': 0....</td>\n",
       "      <td>[28.0, 51.0, 33.0, 26.0, 30.0, 32.0, 58.0, 53....</td>\n",
       "      <td>['M', 'M', 'M', 'M', 'F', 'M', 'M', 'M', 'M', ...</td>\n",
       "      <td>[Timestamp('1960-12-10 00:00:00'), Timestamp('...</td>\n",
       "      <td>[0, 0, 0, 0, 1, 0, 0, 0, 0, 0, 1, 0, 0, 1, 0, ...</td>\n",
       "      <td>0.004746</td>\n",
       "      <td>0.003841</td>\n",
       "      <td>0.016094</td>\n",
       "      <td>0.679410</td>\n",
       "      <td>0.057925</td>\n",
       "      <td>0.129912</td>\n",
       "      <td>0.108072</td>\n",
       "    </tr>\n",
       "  </tbody>\n",
       "</table>\n",
       "</div>"
      ],
      "text/plain": [
       "     WikiID  merge_year                                             Genres  \\\n",
       "0    975900      2001.0  ['Thriller', 'Science Fiction', 'Horror', 'Adv...   \n",
       "3   9363483      1987.0  ['Thriller', 'Erotic thriller', 'Psychological...   \n",
       "4    261236      1983.0                                          ['Drama']   \n",
       "12  6631279      1997.0  ['Romantic comedy', 'Ensemble Film', 'Comedy-d...   \n",
       "13   171005      1989.0  ['Costume drama', 'War film', 'Epic', 'Period ...   \n",
       "\n",
       "                                  distilbert_emotions  \\\n",
       "0   {'disgust': 0.5021221041679382, 'fear': 0.3510...   \n",
       "3   {'anger': 0.5024036765098572, 'disgust': 0.324...   \n",
       "4   {'anger': 0.3256497378461063, 'disgust': 0.163...   \n",
       "12  {'sadness': 0.9155038595199585, 'neutral': 0.0...   \n",
       "13  {'neutral': 0.6794102787971497, 'surprise': 0....   \n",
       "\n",
       "                                             ActorAge  \\\n",
       "0   [42.0, 27.0, 32.0, 33.0, 23.0, 52.0, 56.0, 37....   \n",
       "3                                        [32.0, 26.0]   \n",
       "4                                  [32.0, 32.0, 35.0]   \n",
       "12               [25.0, 33.0, 37.0, 35.0, 33.0, 48.0]   \n",
       "13  [28.0, 51.0, 33.0, 26.0, 30.0, 32.0, 58.0, 53....   \n",
       "\n",
       "                                          ActorGender  \\\n",
       "0   ['F', 'F', 'M', 'M', 'F', 'F', 'F', 'M', 'M', ...   \n",
       "3                                          ['M', 'F']   \n",
       "4                                     ['F', 'M', 'M']   \n",
       "12                     ['M', 'F', 'F', 'M', 'F', 'F']   \n",
       "13  ['M', 'M', 'M', 'M', 'F', 'M', 'M', 'M', 'M', ...   \n",
       "\n",
       "                                       ActorBirthDate  \\\n",
       "0   [Timestamp('1958-08-26 00:00:00'), Timestamp('...   \n",
       "3   [Timestamp('1954-05-08 00:00:00'), Timestamp('...   \n",
       "4   [Timestamp('1950-06-20 00:00:00'), Timestamp('...   \n",
       "12  [Timestamp('1971-09-15 00:00:00'), Timestamp('...   \n",
       "13  [Timestamp('1960-12-10 00:00:00'), Timestamp('...   \n",
       "\n",
       "                                      ActorGenderFlag   disgust      fear  \\\n",
       "0   [1, 1, 0, 0, 1, 1, 1, 0, 0, 0, 0, 0, 0, 0, 0, ...  0.502122  0.351022   \n",
       "3                                              [0, 1]  0.324022  0.032032   \n",
       "4                                           [1, 0, 0]  0.163747  0.002405   \n",
       "12                                 [0, 1, 1, 0, 1, 1]  0.021709  0.010488   \n",
       "13  [0, 0, 0, 0, 1, 0, 0, 0, 0, 0, 1, 0, 0, 1, 0, ...  0.004746  0.003841   \n",
       "\n",
       "       anger   neutral   sadness  surprise       joy  \n",
       "0   0.065147  0.057085  0.018771  0.004086  0.001766  \n",
       "3   0.502404  0.096385  0.037811  0.005438  0.001907  \n",
       "4   0.325650  0.440068  0.025255  0.005851  0.037024  \n",
       "12  0.006082  0.042634  0.915504  0.002163  0.001421  \n",
       "13  0.016094  0.679410  0.057925  0.129912  0.108072  "
      ]
     },
     "execution_count": 5,
     "metadata": {},
     "output_type": "execute_result"
    }
   ],
   "source": [
    "emotions = ['disgust', 'fear', 'anger', 'neutral', 'sadness', 'surprise', 'joy']\n",
    "for emotion in emotions:\n",
    "    df[emotion] = df['distilbert_emotions'].apply(lambda x: x[emotion])\n",
    "df.head()"
   ]
  },
  {
   "cell_type": "code",
   "execution_count": 8,
   "metadata": {},
   "outputs": [
    {
     "name": "stdout",
     "output_type": "stream",
     "text": [
      "Pie chart saved as 'emotion_distribution_pie_chart_no_bg.png'\n"
     ]
    },
    {
     "data": {
      "application/vnd.plotly.v1+json": {
       "config": {
        "plotlyServerURL": "https://plot.ly"
       },
       "data": [
        {
         "domain": {
          "x": [
           0,
           1
          ],
          "y": [
           0,
           1
          ]
         },
         "hovertemplate": "label=%{label}<br>value=%{value}<extra></extra>",
         "labels": [
          "disgust",
          "fear",
          "anger",
          "neutral",
          "sadness",
          "surprise",
          "joy"
         ],
         "legendgroup": "",
         "name": "",
         "showlegend": true,
         "type": "pie",
         "values": [
          5987.811251761721,
          5026.885854702652,
          6687.5977716026355,
          7386.437953212907,
          5482.150430267871,
          1581.3743706293412,
          1531.7423807117798
         ]
        }
       ],
       "layout": {
        "legend": {
         "font": {
          "color": "white"
         },
         "tracegroupgap": 0
        },
        "paper_bgcolor": "rgba(0,0,0,0)",
        "plot_bgcolor": "rgba(0,0,0,0)",
        "template": {
         "data": {
          "bar": [
           {
            "error_x": {
             "color": "#2a3f5f"
            },
            "error_y": {
             "color": "#2a3f5f"
            },
            "marker": {
             "line": {
              "color": "#E5ECF6",
              "width": 0.5
             },
             "pattern": {
              "fillmode": "overlay",
              "size": 10,
              "solidity": 0.2
             }
            },
            "type": "bar"
           }
          ],
          "barpolar": [
           {
            "marker": {
             "line": {
              "color": "#E5ECF6",
              "width": 0.5
             },
             "pattern": {
              "fillmode": "overlay",
              "size": 10,
              "solidity": 0.2
             }
            },
            "type": "barpolar"
           }
          ],
          "carpet": [
           {
            "aaxis": {
             "endlinecolor": "#2a3f5f",
             "gridcolor": "white",
             "linecolor": "white",
             "minorgridcolor": "white",
             "startlinecolor": "#2a3f5f"
            },
            "baxis": {
             "endlinecolor": "#2a3f5f",
             "gridcolor": "white",
             "linecolor": "white",
             "minorgridcolor": "white",
             "startlinecolor": "#2a3f5f"
            },
            "type": "carpet"
           }
          ],
          "choropleth": [
           {
            "colorbar": {
             "outlinewidth": 0,
             "ticks": ""
            },
            "type": "choropleth"
           }
          ],
          "contour": [
           {
            "colorbar": {
             "outlinewidth": 0,
             "ticks": ""
            },
            "colorscale": [
             [
              0,
              "#0d0887"
             ],
             [
              0.1111111111111111,
              "#46039f"
             ],
             [
              0.2222222222222222,
              "#7201a8"
             ],
             [
              0.3333333333333333,
              "#9c179e"
             ],
             [
              0.4444444444444444,
              "#bd3786"
             ],
             [
              0.5555555555555556,
              "#d8576b"
             ],
             [
              0.6666666666666666,
              "#ed7953"
             ],
             [
              0.7777777777777778,
              "#fb9f3a"
             ],
             [
              0.8888888888888888,
              "#fdca26"
             ],
             [
              1,
              "#f0f921"
             ]
            ],
            "type": "contour"
           }
          ],
          "contourcarpet": [
           {
            "colorbar": {
             "outlinewidth": 0,
             "ticks": ""
            },
            "type": "contourcarpet"
           }
          ],
          "heatmap": [
           {
            "colorbar": {
             "outlinewidth": 0,
             "ticks": ""
            },
            "colorscale": [
             [
              0,
              "#0d0887"
             ],
             [
              0.1111111111111111,
              "#46039f"
             ],
             [
              0.2222222222222222,
              "#7201a8"
             ],
             [
              0.3333333333333333,
              "#9c179e"
             ],
             [
              0.4444444444444444,
              "#bd3786"
             ],
             [
              0.5555555555555556,
              "#d8576b"
             ],
             [
              0.6666666666666666,
              "#ed7953"
             ],
             [
              0.7777777777777778,
              "#fb9f3a"
             ],
             [
              0.8888888888888888,
              "#fdca26"
             ],
             [
              1,
              "#f0f921"
             ]
            ],
            "type": "heatmap"
           }
          ],
          "heatmapgl": [
           {
            "colorbar": {
             "outlinewidth": 0,
             "ticks": ""
            },
            "colorscale": [
             [
              0,
              "#0d0887"
             ],
             [
              0.1111111111111111,
              "#46039f"
             ],
             [
              0.2222222222222222,
              "#7201a8"
             ],
             [
              0.3333333333333333,
              "#9c179e"
             ],
             [
              0.4444444444444444,
              "#bd3786"
             ],
             [
              0.5555555555555556,
              "#d8576b"
             ],
             [
              0.6666666666666666,
              "#ed7953"
             ],
             [
              0.7777777777777778,
              "#fb9f3a"
             ],
             [
              0.8888888888888888,
              "#fdca26"
             ],
             [
              1,
              "#f0f921"
             ]
            ],
            "type": "heatmapgl"
           }
          ],
          "histogram": [
           {
            "marker": {
             "pattern": {
              "fillmode": "overlay",
              "size": 10,
              "solidity": 0.2
             }
            },
            "type": "histogram"
           }
          ],
          "histogram2d": [
           {
            "colorbar": {
             "outlinewidth": 0,
             "ticks": ""
            },
            "colorscale": [
             [
              0,
              "#0d0887"
             ],
             [
              0.1111111111111111,
              "#46039f"
             ],
             [
              0.2222222222222222,
              "#7201a8"
             ],
             [
              0.3333333333333333,
              "#9c179e"
             ],
             [
              0.4444444444444444,
              "#bd3786"
             ],
             [
              0.5555555555555556,
              "#d8576b"
             ],
             [
              0.6666666666666666,
              "#ed7953"
             ],
             [
              0.7777777777777778,
              "#fb9f3a"
             ],
             [
              0.8888888888888888,
              "#fdca26"
             ],
             [
              1,
              "#f0f921"
             ]
            ],
            "type": "histogram2d"
           }
          ],
          "histogram2dcontour": [
           {
            "colorbar": {
             "outlinewidth": 0,
             "ticks": ""
            },
            "colorscale": [
             [
              0,
              "#0d0887"
             ],
             [
              0.1111111111111111,
              "#46039f"
             ],
             [
              0.2222222222222222,
              "#7201a8"
             ],
             [
              0.3333333333333333,
              "#9c179e"
             ],
             [
              0.4444444444444444,
              "#bd3786"
             ],
             [
              0.5555555555555556,
              "#d8576b"
             ],
             [
              0.6666666666666666,
              "#ed7953"
             ],
             [
              0.7777777777777778,
              "#fb9f3a"
             ],
             [
              0.8888888888888888,
              "#fdca26"
             ],
             [
              1,
              "#f0f921"
             ]
            ],
            "type": "histogram2dcontour"
           }
          ],
          "mesh3d": [
           {
            "colorbar": {
             "outlinewidth": 0,
             "ticks": ""
            },
            "type": "mesh3d"
           }
          ],
          "parcoords": [
           {
            "line": {
             "colorbar": {
              "outlinewidth": 0,
              "ticks": ""
             }
            },
            "type": "parcoords"
           }
          ],
          "pie": [
           {
            "automargin": true,
            "type": "pie"
           }
          ],
          "scatter": [
           {
            "fillpattern": {
             "fillmode": "overlay",
             "size": 10,
             "solidity": 0.2
            },
            "type": "scatter"
           }
          ],
          "scatter3d": [
           {
            "line": {
             "colorbar": {
              "outlinewidth": 0,
              "ticks": ""
             }
            },
            "marker": {
             "colorbar": {
              "outlinewidth": 0,
              "ticks": ""
             }
            },
            "type": "scatter3d"
           }
          ],
          "scattercarpet": [
           {
            "marker": {
             "colorbar": {
              "outlinewidth": 0,
              "ticks": ""
             }
            },
            "type": "scattercarpet"
           }
          ],
          "scattergeo": [
           {
            "marker": {
             "colorbar": {
              "outlinewidth": 0,
              "ticks": ""
             }
            },
            "type": "scattergeo"
           }
          ],
          "scattergl": [
           {
            "marker": {
             "colorbar": {
              "outlinewidth": 0,
              "ticks": ""
             }
            },
            "type": "scattergl"
           }
          ],
          "scattermapbox": [
           {
            "marker": {
             "colorbar": {
              "outlinewidth": 0,
              "ticks": ""
             }
            },
            "type": "scattermapbox"
           }
          ],
          "scatterpolar": [
           {
            "marker": {
             "colorbar": {
              "outlinewidth": 0,
              "ticks": ""
             }
            },
            "type": "scatterpolar"
           }
          ],
          "scatterpolargl": [
           {
            "marker": {
             "colorbar": {
              "outlinewidth": 0,
              "ticks": ""
             }
            },
            "type": "scatterpolargl"
           }
          ],
          "scatterternary": [
           {
            "marker": {
             "colorbar": {
              "outlinewidth": 0,
              "ticks": ""
             }
            },
            "type": "scatterternary"
           }
          ],
          "surface": [
           {
            "colorbar": {
             "outlinewidth": 0,
             "ticks": ""
            },
            "colorscale": [
             [
              0,
              "#0d0887"
             ],
             [
              0.1111111111111111,
              "#46039f"
             ],
             [
              0.2222222222222222,
              "#7201a8"
             ],
             [
              0.3333333333333333,
              "#9c179e"
             ],
             [
              0.4444444444444444,
              "#bd3786"
             ],
             [
              0.5555555555555556,
              "#d8576b"
             ],
             [
              0.6666666666666666,
              "#ed7953"
             ],
             [
              0.7777777777777778,
              "#fb9f3a"
             ],
             [
              0.8888888888888888,
              "#fdca26"
             ],
             [
              1,
              "#f0f921"
             ]
            ],
            "type": "surface"
           }
          ],
          "table": [
           {
            "cells": {
             "fill": {
              "color": "#EBF0F8"
             },
             "line": {
              "color": "white"
             }
            },
            "header": {
             "fill": {
              "color": "#C8D4E3"
             },
             "line": {
              "color": "white"
             }
            },
            "type": "table"
           }
          ]
         },
         "layout": {
          "annotationdefaults": {
           "arrowcolor": "#2a3f5f",
           "arrowhead": 0,
           "arrowwidth": 1
          },
          "autotypenumbers": "strict",
          "coloraxis": {
           "colorbar": {
            "outlinewidth": 0,
            "ticks": ""
           }
          },
          "colorscale": {
           "diverging": [
            [
             0,
             "#8e0152"
            ],
            [
             0.1,
             "#c51b7d"
            ],
            [
             0.2,
             "#de77ae"
            ],
            [
             0.3,
             "#f1b6da"
            ],
            [
             0.4,
             "#fde0ef"
            ],
            [
             0.5,
             "#f7f7f7"
            ],
            [
             0.6,
             "#e6f5d0"
            ],
            [
             0.7,
             "#b8e186"
            ],
            [
             0.8,
             "#7fbc41"
            ],
            [
             0.9,
             "#4d9221"
            ],
            [
             1,
             "#276419"
            ]
           ],
           "sequential": [
            [
             0,
             "#0d0887"
            ],
            [
             0.1111111111111111,
             "#46039f"
            ],
            [
             0.2222222222222222,
             "#7201a8"
            ],
            [
             0.3333333333333333,
             "#9c179e"
            ],
            [
             0.4444444444444444,
             "#bd3786"
            ],
            [
             0.5555555555555556,
             "#d8576b"
            ],
            [
             0.6666666666666666,
             "#ed7953"
            ],
            [
             0.7777777777777778,
             "#fb9f3a"
            ],
            [
             0.8888888888888888,
             "#fdca26"
            ],
            [
             1,
             "#f0f921"
            ]
           ],
           "sequentialminus": [
            [
             0,
             "#0d0887"
            ],
            [
             0.1111111111111111,
             "#46039f"
            ],
            [
             0.2222222222222222,
             "#7201a8"
            ],
            [
             0.3333333333333333,
             "#9c179e"
            ],
            [
             0.4444444444444444,
             "#bd3786"
            ],
            [
             0.5555555555555556,
             "#d8576b"
            ],
            [
             0.6666666666666666,
             "#ed7953"
            ],
            [
             0.7777777777777778,
             "#fb9f3a"
            ],
            [
             0.8888888888888888,
             "#fdca26"
            ],
            [
             1,
             "#f0f921"
            ]
           ]
          },
          "colorway": [
           "#636efa",
           "#EF553B",
           "#00cc96",
           "#ab63fa",
           "#FFA15A",
           "#19d3f3",
           "#FF6692",
           "#B6E880",
           "#FF97FF",
           "#FECB52"
          ],
          "font": {
           "color": "#2a3f5f"
          },
          "geo": {
           "bgcolor": "white",
           "lakecolor": "white",
           "landcolor": "#E5ECF6",
           "showlakes": true,
           "showland": true,
           "subunitcolor": "white"
          },
          "hoverlabel": {
           "align": "left"
          },
          "hovermode": "closest",
          "mapbox": {
           "style": "light"
          },
          "paper_bgcolor": "white",
          "plot_bgcolor": "#E5ECF6",
          "polar": {
           "angularaxis": {
            "gridcolor": "white",
            "linecolor": "white",
            "ticks": ""
           },
           "bgcolor": "#E5ECF6",
           "radialaxis": {
            "gridcolor": "white",
            "linecolor": "white",
            "ticks": ""
           }
          },
          "scene": {
           "xaxis": {
            "backgroundcolor": "#E5ECF6",
            "gridcolor": "white",
            "gridwidth": 2,
            "linecolor": "white",
            "showbackground": true,
            "ticks": "",
            "zerolinecolor": "white"
           },
           "yaxis": {
            "backgroundcolor": "#E5ECF6",
            "gridcolor": "white",
            "gridwidth": 2,
            "linecolor": "white",
            "showbackground": true,
            "ticks": "",
            "zerolinecolor": "white"
           },
           "zaxis": {
            "backgroundcolor": "#E5ECF6",
            "gridcolor": "white",
            "gridwidth": 2,
            "linecolor": "white",
            "showbackground": true,
            "ticks": "",
            "zerolinecolor": "white"
           }
          },
          "shapedefaults": {
           "line": {
            "color": "#2a3f5f"
           }
          },
          "ternary": {
           "aaxis": {
            "gridcolor": "white",
            "linecolor": "white",
            "ticks": ""
           },
           "baxis": {
            "gridcolor": "white",
            "linecolor": "white",
            "ticks": ""
           },
           "bgcolor": "#E5ECF6",
           "caxis": {
            "gridcolor": "white",
            "linecolor": "white",
            "ticks": ""
           }
          },
          "title": {
           "x": 0.05
          },
          "xaxis": {
           "automargin": true,
           "gridcolor": "white",
           "linecolor": "white",
           "ticks": "",
           "title": {
            "standoff": 15
           },
           "zerolinecolor": "white",
           "zerolinewidth": 2
          },
          "yaxis": {
           "automargin": true,
           "gridcolor": "white",
           "linecolor": "white",
           "ticks": "",
           "title": {
            "standoff": 15
           },
           "zerolinecolor": "white",
           "zerolinewidth": 2
          }
         }
        },
        "title": {
         "font": {
          "color": "white"
         },
         "text": "Emotion Distribution Across All Movies"
        }
       }
      }
     },
     "metadata": {},
     "output_type": "display_data"
    }
   ],
   "source": [
    "import plotly.express as px\n",
    "\n",
    "emotion_sums = df[['disgust', 'fear', 'anger', 'neutral', 'sadness', 'surprise', 'joy']].sum()\n",
    "fig = px.pie(\n",
    "    names=emotion_sums.index, \n",
    "    values=emotion_sums.values, \n",
    "    title=\"Emotion Distribution Across All Movies\"\n",
    ")\n",
    "fig.update_layout(\n",
    "    paper_bgcolor='rgba(0,0,0,0)',  # Transparent background for the paper\n",
    "    plot_bgcolor='rgba(0,0,0,0)',   # Transparent background for the plot\n",
    "    title_font=dict(color=\"white\"), # White color for the title\n",
    "    legend_font=dict(color=\"white\") # White color for the legend text\n",
    ")\n",
    "\n",
    "# Save the chart as a PNG image\n",
    "fig.write_image(\"emotion_distribution_pie_chart_no_bg.png\")\n",
    "\n",
    "print(\"Pie chart saved as 'emotion_distribution_pie_chart_no_bg.png'\")\n",
    "\n",
    "fig.show()"
   ]
  },
  {
   "cell_type": "code",
   "execution_count": null,
   "metadata": {},
   "outputs": [],
   "source": []
  }
 ],
 "metadata": {
  "kernelspec": {
   "display_name": "ada_project",
   "language": "python",
   "name": "python3"
  },
  "language_info": {
   "codemirror_mode": {
    "name": "ipython",
    "version": 3
   },
   "file_extension": ".py",
   "mimetype": "text/x-python",
   "name": "python",
   "nbconvert_exporter": "python",
   "pygments_lexer": "ipython3",
   "version": "3.11.10"
  }
 },
 "nbformat": 4,
 "nbformat_minor": 2
}
