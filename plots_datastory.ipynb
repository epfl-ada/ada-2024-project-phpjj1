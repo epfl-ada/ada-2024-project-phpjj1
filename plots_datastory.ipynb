{
 "cells": [
  {
   "cell_type": "code",
   "execution_count": 1,
   "metadata": {},
   "outputs": [],
   "source": [
    "import pandas as pd \n",
    "import numpy as np \n",
    "import matplotlib.pyplot as plt \n",
    "import seaborn as sns\n",
    "import sys\n",
    "import statsmodels.formula.api as smf"
   ]
  },
  {
   "cell_type": "code",
   "execution_count": 2,
   "metadata": {},
   "outputs": [],
   "source": [
    "sns.set_theme(style=\"whitegrid\")"
   ]
  },
  {
   "cell_type": "code",
   "execution_count": 3,
   "metadata": {},
   "outputs": [],
   "source": [
    "import ast"
   ]
  },
  {
   "cell_type": "code",
   "execution_count": 4,
   "metadata": {},
   "outputs": [
    {
     "name": "stdout",
     "output_type": "stream",
     "text": [
      "Number of rows 33684\n"
     ]
    },
    {
     "data": {
      "text/html": [
       "<div>\n",
       "<style scoped>\n",
       "    .dataframe tbody tr th:only-of-type {\n",
       "        vertical-align: middle;\n",
       "    }\n",
       "\n",
       "    .dataframe tbody tr th {\n",
       "        vertical-align: top;\n",
       "    }\n",
       "\n",
       "    .dataframe thead th {\n",
       "        text-align: right;\n",
       "    }\n",
       "</style>\n",
       "<table border=\"1\" class=\"dataframe\">\n",
       "  <thead>\n",
       "    <tr style=\"text-align: right;\">\n",
       "      <th></th>\n",
       "      <th>WikiID</th>\n",
       "      <th>merge_year</th>\n",
       "      <th>Genres</th>\n",
       "      <th>distilbert_emotions</th>\n",
       "      <th>ActorAge</th>\n",
       "      <th>ActorGender</th>\n",
       "      <th>ActorBirthDate</th>\n",
       "      <th>ActorGenderFlag</th>\n",
       "    </tr>\n",
       "  </thead>\n",
       "  <tbody>\n",
       "    <tr>\n",
       "      <th>0</th>\n",
       "      <td>975900</td>\n",
       "      <td>2001.0</td>\n",
       "      <td>['Thriller', 'Science Fiction', 'Horror', 'Adv...</td>\n",
       "      <td>{'disgust': 0.5021221041679382, 'fear': 0.3510...</td>\n",
       "      <td>[42.0, 27.0, 32.0, 33.0, 23.0, 52.0, 56.0, 37....</td>\n",
       "      <td>['F', 'F', 'M', 'M', 'F', 'F', 'F', 'M', 'M', ...</td>\n",
       "      <td>[Timestamp('1958-08-26 00:00:00'), Timestamp('...</td>\n",
       "      <td>[1, 1, 0, 0, 1, 1, 1, 0, 0, 0, 0, 0, 0, 0, 0, ...</td>\n",
       "    </tr>\n",
       "    <tr>\n",
       "      <th>3</th>\n",
       "      <td>9363483</td>\n",
       "      <td>1987.0</td>\n",
       "      <td>['Thriller', 'Erotic thriller', 'Psychological...</td>\n",
       "      <td>{'anger': 0.5024036765098572, 'disgust': 0.324...</td>\n",
       "      <td>[32.0, 26.0]</td>\n",
       "      <td>['M', 'F']</td>\n",
       "      <td>[Timestamp('1954-05-08 00:00:00'), Timestamp('...</td>\n",
       "      <td>[0, 1]</td>\n",
       "    </tr>\n",
       "    <tr>\n",
       "      <th>4</th>\n",
       "      <td>261236</td>\n",
       "      <td>1983.0</td>\n",
       "      <td>['Drama']</td>\n",
       "      <td>{'anger': 0.3256497378461063, 'disgust': 0.163...</td>\n",
       "      <td>[32.0, 32.0, 35.0]</td>\n",
       "      <td>['F', 'M', 'M']</td>\n",
       "      <td>[Timestamp('1950-06-20 00:00:00'), Timestamp('...</td>\n",
       "      <td>[1, 0, 0]</td>\n",
       "    </tr>\n",
       "    <tr>\n",
       "      <th>12</th>\n",
       "      <td>6631279</td>\n",
       "      <td>1997.0</td>\n",
       "      <td>['Romantic comedy', 'Ensemble Film', 'Comedy-d...</td>\n",
       "      <td>{'sadness': 0.9155038595199585, 'neutral': 0.0...</td>\n",
       "      <td>[25.0, 33.0, 37.0, 35.0, 33.0, 48.0]</td>\n",
       "      <td>['M', 'F', 'F', 'M', 'F', 'F']</td>\n",
       "      <td>[Timestamp('1971-09-15 00:00:00'), Timestamp('...</td>\n",
       "      <td>[0, 1, 1, 0, 1, 1]</td>\n",
       "    </tr>\n",
       "    <tr>\n",
       "      <th>13</th>\n",
       "      <td>171005</td>\n",
       "      <td>1989.0</td>\n",
       "      <td>['Costume drama', 'War film', 'Epic', 'Period ...</td>\n",
       "      <td>{'neutral': 0.6794102787971497, 'surprise': 0....</td>\n",
       "      <td>[28.0, 51.0, 33.0, 26.0, 30.0, 32.0, 58.0, 53....</td>\n",
       "      <td>['M', 'M', 'M', 'M', 'F', 'M', 'M', 'M', 'M', ...</td>\n",
       "      <td>[Timestamp('1960-12-10 00:00:00'), Timestamp('...</td>\n",
       "      <td>[0, 0, 0, 0, 1, 0, 0, 0, 0, 0, 1, 0, 0, 1, 0, ...</td>\n",
       "    </tr>\n",
       "  </tbody>\n",
       "</table>\n",
       "</div>"
      ],
      "text/plain": [
       "     WikiID  merge_year                                             Genres  \\\n",
       "0    975900      2001.0  ['Thriller', 'Science Fiction', 'Horror', 'Adv...   \n",
       "3   9363483      1987.0  ['Thriller', 'Erotic thriller', 'Psychological...   \n",
       "4    261236      1983.0                                          ['Drama']   \n",
       "12  6631279      1997.0  ['Romantic comedy', 'Ensemble Film', 'Comedy-d...   \n",
       "13   171005      1989.0  ['Costume drama', 'War film', 'Epic', 'Period ...   \n",
       "\n",
       "                                  distilbert_emotions  \\\n",
       "0   {'disgust': 0.5021221041679382, 'fear': 0.3510...   \n",
       "3   {'anger': 0.5024036765098572, 'disgust': 0.324...   \n",
       "4   {'anger': 0.3256497378461063, 'disgust': 0.163...   \n",
       "12  {'sadness': 0.9155038595199585, 'neutral': 0.0...   \n",
       "13  {'neutral': 0.6794102787971497, 'surprise': 0....   \n",
       "\n",
       "                                             ActorAge  \\\n",
       "0   [42.0, 27.0, 32.0, 33.0, 23.0, 52.0, 56.0, 37....   \n",
       "3                                        [32.0, 26.0]   \n",
       "4                                  [32.0, 32.0, 35.0]   \n",
       "12               [25.0, 33.0, 37.0, 35.0, 33.0, 48.0]   \n",
       "13  [28.0, 51.0, 33.0, 26.0, 30.0, 32.0, 58.0, 53....   \n",
       "\n",
       "                                          ActorGender  \\\n",
       "0   ['F', 'F', 'M', 'M', 'F', 'F', 'F', 'M', 'M', ...   \n",
       "3                                          ['M', 'F']   \n",
       "4                                     ['F', 'M', 'M']   \n",
       "12                     ['M', 'F', 'F', 'M', 'F', 'F']   \n",
       "13  ['M', 'M', 'M', 'M', 'F', 'M', 'M', 'M', 'M', ...   \n",
       "\n",
       "                                       ActorBirthDate  \\\n",
       "0   [Timestamp('1958-08-26 00:00:00'), Timestamp('...   \n",
       "3   [Timestamp('1954-05-08 00:00:00'), Timestamp('...   \n",
       "4   [Timestamp('1950-06-20 00:00:00'), Timestamp('...   \n",
       "12  [Timestamp('1971-09-15 00:00:00'), Timestamp('...   \n",
       "13  [Timestamp('1960-12-10 00:00:00'), Timestamp('...   \n",
       "\n",
       "                                      ActorGenderFlag  \n",
       "0   [1, 1, 0, 0, 1, 1, 1, 0, 0, 0, 0, 0, 0, 0, 0, ...  \n",
       "3                                              [0, 1]  \n",
       "4                                           [1, 0, 0]  \n",
       "12                                 [0, 1, 1, 0, 1, 1]  \n",
       "13  [0, 0, 0, 0, 1, 0, 0, 0, 0, 0, 1, 0, 0, 1, 0, ...  "
      ]
     },
     "execution_count": 4,
     "metadata": {},
     "output_type": "execute_result"
    }
   ],
   "source": [
    "PREFIX_PATH = 'data'\n",
    "df = pd.read_csv(f'{PREFIX_PATH}/final_data_complete.csv')\n",
    "df = df[['WikiID', 'merge_year', 'Genres', 'distilbert_emotions', 'ActorAge', 'ActorGender', 'ActorBirthDate', 'ActorGenderFlag']].copy()\n",
    "\n",
    "df = df.dropna(subset=['distilbert_emotions'])\n",
    "print(\"Number of rows\", len(df))\n",
    "df['distilbert_emotions'] = df['distilbert_emotions'].apply(lambda x: {} if pd.isna(x) else ast.literal_eval(x))\n",
    "df.head()"
   ]
  },
  {
   "cell_type": "code",
   "execution_count": 5,
   "metadata": {},
   "outputs": [
    {
     "data": {
      "text/html": [
       "<div>\n",
       "<style scoped>\n",
       "    .dataframe tbody tr th:only-of-type {\n",
       "        vertical-align: middle;\n",
       "    }\n",
       "\n",
       "    .dataframe tbody tr th {\n",
       "        vertical-align: top;\n",
       "    }\n",
       "\n",
       "    .dataframe thead th {\n",
       "        text-align: right;\n",
       "    }\n",
       "</style>\n",
       "<table border=\"1\" class=\"dataframe\">\n",
       "  <thead>\n",
       "    <tr style=\"text-align: right;\">\n",
       "      <th></th>\n",
       "      <th>WikiID</th>\n",
       "      <th>merge_year</th>\n",
       "      <th>Genres</th>\n",
       "      <th>distilbert_emotions</th>\n",
       "      <th>ActorAge</th>\n",
       "      <th>ActorGender</th>\n",
       "      <th>ActorBirthDate</th>\n",
       "      <th>ActorGenderFlag</th>\n",
       "      <th>disgust</th>\n",
       "      <th>fear</th>\n",
       "      <th>anger</th>\n",
       "      <th>neutral</th>\n",
       "      <th>sadness</th>\n",
       "      <th>surprise</th>\n",
       "      <th>joy</th>\n",
       "    </tr>\n",
       "  </thead>\n",
       "  <tbody>\n",
       "    <tr>\n",
       "      <th>0</th>\n",
       "      <td>975900</td>\n",
       "      <td>2001.0</td>\n",
       "      <td>['Thriller', 'Science Fiction', 'Horror', 'Adv...</td>\n",
       "      <td>{'disgust': 0.5021221041679382, 'fear': 0.3510...</td>\n",
       "      <td>[42.0, 27.0, 32.0, 33.0, 23.0, 52.0, 56.0, 37....</td>\n",
       "      <td>['F', 'F', 'M', 'M', 'F', 'F', 'F', 'M', 'M', ...</td>\n",
       "      <td>[Timestamp('1958-08-26 00:00:00'), Timestamp('...</td>\n",
       "      <td>[1, 1, 0, 0, 1, 1, 1, 0, 0, 0, 0, 0, 0, 0, 0, ...</td>\n",
       "      <td>0.502122</td>\n",
       "      <td>0.351022</td>\n",
       "      <td>0.065147</td>\n",
       "      <td>0.057085</td>\n",
       "      <td>0.018771</td>\n",
       "      <td>0.004086</td>\n",
       "      <td>0.001766</td>\n",
       "    </tr>\n",
       "    <tr>\n",
       "      <th>3</th>\n",
       "      <td>9363483</td>\n",
       "      <td>1987.0</td>\n",
       "      <td>['Thriller', 'Erotic thriller', 'Psychological...</td>\n",
       "      <td>{'anger': 0.5024036765098572, 'disgust': 0.324...</td>\n",
       "      <td>[32.0, 26.0]</td>\n",
       "      <td>['M', 'F']</td>\n",
       "      <td>[Timestamp('1954-05-08 00:00:00'), Timestamp('...</td>\n",
       "      <td>[0, 1]</td>\n",
       "      <td>0.324022</td>\n",
       "      <td>0.032032</td>\n",
       "      <td>0.502404</td>\n",
       "      <td>0.096385</td>\n",
       "      <td>0.037811</td>\n",
       "      <td>0.005438</td>\n",
       "      <td>0.001907</td>\n",
       "    </tr>\n",
       "    <tr>\n",
       "      <th>4</th>\n",
       "      <td>261236</td>\n",
       "      <td>1983.0</td>\n",
       "      <td>['Drama']</td>\n",
       "      <td>{'anger': 0.3256497378461063, 'disgust': 0.163...</td>\n",
       "      <td>[32.0, 32.0, 35.0]</td>\n",
       "      <td>['F', 'M', 'M']</td>\n",
       "      <td>[Timestamp('1950-06-20 00:00:00'), Timestamp('...</td>\n",
       "      <td>[1, 0, 0]</td>\n",
       "      <td>0.163747</td>\n",
       "      <td>0.002405</td>\n",
       "      <td>0.325650</td>\n",
       "      <td>0.440068</td>\n",
       "      <td>0.025255</td>\n",
       "      <td>0.005851</td>\n",
       "      <td>0.037024</td>\n",
       "    </tr>\n",
       "    <tr>\n",
       "      <th>12</th>\n",
       "      <td>6631279</td>\n",
       "      <td>1997.0</td>\n",
       "      <td>['Romantic comedy', 'Ensemble Film', 'Comedy-d...</td>\n",
       "      <td>{'sadness': 0.9155038595199585, 'neutral': 0.0...</td>\n",
       "      <td>[25.0, 33.0, 37.0, 35.0, 33.0, 48.0]</td>\n",
       "      <td>['M', 'F', 'F', 'M', 'F', 'F']</td>\n",
       "      <td>[Timestamp('1971-09-15 00:00:00'), Timestamp('...</td>\n",
       "      <td>[0, 1, 1, 0, 1, 1]</td>\n",
       "      <td>0.021709</td>\n",
       "      <td>0.010488</td>\n",
       "      <td>0.006082</td>\n",
       "      <td>0.042634</td>\n",
       "      <td>0.915504</td>\n",
       "      <td>0.002163</td>\n",
       "      <td>0.001421</td>\n",
       "    </tr>\n",
       "    <tr>\n",
       "      <th>13</th>\n",
       "      <td>171005</td>\n",
       "      <td>1989.0</td>\n",
       "      <td>['Costume drama', 'War film', 'Epic', 'Period ...</td>\n",
       "      <td>{'neutral': 0.6794102787971497, 'surprise': 0....</td>\n",
       "      <td>[28.0, 51.0, 33.0, 26.0, 30.0, 32.0, 58.0, 53....</td>\n",
       "      <td>['M', 'M', 'M', 'M', 'F', 'M', 'M', 'M', 'M', ...</td>\n",
       "      <td>[Timestamp('1960-12-10 00:00:00'), Timestamp('...</td>\n",
       "      <td>[0, 0, 0, 0, 1, 0, 0, 0, 0, 0, 1, 0, 0, 1, 0, ...</td>\n",
       "      <td>0.004746</td>\n",
       "      <td>0.003841</td>\n",
       "      <td>0.016094</td>\n",
       "      <td>0.679410</td>\n",
       "      <td>0.057925</td>\n",
       "      <td>0.129912</td>\n",
       "      <td>0.108072</td>\n",
       "    </tr>\n",
       "  </tbody>\n",
       "</table>\n",
       "</div>"
      ],
      "text/plain": [
       "     WikiID  merge_year                                             Genres  \\\n",
       "0    975900      2001.0  ['Thriller', 'Science Fiction', 'Horror', 'Adv...   \n",
       "3   9363483      1987.0  ['Thriller', 'Erotic thriller', 'Psychological...   \n",
       "4    261236      1983.0                                          ['Drama']   \n",
       "12  6631279      1997.0  ['Romantic comedy', 'Ensemble Film', 'Comedy-d...   \n",
       "13   171005      1989.0  ['Costume drama', 'War film', 'Epic', 'Period ...   \n",
       "\n",
       "                                  distilbert_emotions  \\\n",
       "0   {'disgust': 0.5021221041679382, 'fear': 0.3510...   \n",
       "3   {'anger': 0.5024036765098572, 'disgust': 0.324...   \n",
       "4   {'anger': 0.3256497378461063, 'disgust': 0.163...   \n",
       "12  {'sadness': 0.9155038595199585, 'neutral': 0.0...   \n",
       "13  {'neutral': 0.6794102787971497, 'surprise': 0....   \n",
       "\n",
       "                                             ActorAge  \\\n",
       "0   [42.0, 27.0, 32.0, 33.0, 23.0, 52.0, 56.0, 37....   \n",
       "3                                        [32.0, 26.0]   \n",
       "4                                  [32.0, 32.0, 35.0]   \n",
       "12               [25.0, 33.0, 37.0, 35.0, 33.0, 48.0]   \n",
       "13  [28.0, 51.0, 33.0, 26.0, 30.0, 32.0, 58.0, 53....   \n",
       "\n",
       "                                          ActorGender  \\\n",
       "0   ['F', 'F', 'M', 'M', 'F', 'F', 'F', 'M', 'M', ...   \n",
       "3                                          ['M', 'F']   \n",
       "4                                     ['F', 'M', 'M']   \n",
       "12                     ['M', 'F', 'F', 'M', 'F', 'F']   \n",
       "13  ['M', 'M', 'M', 'M', 'F', 'M', 'M', 'M', 'M', ...   \n",
       "\n",
       "                                       ActorBirthDate  \\\n",
       "0   [Timestamp('1958-08-26 00:00:00'), Timestamp('...   \n",
       "3   [Timestamp('1954-05-08 00:00:00'), Timestamp('...   \n",
       "4   [Timestamp('1950-06-20 00:00:00'), Timestamp('...   \n",
       "12  [Timestamp('1971-09-15 00:00:00'), Timestamp('...   \n",
       "13  [Timestamp('1960-12-10 00:00:00'), Timestamp('...   \n",
       "\n",
       "                                      ActorGenderFlag   disgust      fear  \\\n",
       "0   [1, 1, 0, 0, 1, 1, 1, 0, 0, 0, 0, 0, 0, 0, 0, ...  0.502122  0.351022   \n",
       "3                                              [0, 1]  0.324022  0.032032   \n",
       "4                                           [1, 0, 0]  0.163747  0.002405   \n",
       "12                                 [0, 1, 1, 0, 1, 1]  0.021709  0.010488   \n",
       "13  [0, 0, 0, 0, 1, 0, 0, 0, 0, 0, 1, 0, 0, 1, 0, ...  0.004746  0.003841   \n",
       "\n",
       "       anger   neutral   sadness  surprise       joy  \n",
       "0   0.065147  0.057085  0.018771  0.004086  0.001766  \n",
       "3   0.502404  0.096385  0.037811  0.005438  0.001907  \n",
       "4   0.325650  0.440068  0.025255  0.005851  0.037024  \n",
       "12  0.006082  0.042634  0.915504  0.002163  0.001421  \n",
       "13  0.016094  0.679410  0.057925  0.129912  0.108072  "
      ]
     },
     "execution_count": 5,
     "metadata": {},
     "output_type": "execute_result"
    }
   ],
   "source": [
    "emotions = ['disgust', 'fear', 'anger', 'neutral', 'sadness', 'surprise', 'joy']\n",
    "for emotion in emotions:\n",
    "    df[emotion] = df['distilbert_emotions'].apply(lambda x: x[emotion])\n",
    "df.head()"
   ]
  },
  {
   "cell_type": "code",
   "execution_count": 6,
   "metadata": {},
   "outputs": [
    {
     "name": "stdout",
     "output_type": "stream",
     "text": [
      "Pie chart saved as 'emotion_distribution_pie_chart_no_bg.png'\n"
     ]
    },
    {
     "data": {
      "application/vnd.plotly.v1+json": {
       "config": {
        "plotlyServerURL": "https://plot.ly"
       },
       "data": [
        {
         "domain": {
          "x": [
           0,
           1
          ],
          "y": [
           0,
           1
          ]
         },
         "hovertemplate": "label=%{label}<br>value=%{value}<extra></extra>",
         "labels": [
          "disgust",
          "fear",
          "anger",
          "neutral",
          "sadness",
          "surprise",
          "joy"
         ],
         "legendgroup": "",
         "name": "",
         "showlegend": true,
         "type": "pie",
         "values": [
          5987.811251761721,
          5026.885854702652,
          6687.5977716026355,
          7386.437953212907,
          5482.150430267871,
          1581.3743706293412,
          1531.7423807117798
         ]
        }
       ],
       "layout": {
        "legend": {
         "font": {
          "color": "white"
         },
         "tracegroupgap": 0
        },
        "paper_bgcolor": "rgba(0,0,0,0)",
        "plot_bgcolor": "rgba(0,0,0,0)",
        "template": {
         "data": {
          "bar": [
           {
            "error_x": {
             "color": "#2a3f5f"
            },
            "error_y": {
             "color": "#2a3f5f"
            },
            "marker": {
             "line": {
              "color": "#E5ECF6",
              "width": 0.5
             },
             "pattern": {
              "fillmode": "overlay",
              "size": 10,
              "solidity": 0.2
             }
            },
            "type": "bar"
           }
          ],
          "barpolar": [
           {
            "marker": {
             "line": {
              "color": "#E5ECF6",
              "width": 0.5
             },
             "pattern": {
              "fillmode": "overlay",
              "size": 10,
              "solidity": 0.2
             }
            },
            "type": "barpolar"
           }
          ],
          "carpet": [
           {
            "aaxis": {
             "endlinecolor": "#2a3f5f",
             "gridcolor": "white",
             "linecolor": "white",
             "minorgridcolor": "white",
             "startlinecolor": "#2a3f5f"
            },
            "baxis": {
             "endlinecolor": "#2a3f5f",
             "gridcolor": "white",
             "linecolor": "white",
             "minorgridcolor": "white",
             "startlinecolor": "#2a3f5f"
            },
            "type": "carpet"
           }
          ],
          "choropleth": [
           {
            "colorbar": {
             "outlinewidth": 0,
             "ticks": ""
            },
            "type": "choropleth"
           }
          ],
          "contour": [
           {
            "colorbar": {
             "outlinewidth": 0,
             "ticks": ""
            },
            "colorscale": [
             [
              0,
              "#0d0887"
             ],
             [
              0.1111111111111111,
              "#46039f"
             ],
             [
              0.2222222222222222,
              "#7201a8"
             ],
             [
              0.3333333333333333,
              "#9c179e"
             ],
             [
              0.4444444444444444,
              "#bd3786"
             ],
             [
              0.5555555555555556,
              "#d8576b"
             ],
             [
              0.6666666666666666,
              "#ed7953"
             ],
             [
              0.7777777777777778,
              "#fb9f3a"
             ],
             [
              0.8888888888888888,
              "#fdca26"
             ],
             [
              1,
              "#f0f921"
             ]
            ],
            "type": "contour"
           }
          ],
          "contourcarpet": [
           {
            "colorbar": {
             "outlinewidth": 0,
             "ticks": ""
            },
            "type": "contourcarpet"
           }
          ],
          "heatmap": [
           {
            "colorbar": {
             "outlinewidth": 0,
             "ticks": ""
            },
            "colorscale": [
             [
              0,
              "#0d0887"
             ],
             [
              0.1111111111111111,
              "#46039f"
             ],
             [
              0.2222222222222222,
              "#7201a8"
             ],
             [
              0.3333333333333333,
              "#9c179e"
             ],
             [
              0.4444444444444444,
              "#bd3786"
             ],
             [
              0.5555555555555556,
              "#d8576b"
             ],
             [
              0.6666666666666666,
              "#ed7953"
             ],
             [
              0.7777777777777778,
              "#fb9f3a"
             ],
             [
              0.8888888888888888,
              "#fdca26"
             ],
             [
              1,
              "#f0f921"
             ]
            ],
            "type": "heatmap"
           }
          ],
          "heatmapgl": [
           {
            "colorbar": {
             "outlinewidth": 0,
             "ticks": ""
            },
            "colorscale": [
             [
              0,
              "#0d0887"
             ],
             [
              0.1111111111111111,
              "#46039f"
             ],
             [
              0.2222222222222222,
              "#7201a8"
             ],
             [
              0.3333333333333333,
              "#9c179e"
             ],
             [
              0.4444444444444444,
              "#bd3786"
             ],
             [
              0.5555555555555556,
              "#d8576b"
             ],
             [
              0.6666666666666666,
              "#ed7953"
             ],
             [
              0.7777777777777778,
              "#fb9f3a"
             ],
             [
              0.8888888888888888,
              "#fdca26"
             ],
             [
              1,
              "#f0f921"
             ]
            ],
            "type": "heatmapgl"
           }
          ],
          "histogram": [
           {
            "marker": {
             "pattern": {
              "fillmode": "overlay",
              "size": 10,
              "solidity": 0.2
             }
            },
            "type": "histogram"
           }
          ],
          "histogram2d": [
           {
            "colorbar": {
             "outlinewidth": 0,
             "ticks": ""
            },
            "colorscale": [
             [
              0,
              "#0d0887"
             ],
             [
              0.1111111111111111,
              "#46039f"
             ],
             [
              0.2222222222222222,
              "#7201a8"
             ],
             [
              0.3333333333333333,
              "#9c179e"
             ],
             [
              0.4444444444444444,
              "#bd3786"
             ],
             [
              0.5555555555555556,
              "#d8576b"
             ],
             [
              0.6666666666666666,
              "#ed7953"
             ],
             [
              0.7777777777777778,
              "#fb9f3a"
             ],
             [
              0.8888888888888888,
              "#fdca26"
             ],
             [
              1,
              "#f0f921"
             ]
            ],
            "type": "histogram2d"
           }
          ],
          "histogram2dcontour": [
           {
            "colorbar": {
             "outlinewidth": 0,
             "ticks": ""
            },
            "colorscale": [
             [
              0,
              "#0d0887"
             ],
             [
              0.1111111111111111,
              "#46039f"
             ],
             [
              0.2222222222222222,
              "#7201a8"
             ],
             [
              0.3333333333333333,
              "#9c179e"
             ],
             [
              0.4444444444444444,
              "#bd3786"
             ],
             [
              0.5555555555555556,
              "#d8576b"
             ],
             [
              0.6666666666666666,
              "#ed7953"
             ],
             [
              0.7777777777777778,
              "#fb9f3a"
             ],
             [
              0.8888888888888888,
              "#fdca26"
             ],
             [
              1,
              "#f0f921"
             ]
            ],
            "type": "histogram2dcontour"
           }
          ],
          "mesh3d": [
           {
            "colorbar": {
             "outlinewidth": 0,
             "ticks": ""
            },
            "type": "mesh3d"
           }
          ],
          "parcoords": [
           {
            "line": {
             "colorbar": {
              "outlinewidth": 0,
              "ticks": ""
             }
            },
            "type": "parcoords"
           }
          ],
          "pie": [
           {
            "automargin": true,
            "type": "pie"
           }
          ],
          "scatter": [
           {
            "fillpattern": {
             "fillmode": "overlay",
             "size": 10,
             "solidity": 0.2
            },
            "type": "scatter"
           }
          ],
          "scatter3d": [
           {
            "line": {
             "colorbar": {
              "outlinewidth": 0,
              "ticks": ""
             }
            },
            "marker": {
             "colorbar": {
              "outlinewidth": 0,
              "ticks": ""
             }
            },
            "type": "scatter3d"
           }
          ],
          "scattercarpet": [
           {
            "marker": {
             "colorbar": {
              "outlinewidth": 0,
              "ticks": ""
             }
            },
            "type": "scattercarpet"
           }
          ],
          "scattergeo": [
           {
            "marker": {
             "colorbar": {
              "outlinewidth": 0,
              "ticks": ""
             }
            },
            "type": "scattergeo"
           }
          ],
          "scattergl": [
           {
            "marker": {
             "colorbar": {
              "outlinewidth": 0,
              "ticks": ""
             }
            },
            "type": "scattergl"
           }
          ],
          "scattermapbox": [
           {
            "marker": {
             "colorbar": {
              "outlinewidth": 0,
              "ticks": ""
             }
            },
            "type": "scattermapbox"
           }
          ],
          "scatterpolar": [
           {
            "marker": {
             "colorbar": {
              "outlinewidth": 0,
              "ticks": ""
             }
            },
            "type": "scatterpolar"
           }
          ],
          "scatterpolargl": [
           {
            "marker": {
             "colorbar": {
              "outlinewidth": 0,
              "ticks": ""
             }
            },
            "type": "scatterpolargl"
           }
          ],
          "scatterternary": [
           {
            "marker": {
             "colorbar": {
              "outlinewidth": 0,
              "ticks": ""
             }
            },
            "type": "scatterternary"
           }
          ],
          "surface": [
           {
            "colorbar": {
             "outlinewidth": 0,
             "ticks": ""
            },
            "colorscale": [
             [
              0,
              "#0d0887"
             ],
             [
              0.1111111111111111,
              "#46039f"
             ],
             [
              0.2222222222222222,
              "#7201a8"
             ],
             [
              0.3333333333333333,
              "#9c179e"
             ],
             [
              0.4444444444444444,
              "#bd3786"
             ],
             [
              0.5555555555555556,
              "#d8576b"
             ],
             [
              0.6666666666666666,
              "#ed7953"
             ],
             [
              0.7777777777777778,
              "#fb9f3a"
             ],
             [
              0.8888888888888888,
              "#fdca26"
             ],
             [
              1,
              "#f0f921"
             ]
            ],
            "type": "surface"
           }
          ],
          "table": [
           {
            "cells": {
             "fill": {
              "color": "#EBF0F8"
             },
             "line": {
              "color": "white"
             }
            },
            "header": {
             "fill": {
              "color": "#C8D4E3"
             },
             "line": {
              "color": "white"
             }
            },
            "type": "table"
           }
          ]
         },
         "layout": {
          "annotationdefaults": {
           "arrowcolor": "#2a3f5f",
           "arrowhead": 0,
           "arrowwidth": 1
          },
          "autotypenumbers": "strict",
          "coloraxis": {
           "colorbar": {
            "outlinewidth": 0,
            "ticks": ""
           }
          },
          "colorscale": {
           "diverging": [
            [
             0,
             "#8e0152"
            ],
            [
             0.1,
             "#c51b7d"
            ],
            [
             0.2,
             "#de77ae"
            ],
            [
             0.3,
             "#f1b6da"
            ],
            [
             0.4,
             "#fde0ef"
            ],
            [
             0.5,
             "#f7f7f7"
            ],
            [
             0.6,
             "#e6f5d0"
            ],
            [
             0.7,
             "#b8e186"
            ],
            [
             0.8,
             "#7fbc41"
            ],
            [
             0.9,
             "#4d9221"
            ],
            [
             1,
             "#276419"
            ]
           ],
           "sequential": [
            [
             0,
             "#0d0887"
            ],
            [
             0.1111111111111111,
             "#46039f"
            ],
            [
             0.2222222222222222,
             "#7201a8"
            ],
            [
             0.3333333333333333,
             "#9c179e"
            ],
            [
             0.4444444444444444,
             "#bd3786"
            ],
            [
             0.5555555555555556,
             "#d8576b"
            ],
            [
             0.6666666666666666,
             "#ed7953"
            ],
            [
             0.7777777777777778,
             "#fb9f3a"
            ],
            [
             0.8888888888888888,
             "#fdca26"
            ],
            [
             1,
             "#f0f921"
            ]
           ],
           "sequentialminus": [
            [
             0,
             "#0d0887"
            ],
            [
             0.1111111111111111,
             "#46039f"
            ],
            [
             0.2222222222222222,
             "#7201a8"
            ],
            [
             0.3333333333333333,
             "#9c179e"
            ],
            [
             0.4444444444444444,
             "#bd3786"
            ],
            [
             0.5555555555555556,
             "#d8576b"
            ],
            [
             0.6666666666666666,
             "#ed7953"
            ],
            [
             0.7777777777777778,
             "#fb9f3a"
            ],
            [
             0.8888888888888888,
             "#fdca26"
            ],
            [
             1,
             "#f0f921"
            ]
           ]
          },
          "colorway": [
           "#636efa",
           "#EF553B",
           "#00cc96",
           "#ab63fa",
           "#FFA15A",
           "#19d3f3",
           "#FF6692",
           "#B6E880",
           "#FF97FF",
           "#FECB52"
          ],
          "font": {
           "color": "#2a3f5f"
          },
          "geo": {
           "bgcolor": "white",
           "lakecolor": "white",
           "landcolor": "#E5ECF6",
           "showlakes": true,
           "showland": true,
           "subunitcolor": "white"
          },
          "hoverlabel": {
           "align": "left"
          },
          "hovermode": "closest",
          "mapbox": {
           "style": "light"
          },
          "paper_bgcolor": "white",
          "plot_bgcolor": "#E5ECF6",
          "polar": {
           "angularaxis": {
            "gridcolor": "white",
            "linecolor": "white",
            "ticks": ""
           },
           "bgcolor": "#E5ECF6",
           "radialaxis": {
            "gridcolor": "white",
            "linecolor": "white",
            "ticks": ""
           }
          },
          "scene": {
           "xaxis": {
            "backgroundcolor": "#E5ECF6",
            "gridcolor": "white",
            "gridwidth": 2,
            "linecolor": "white",
            "showbackground": true,
            "ticks": "",
            "zerolinecolor": "white"
           },
           "yaxis": {
            "backgroundcolor": "#E5ECF6",
            "gridcolor": "white",
            "gridwidth": 2,
            "linecolor": "white",
            "showbackground": true,
            "ticks": "",
            "zerolinecolor": "white"
           },
           "zaxis": {
            "backgroundcolor": "#E5ECF6",
            "gridcolor": "white",
            "gridwidth": 2,
            "linecolor": "white",
            "showbackground": true,
            "ticks": "",
            "zerolinecolor": "white"
           }
          },
          "shapedefaults": {
           "line": {
            "color": "#2a3f5f"
           }
          },
          "ternary": {
           "aaxis": {
            "gridcolor": "white",
            "linecolor": "white",
            "ticks": ""
           },
           "baxis": {
            "gridcolor": "white",
            "linecolor": "white",
            "ticks": ""
           },
           "bgcolor": "#E5ECF6",
           "caxis": {
            "gridcolor": "white",
            "linecolor": "white",
            "ticks": ""
           }
          },
          "title": {
           "x": 0.05
          },
          "xaxis": {
           "automargin": true,
           "gridcolor": "white",
           "linecolor": "white",
           "ticks": "",
           "title": {
            "standoff": 15
           },
           "zerolinecolor": "white",
           "zerolinewidth": 2
          },
          "yaxis": {
           "automargin": true,
           "gridcolor": "white",
           "linecolor": "white",
           "ticks": "",
           "title": {
            "standoff": 15
           },
           "zerolinecolor": "white",
           "zerolinewidth": 2
          }
         }
        },
        "title": {
         "font": {
          "color": "white"
         },
         "text": "Emotion Distribution Across All Movies"
        }
       }
      }
     },
     "metadata": {},
     "output_type": "display_data"
    }
   ],
   "source": [
    "import plotly.express as px\n",
    "\n",
    "emotion_sums = df[['disgust', 'fear', 'anger', 'neutral', 'sadness', 'surprise', 'joy']].sum()\n",
    "fig = px.pie(\n",
    "    names=emotion_sums.index, \n",
    "    values=emotion_sums.values, \n",
    "    title=\"Emotion Distribution Across All Movies\"\n",
    ")\n",
    "fig.update_layout(\n",
    "    paper_bgcolor='rgba(0,0,0,0)',  # Transparent background for the paper\n",
    "    plot_bgcolor='rgba(0,0,0,0)',   # Transparent background for the plot\n",
    "    title_font=dict(color=\"white\"), # White color for the title\n",
    "    legend_font=dict(color=\"white\") # White color for the legend text\n",
    ")\n",
    "\n",
    "# Save the chart as a PNG image\n",
    "fig.write_image(\"emotion_distribution_pie_chart_no_bg.png\")\n",
    "\n",
    "print(\"Pie chart saved as 'emotion_distribution_pie_chart_no_bg.png'\")\n",
    "\n",
    "fig.show()"
   ]
  },
  {
   "cell_type": "markdown",
   "metadata": {},
   "source": [
    "### Regression age gender"
   ]
  },
  {
   "cell_type": "code",
   "execution_count": 7,
   "metadata": {},
   "outputs": [
    {
     "name": "stdout",
     "output_type": "stream",
     "text": [
      "Number of rows before droping:  81771\n",
      "Number of rows after droping:  30175\n",
      "[42.0, 27.0, 32.0, 33.0, 23.0, 52.0, 56.0, 37.78852253927453, 30.0, 37.78852253927453, 37.78852253927453, 42.0, 57.0, 37.78852253927453, 66.0, 47.0, 58.0]\n",
      "['F', 'F', 'M', 'M', 'F', 'F', 'F', 'M', 'M', 'M', 'M', 'M', 'M', 'M', 'M', 'M', 'F']\n",
      "[1, 1, 0, 0, 1, 1, 1, 0, 0, 0, 0, 0, 0, 0, 0, 0, 1]\n",
      "Age entries: 17, gender entries: 17, gender flag entries: 17\n",
      "<class 'dict'>\n"
     ]
    },
    {
     "data": {
      "text/html": [
       "<div>\n",
       "<style scoped>\n",
       "    .dataframe tbody tr th:only-of-type {\n",
       "        vertical-align: middle;\n",
       "    }\n",
       "\n",
       "    .dataframe tbody tr th {\n",
       "        vertical-align: top;\n",
       "    }\n",
       "\n",
       "    .dataframe thead th {\n",
       "        text-align: right;\n",
       "    }\n",
       "</style>\n",
       "<table border=\"1\" class=\"dataframe\">\n",
       "  <thead>\n",
       "    <tr style=\"text-align: right;\">\n",
       "      <th></th>\n",
       "      <th>WikiID</th>\n",
       "      <th>merge_year</th>\n",
       "      <th>Genres</th>\n",
       "      <th>distilbert_emotions</th>\n",
       "      <th>ActorAge</th>\n",
       "      <th>ActorGender</th>\n",
       "      <th>ActorBirthDate</th>\n",
       "      <th>ActorGenderFlag</th>\n",
       "      <th>AgeAvg</th>\n",
       "      <th>GenderAvg</th>\n",
       "      <th>disgust</th>\n",
       "      <th>fear</th>\n",
       "      <th>anger</th>\n",
       "      <th>neutral</th>\n",
       "      <th>sadness</th>\n",
       "      <th>surprise</th>\n",
       "      <th>joy</th>\n",
       "    </tr>\n",
       "  </thead>\n",
       "  <tbody>\n",
       "    <tr>\n",
       "      <th>0</th>\n",
       "      <td>975900</td>\n",
       "      <td>2001.0</td>\n",
       "      <td>[Thriller, Science Fiction, Horror, Adventure,...</td>\n",
       "      <td>{'disgust': 0.5021221041679382, 'fear': 0.3510...</td>\n",
       "      <td>[42.0, 27.0, 32.0, 33.0, 23.0, 52.0, 56.0, 37....</td>\n",
       "      <td>[F, F, M, M, F, F, F, M, M, M, M, M, M, M, M, ...</td>\n",
       "      <td>[Timestamp('1958-08-26 00:00:00'), Timestamp('...</td>\n",
       "      <td>[1, 1, 0, 0, 1, 1, 1, 0, 0, 0, 0, 0, 0, 0, 0, ...</td>\n",
       "      <td>42.126711</td>\n",
       "      <td>0.352941</td>\n",
       "      <td>0.502122</td>\n",
       "      <td>0.351022</td>\n",
       "      <td>0.065147</td>\n",
       "      <td>0.057085</td>\n",
       "      <td>0.018771</td>\n",
       "      <td>0.004086</td>\n",
       "      <td>0.001766</td>\n",
       "    </tr>\n",
       "    <tr>\n",
       "      <th>1</th>\n",
       "      <td>9363483</td>\n",
       "      <td>1987.0</td>\n",
       "      <td>[Thriller, Erotic thriller, Psychological thri...</td>\n",
       "      <td>{'anger': 0.5024036765098572, 'disgust': 0.324...</td>\n",
       "      <td>[32.0, 26.0]</td>\n",
       "      <td>[M, F]</td>\n",
       "      <td>[Timestamp('1954-05-08 00:00:00'), Timestamp('...</td>\n",
       "      <td>[0, 1]</td>\n",
       "      <td>29.000000</td>\n",
       "      <td>0.500000</td>\n",
       "      <td>0.324022</td>\n",
       "      <td>0.032032</td>\n",
       "      <td>0.502404</td>\n",
       "      <td>0.096385</td>\n",
       "      <td>0.037811</td>\n",
       "      <td>0.005438</td>\n",
       "      <td>0.001907</td>\n",
       "    </tr>\n",
       "    <tr>\n",
       "      <th>2</th>\n",
       "      <td>261236</td>\n",
       "      <td>1983.0</td>\n",
       "      <td>[Drama]</td>\n",
       "      <td>{'anger': 0.3256497378461063, 'disgust': 0.163...</td>\n",
       "      <td>[32.0, 32.0, 35.0]</td>\n",
       "      <td>[F, M, M]</td>\n",
       "      <td>[Timestamp('1950-06-20 00:00:00'), Timestamp('...</td>\n",
       "      <td>[1, 0, 0]</td>\n",
       "      <td>33.000000</td>\n",
       "      <td>0.333333</td>\n",
       "      <td>0.163747</td>\n",
       "      <td>0.002405</td>\n",
       "      <td>0.325650</td>\n",
       "      <td>0.440068</td>\n",
       "      <td>0.025255</td>\n",
       "      <td>0.005851</td>\n",
       "      <td>0.037024</td>\n",
       "    </tr>\n",
       "    <tr>\n",
       "      <th>3</th>\n",
       "      <td>6631279</td>\n",
       "      <td>1997.0</td>\n",
       "      <td>[Romantic comedy, Ensemble Film, Comedy-drama,...</td>\n",
       "      <td>{'sadness': 0.9155038595199585, 'neutral': 0.0...</td>\n",
       "      <td>[25.0, 33.0, 37.0, 35.0, 33.0, 48.0]</td>\n",
       "      <td>[M, F, F, M, F, F]</td>\n",
       "      <td>[Timestamp('1971-09-15 00:00:00'), Timestamp('...</td>\n",
       "      <td>[0, 1, 1, 0, 1, 1]</td>\n",
       "      <td>35.166667</td>\n",
       "      <td>0.666667</td>\n",
       "      <td>0.021709</td>\n",
       "      <td>0.010488</td>\n",
       "      <td>0.006082</td>\n",
       "      <td>0.042634</td>\n",
       "      <td>0.915504</td>\n",
       "      <td>0.002163</td>\n",
       "      <td>0.001421</td>\n",
       "    </tr>\n",
       "    <tr>\n",
       "      <th>4</th>\n",
       "      <td>171005</td>\n",
       "      <td>1989.0</td>\n",
       "      <td>[Costume drama, War film, Epic, Period piece, ...</td>\n",
       "      <td>{'neutral': 0.6794102787971497, 'surprise': 0....</td>\n",
       "      <td>[28.0, 51.0, 33.0, 26.0, 30.0, 32.0, 58.0, 53....</td>\n",
       "      <td>[M, M, M, M, F, M, M, M, M, M, F, M, M, F, M, ...</td>\n",
       "      <td>[Timestamp('1960-12-10 00:00:00'), Timestamp('...</td>\n",
       "      <td>[0, 0, 0, 0, 1, 0, 0, 0, 0, 0, 1, 0, 0, 1, 0, ...</td>\n",
       "      <td>45.513739</td>\n",
       "      <td>0.190476</td>\n",
       "      <td>0.004746</td>\n",
       "      <td>0.003841</td>\n",
       "      <td>0.016094</td>\n",
       "      <td>0.679410</td>\n",
       "      <td>0.057925</td>\n",
       "      <td>0.129912</td>\n",
       "      <td>0.108072</td>\n",
       "    </tr>\n",
       "  </tbody>\n",
       "</table>\n",
       "</div>"
      ],
      "text/plain": [
       "    WikiID  merge_year                                             Genres  \\\n",
       "0   975900      2001.0  [Thriller, Science Fiction, Horror, Adventure,...   \n",
       "1  9363483      1987.0  [Thriller, Erotic thriller, Psychological thri...   \n",
       "2   261236      1983.0                                            [Drama]   \n",
       "3  6631279      1997.0  [Romantic comedy, Ensemble Film, Comedy-drama,...   \n",
       "4   171005      1989.0  [Costume drama, War film, Epic, Period piece, ...   \n",
       "\n",
       "                                 distilbert_emotions  \\\n",
       "0  {'disgust': 0.5021221041679382, 'fear': 0.3510...   \n",
       "1  {'anger': 0.5024036765098572, 'disgust': 0.324...   \n",
       "2  {'anger': 0.3256497378461063, 'disgust': 0.163...   \n",
       "3  {'sadness': 0.9155038595199585, 'neutral': 0.0...   \n",
       "4  {'neutral': 0.6794102787971497, 'surprise': 0....   \n",
       "\n",
       "                                            ActorAge  \\\n",
       "0  [42.0, 27.0, 32.0, 33.0, 23.0, 52.0, 56.0, 37....   \n",
       "1                                       [32.0, 26.0]   \n",
       "2                                 [32.0, 32.0, 35.0]   \n",
       "3               [25.0, 33.0, 37.0, 35.0, 33.0, 48.0]   \n",
       "4  [28.0, 51.0, 33.0, 26.0, 30.0, 32.0, 58.0, 53....   \n",
       "\n",
       "                                         ActorGender  \\\n",
       "0  [F, F, M, M, F, F, F, M, M, M, M, M, M, M, M, ...   \n",
       "1                                             [M, F]   \n",
       "2                                          [F, M, M]   \n",
       "3                                 [M, F, F, M, F, F]   \n",
       "4  [M, M, M, M, F, M, M, M, M, M, F, M, M, F, M, ...   \n",
       "\n",
       "                                      ActorBirthDate  \\\n",
       "0  [Timestamp('1958-08-26 00:00:00'), Timestamp('...   \n",
       "1  [Timestamp('1954-05-08 00:00:00'), Timestamp('...   \n",
       "2  [Timestamp('1950-06-20 00:00:00'), Timestamp('...   \n",
       "3  [Timestamp('1971-09-15 00:00:00'), Timestamp('...   \n",
       "4  [Timestamp('1960-12-10 00:00:00'), Timestamp('...   \n",
       "\n",
       "                                     ActorGenderFlag     AgeAvg  GenderAvg  \\\n",
       "0  [1, 1, 0, 0, 1, 1, 1, 0, 0, 0, 0, 0, 0, 0, 0, ...  42.126711   0.352941   \n",
       "1                                             [0, 1]  29.000000   0.500000   \n",
       "2                                          [1, 0, 0]  33.000000   0.333333   \n",
       "3                                 [0, 1, 1, 0, 1, 1]  35.166667   0.666667   \n",
       "4  [0, 0, 0, 0, 1, 0, 0, 0, 0, 0, 1, 0, 0, 1, 0, ...  45.513739   0.190476   \n",
       "\n",
       "    disgust      fear     anger   neutral   sadness  surprise       joy  \n",
       "0  0.502122  0.351022  0.065147  0.057085  0.018771  0.004086  0.001766  \n",
       "1  0.324022  0.032032  0.502404  0.096385  0.037811  0.005438  0.001907  \n",
       "2  0.163747  0.002405  0.325650  0.440068  0.025255  0.005851  0.037024  \n",
       "3  0.021709  0.010488  0.006082  0.042634  0.915504  0.002163  0.001421  \n",
       "4  0.004746  0.003841  0.016094  0.679410  0.057925  0.129912  0.108072  "
      ]
     },
     "execution_count": 7,
     "metadata": {},
     "output_type": "execute_result"
    }
   ],
   "source": [
    "df = pd.read_csv(f'{PREFIX_PATH}/final_data_complete.csv')\n",
    "character_df = df[['WikiID', 'merge_year', 'Genres', 'distilbert_emotions', 'ActorAge', 'ActorGender', 'ActorBirthDate', 'ActorGenderFlag']].copy()\n",
    "\n",
    "# Drop rows without emotions, age or gender because they are not helpful here\n",
    "print(\"Number of rows before droping: \", len(character_df))\n",
    "character_df = character_df.dropna(subset=['distilbert_emotions', 'ActorAge', 'ActorGenderFlag'])\n",
    "print(\"Number of rows after droping: \", len(character_df))\n",
    "\n",
    "# Parse relevant attributes from string to correct datatype\n",
    "character_df['Genres'] = character_df['Genres'].apply(lambda x: [] if pd.isna(x) else ast.literal_eval(x))\n",
    "character_df['ActorAge'] = character_df['ActorAge'].apply(lambda x: [] if pd.isna(x) else ast.literal_eval(x))\n",
    "character_df['ActorGender'] = character_df['ActorGender'].apply(lambda x: [] if pd.isna(x) else ast.literal_eval(x))\n",
    "character_df['ActorGenderFlag'] = character_df['ActorGenderFlag'].apply(lambda x: [] if pd.isna(x) else ast.literal_eval(x))\n",
    "\n",
    "# Check if transformations worked properly\n",
    "test_ages = character_df.iloc[0]['ActorAge']\n",
    "print(test_ages)\n",
    "test_gender = character_df.iloc[0]['ActorGender']\n",
    "print(test_gender)\n",
    "test_gender_flag = character_df.iloc[0]['ActorGenderFlag']\n",
    "print(test_gender_flag)\n",
    "print(f\"Age entries: {len(test_ages)}, gender entries: {len(test_gender)}, gender flag entries: {len(test_gender_flag)}\")\n",
    "\n",
    "# Create aggregations for gender and age of actors\n",
    "exploded_df = character_df.explode('ActorAge')\n",
    "exploded_df = exploded_df.explode('ActorGenderFlag')\n",
    "\n",
    "aggregated_df = exploded_df.groupby('WikiID').agg({\n",
    "    \"ActorAge\": \"mean\",\n",
    "    \"ActorGenderFlag\": \"mean\"\n",
    "})\n",
    "\n",
    "aggregated_df.rename(columns={\n",
    "    'ActorAge': 'AgeAvg', \n",
    "    'ActorGenderFlag': 'GenderAvg'\n",
    "}, inplace=True)\n",
    "\n",
    "character_df = character_df.merge(aggregated_df, on='WikiID', how='left')\n",
    "\n",
    "# Parse emotions from string to dictionary\n",
    "character_df['distilbert_emotions'] = character_df['distilbert_emotions'].apply(lambda x: {} if pd.isna(x) else ast.literal_eval(x))\n",
    "\n",
    "# Check the result\n",
    "test_emotions = character_df.iloc[0]['distilbert_emotions']\n",
    "print(type(test_emotions))\n",
    "\n",
    "# Add each emotion as column\n",
    "emotions = ['disgust', 'fear', 'anger', 'neutral', 'sadness', 'surprise', 'joy']\n",
    "for emotion in emotions:\n",
    "    character_df[emotion] = character_df['distilbert_emotions'].apply(lambda x: x[emotion])\n",
    "character_df.head()\n",
    "\n"
   ]
  },
  {
   "cell_type": "code",
   "execution_count": 8,
   "metadata": {},
   "outputs": [
    {
     "name": "stdout",
     "output_type": "stream",
     "text": [
      "                            OLS Regression Results                            \n",
      "==============================================================================\n",
      "Dep. Variable:                 AgeAvg   R-squared:                       0.003\n",
      "Model:                            OLS   Adj. R-squared:                  0.003\n",
      "Method:                 Least Squares   F-statistic:                     15.27\n",
      "Date:                Fri, 20 Dec 2024   Prob (F-statistic):           1.48e-17\n",
      "Time:                        12:15:32   Log-Likelihood:            -1.0081e+05\n",
      "No. Observations:               30175   AIC:                         2.016e+05\n",
      "Df Residuals:                   30168   BIC:                         2.017e+05\n",
      "Df Model:                           6                                         \n",
      "Covariance Type:            nonrobust                                         \n",
      "==============================================================================\n",
      "                 coef    std err          t      P>|t|      [0.025      0.975]\n",
      "------------------------------------------------------------------------------\n",
      "Intercept     38.5932      0.153    252.223      0.000      38.293      38.893\n",
      "disgust       -1.2892      0.244     -5.279      0.000      -1.768      -0.811\n",
      "fear          -0.0451      0.224     -0.201      0.841      -0.485       0.395\n",
      "anger         -0.8065      0.226     -3.573      0.000      -1.249      -0.364\n",
      "sadness       -1.5702      0.228     -6.892      0.000      -2.017      -1.124\n",
      "surprise      -0.7737      0.377     -2.054      0.040      -1.512      -0.036\n",
      "joy           -2.1611      0.395     -5.467      0.000      -2.936      -1.386\n",
      "==============================================================================\n",
      "Omnibus:                     2928.219   Durbin-Watson:                   2.006\n",
      "Prob(Omnibus):                  0.000   Jarque-Bera (JB):            16065.537\n",
      "Skew:                           0.309   Prob(JB):                         0.00\n",
      "Kurtosis:                       6.521   Cond. No.                         14.5\n",
      "==============================================================================\n",
      "\n",
      "Notes:\n",
      "[1] Standard Errors assume that the covariance matrix of the errors is correctly specified.\n"
     ]
    }
   ],
   "source": [
    "# Model for average age\n",
    "age_mod = smf.ols(formula='AgeAvg ~ disgust + fear + anger + sadness + surprise + joy', data=character_df)\n",
    "age_res = age_mod.fit()\n",
    "print(age_res.summary())"
   ]
  },
  {
   "cell_type": "code",
   "execution_count": 9,
   "metadata": {},
   "outputs": [
    {
     "name": "stderr",
     "output_type": "stream",
     "text": [
      "/var/folders/dh/598mynx558b49xpd__0_7csw0000gn/T/ipykernel_25510/2912773837.py:24: FutureWarning:\n",
      "\n",
      "\n",
      "\n",
      "The `ci` parameter is deprecated. Use `errorbar=None` for the same effect.\n",
      "\n",
      "\n",
      "/var/folders/dh/598mynx558b49xpd__0_7csw0000gn/T/ipykernel_25510/2912773837.py:24: FutureWarning:\n",
      "\n",
      "\n",
      "\n",
      "Passing `palette` without assigning `hue` is deprecated and will be removed in v0.14.0. Assign the `y` variable to `hue` and set `legend=False` for the same effect.\n",
      "\n",
      "\n"
     ]
    },
    {
     "data": {
      "image/png": "[encoded data removed]",
      "text/plain": [
       "<Figure size 800x600 with 1 Axes>"
      ]
     },
     "metadata": {
      "needs_background": "dark"
     },
     "output_type": "display_data"
    }
   ],
   "source": [
    "coefficients = age_res.params\n",
    "errors = age_res.bse\n",
    "conf_int = age_res.conf_int()\n",
    "conf_int.columns = ['Lower', 'Upper']\n",
    "\n",
    "# Create a DataFrame for the plot\n",
    "coef_df = pd.DataFrame({\n",
    "    'Emotion': coefficients.index,\n",
    "    'Coefficient': coefficients.values,\n",
    "    'Std Error': errors.values,\n",
    "    'Lower': conf_int['Lower'],\n",
    "    'Upper': conf_int['Upper']\n",
    "})\n",
    "\n",
    "# Filter out the intercept\n",
    "coef_df = coef_df[coef_df['Emotion'] != 'Intercept']\n",
    "\n",
    "# Sort for better visualization\n",
    "coef_df = coef_df.sort_values(by='Coefficient', ascending=False)\n",
    "\n",
    "# Plot with Seaborn\n",
    "sns.set_theme(style='white', context='talk')\n",
    "plt.figure(figsize=(8, 6))\n",
    "ax = sns.barplot(\n",
    "    data=coef_df,\n",
    "    x='Coefficient',\n",
    "    y='Emotion',\n",
    "    orient='h',\n",
    "    palette='coolwarm',\n",
    "    ci=None  # Confidence intervals added manually below\n",
    ")\n",
    "\n",
    "# Add confidence intervals\n",
    "for index, row in coef_df.iterrows():\n",
    "    plt.errorbar(\n",
    "        x=row['Coefficient'], \n",
    "        y=index, \n",
    "        xerr=[[row['Coefficient'] - row['Lower']], [row['Upper'] - row['Coefficient']]],\n",
    "        fmt='none', \n",
    "        ecolor='white', \n",
    "        capsize=5\n",
    "    )\n",
    "\n",
    "# Customizing the plot\n",
    "plt.axvline(0, color='white', linestyle='--', linewidth=1.2)\n",
    "plt.title('Impact of Emotional Tones on Average Actor Age', fontsize=16, color='white', pad=20)\n",
    "plt.xlabel('Coefficient Value', fontsize=14, color='white')\n",
    "plt.ylabel('Emotions', fontsize=14, color='white')\n",
    "plt.xticks(color='white')\n",
    "plt.yticks(color='white')\n",
    "plt.gca().set_facecolor((0, 0, 0, 0))  # Transparent background\n",
    "plt.gcf().set_facecolor((0, 0, 0, 0))  # Transparent background\n",
    "\n",
    "# Save the plot\n",
    "plt.savefig('coefficient_plot.png', dpi=300, transparent=True)\n",
    "plt.show()"
   ]
  },
  {
   "cell_type": "code",
   "execution_count": 10,
   "metadata": {},
   "outputs": [
    {
     "name": "stdout",
     "output_type": "stream",
     "text": [
      "                            OLS Regression Results                            \n",
      "==============================================================================\n",
      "Dep. Variable:              GenderAvg   R-squared:                       0.018\n",
      "Model:                            OLS   Adj. R-squared:                  0.017\n",
      "Method:                 Least Squares   F-statistic:                     89.66\n",
      "Date:                Fri, 20 Dec 2024   Prob (F-statistic):          5.67e-112\n",
      "Time:                        12:15:33   Log-Likelihood:                 3147.5\n",
      "No. Observations:               30175   AIC:                            -6281.\n",
      "Df Residuals:                   30168   BIC:                            -6223.\n",
      "Df Model:                           6                                         \n",
      "Covariance Type:            nonrobust                                         \n",
      "==============================================================================\n",
      "                 coef    std err          t      P>|t|      [0.025      0.975]\n",
      "------------------------------------------------------------------------------\n",
      "Intercept      0.3046      0.005     62.415      0.000       0.295       0.314\n",
      "disgust        0.0460      0.008      5.907      0.000       0.031       0.061\n",
      "fear           0.0306      0.007      4.280      0.000       0.017       0.045\n",
      "anger         -0.0293      0.007     -4.066      0.000      -0.043      -0.015\n",
      "sadness        0.1069      0.007     14.712      0.000       0.093       0.121\n",
      "surprise       0.0828      0.012      6.891      0.000       0.059       0.106\n",
      "joy            0.1244      0.013      9.868      0.000       0.100       0.149\n",
      "==============================================================================\n",
      "Omnibus:                     2608.384   Durbin-Watson:                   1.994\n",
      "Prob(Omnibus):                  0.000   Jarque-Bera (JB):             3735.704\n",
      "Skew:                           0.698   Prob(JB):                         0.00\n",
      "Kurtosis:                       4.011   Cond. No.                         14.5\n",
      "==============================================================================\n",
      "\n",
      "Notes:\n",
      "[1] Standard Errors assume that the covariance matrix of the errors is correctly specified.\n"
     ]
    }
   ],
   "source": [
    "# Model for average gender\n",
    "gender_mod = smf.ols(formula='GenderAvg ~ disgust + fear + anger + sadness + surprise + joy', data=character_df)\n",
    "gender_res = gender_mod.fit()\n",
    "print(gender_res.summary())"
   ]
  },
  {
   "cell_type": "code",
   "execution_count": 11,
   "metadata": {},
   "outputs": [
    {
     "name": "stderr",
     "output_type": "stream",
     "text": [
      "/var/folders/dh/598mynx558b49xpd__0_7csw0000gn/T/ipykernel_25510/3834385868.py:24: FutureWarning:\n",
      "\n",
      "\n",
      "\n",
      "The `ci` parameter is deprecated. Use `errorbar=None` for the same effect.\n",
      "\n",
      "\n",
      "/var/folders/dh/598mynx558b49xpd__0_7csw0000gn/T/ipykernel_25510/3834385868.py:24: FutureWarning:\n",
      "\n",
      "\n",
      "\n",
      "Passing `palette` without assigning `hue` is deprecated and will be removed in v0.14.0. Assign the `y` variable to `hue` and set `legend=False` for the same effect.\n",
      "\n",
      "\n"
     ]
    },
    {
     "data": {
      "image/png": "[encoded data removed]",
      "text/plain": [
       "<Figure size 800x600 with 1 Axes>"
      ]
     },
     "metadata": {
      "needs_background": "dark"
     },
     "output_type": "display_data"
    }
   ],
   "source": [
    "gender_coefficients = gender_res.params\n",
    "gender_errors = gender_res.bse\n",
    "gender_conf_int = gender_res.conf_int()\n",
    "gender_conf_int.columns = ['Lower', 'Upper']\n",
    "\n",
    "# Create a DataFrame for the plot\n",
    "gender_coef_df = pd.DataFrame({\n",
    "    'Emotion': gender_coefficients.index,\n",
    "    'Coefficient': gender_coefficients.values,\n",
    "    'Std Error': gender_errors.values,\n",
    "    'Lower': gender_conf_int['Lower'],\n",
    "    'Upper': gender_conf_int['Upper']\n",
    "})\n",
    "\n",
    "# Filter out the intercept\n",
    "gender_coef_df = gender_coef_df[gender_coef_df['Emotion'] != 'Intercept']\n",
    "\n",
    "# Sort for better visualization\n",
    "gender_coef_df = gender_coef_df.sort_values(by='Coefficient', ascending=False)\n",
    "\n",
    "# Plot with Seaborn\n",
    "sns.set_theme(style='white', context='talk')\n",
    "plt.figure(figsize=(8, 6))\n",
    "ax = sns.barplot(\n",
    "    data=gender_coef_df,\n",
    "    x='Coefficient',\n",
    "    y='Emotion',\n",
    "    orient='h',\n",
    "    palette='coolwarm',\n",
    "    ci=None  # Confidence intervals added manually below\n",
    ")\n",
    "\n",
    "# Add confidence intervals\n",
    "for index, row in gender_coef_df.iterrows():\n",
    "    plt.errorbar(\n",
    "        x=row['Coefficient'], \n",
    "        y=index, \n",
    "        xerr=[[row['Coefficient'] - row['Lower']], [row['Upper'] - row['Coefficient']]],\n",
    "        fmt='none', \n",
    "        ecolor='white', \n",
    "        capsize=5\n",
    "    )\n",
    "\n",
    "# Customizing the plot\n",
    "plt.axvline(0, color='white', linestyle='--', linewidth=1.2)\n",
    "plt.title('Impact of Emotional Tones on Average Gender', fontsize=16, color='white', pad=20)\n",
    "plt.xlabel('Coefficient Value', fontsize=14, color='white')\n",
    "plt.ylabel('Emotions', fontsize=14, color='white')\n",
    "plt.xticks(color='white')\n",
    "plt.yticks(color='white')\n",
    "plt.gca().set_facecolor((0, 0, 0, 0))  # Transparent background\n",
    "plt.gcf().set_facecolor((0, 0, 0, 0))  # Transparent background\n",
    "\n",
    "# Save the plot\n",
    "plt.savefig('gender_coefficient_plot.png', dpi=300, transparent=True)\n",
    "plt.show()"
   ]
  },
  {
   "cell_type": "code",
   "execution_count": 12,
   "metadata": {},
   "outputs": [],
   "source": [
    "def conv_to_dict(val): \n",
    "    try:\n",
    "        return ast.literal_eval(val) if pd.notna(val) else {}\n",
    "    except (ValueError, SyntaxError):\n",
    "        return {}"
   ]
  },
  {
   "cell_type": "code",
   "execution_count": 13,
   "metadata": {},
   "outputs": [
    {
     "name": "stdout",
     "output_type": "stream",
     "text": [
      "English Language                        40914\n",
      "Hindi Language                           3745\n",
      "Spanish Language                         3675\n",
      "French Language                          3422\n",
      "Silent film                              3183\n",
      "                                        ...  \n",
      "Australian Aboriginal Pidgin English        1\n",
      "Krio Language                               1\n",
      "Tok Pisin Language                          1\n",
      "Pawnee Language                             1\n",
      "Kriolu                                      1\n",
      "Name: Languages, Length: 206, dtype: int64\n"
     ]
    }
   ],
   "source": [
    "df_languages = df.copy()\n",
    "df_languages[\"Languages\"] = df_languages[\"Languages\"].apply(lambda x: ast.literal_eval(x))\n",
    "df_languages[\"nrclex_emotions\"] = df_languages[\"nrclex_emotions\"].apply(lambda x: conv_to_dict(x))\n",
    "df_languages[\"roberta_emotions\"] = df_languages[\"roberta_emotions\"].apply(lambda x: conv_to_dict(x))\n",
    "df_languages[\"distilbert_emotions\"] = df_languages[\"distilbert_emotions\"].apply(lambda x: conv_to_dict(x))\n",
    "\n",
    "def is_invalid_unicode(text: str):\n",
    "    \"\"\"Check if text contains invalid unicode characters\"\"\"\n",
    "    try:\n",
    "        text.encode('utf-8').decode('utf-8')\n",
    "        return False\n",
    "    except UnicodeError:\n",
    "        return True\n",
    "    \n",
    "def clean_lang_list(languages: list[str]):\n",
    "    \"\"\"Remove invalid languages from a list of languages\"\"\"\n",
    "    return [l for l in languages if not is_invalid_unicode(l)]\n",
    "\n",
    "df_languages[\"Languages\"] = df_languages[\"Languages\"].apply(clean_lang_list)\n",
    "\n",
    "# Drop all movies that don't have a labelled language\n",
    "df_languages[df_languages[\"Languages\"].apply(lambda x: len(x) < 0)]\n",
    "\n",
    "# Look at the distribution of languages over all movies\n",
    "language_count = df_languages['Languages'].explode().value_counts()\n",
    "print(language_count)"
   ]
  },
  {
   "cell_type": "code",
   "execution_count": 22,
   "metadata": {},
   "outputs": [
    {
     "data": {
      "image/png": "[encoded data removed]",
      "text/plain": [
       "<Figure size 2000x2000 with 1 Axes>"
      ]
     },
     "metadata": {},
     "output_type": "display_data"
    }
   ],
   "source": [
    "import matplotlib.pyplot as plt\n",
    "import seaborn as sns\n",
    "import numpy as np\n",
    "import pandas as pd\n",
    "\n",
    "# Assuming `language_count` is a Pandas Series\n",
    "# Get top 15 languages and sum the rest into \"Other\"\n",
    "top_10 = language_count[:10]\n",
    "other = pd.Series({'Other': language_count[10:].sum()})\n",
    "plot_data = pd.concat([top_10, other])\n",
    "\n",
    "# Define colors\n",
    "colors = sns.color_palette('Set3', len(plot_data))\n",
    "\n",
    "# Create pie chart\n",
    "fig, ax = plt.subplots(figsize=(20, 20))\n",
    "wedges, texts, autotexts = ax.pie(\n",
    "    plot_data, \n",
    "    labels=plot_data.index, \n",
    "    autopct='%1.1f%%', \n",
    "    colors=colors, \n",
    "    textprops={'fontsize': 14, 'color': 'white'}\n",
    ")\n",
    "\n",
    "# Customize plot aesthetics\n",
    "plt.setp(texts, color='white')  # Set label colors to white\n",
    "plt.setp(autotexts, color='white')  # Set percentage text colors to white\n",
    "ax.set_title('Distribution of Languages in Movies', fontsize=16, color='white', pad=20)\n",
    "\n",
    "# Transparent background\n",
    "ax.set_facecolor((0, 0, 0, 0))  # Transparent background for axes\n",
    "fig.patch.set_alpha(0)          # Transparent background for figure\n",
    "\n",
    "# Save the plot\n",
    "plt.savefig('language_distribution_pie_chart.png', dpi=300, transparent=True)\n",
    "plt.show()"
   ]
  },
  {
   "cell_type": "code",
   "execution_count": null,
   "metadata": {},
   "outputs": [],
   "source": []
  }
 ],
 "metadata": {
  "kernelspec": {
   "display_name": "ada_project",
   "language": "python",
   "name": "python3"
  },
  "language_info": {
   "codemirror_mode": {
    "name": "ipython",
    "version": 3
   },
   "file_extension": ".py",
   "mimetype": "text/x-python",
   "name": "python",
   "nbconvert_exporter": "python",
   "pygments_lexer": "ipython3",
   "version": "3.11.10"
  }
 },
 "nbformat": 4,
 "nbformat_minor": 2
}
