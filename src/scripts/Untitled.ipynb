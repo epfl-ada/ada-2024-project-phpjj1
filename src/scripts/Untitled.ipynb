{
 "cells": [
  {
   "cell_type": "code",
   "execution_count": 1,
   "id": "1422eff6-93c7-47ab-af2e-1de26e8ef9b7",
   "metadata": {},
   "outputs": [
    {
     "data": {
      "text/html": [
       "<div>\n",
       "<style scoped>\n",
       "    .dataframe tbody tr th:only-of-type {\n",
       "        vertical-align: middle;\n",
       "    }\n",
       "\n",
       "    .dataframe tbody tr th {\n",
       "        vertical-align: top;\n",
       "    }\n",
       "\n",
       "    .dataframe thead th {\n",
       "        text-align: right;\n",
       "    }\n",
       "</style>\n",
       "<table border=\"1\" class=\"dataframe\">\n",
       "  <thead>\n",
       "    <tr style=\"text-align: right;\">\n",
       "      <th></th>\n",
       "      <th>WikiID</th>\n",
       "      <th>FreebaseID</th>\n",
       "      <th>Name</th>\n",
       "      <th>ReleaseDate</th>\n",
       "      <th>Revenue</th>\n",
       "      <th>Runtime</th>\n",
       "      <th>Languages_tuple</th>\n",
       "      <th>Countries_tuples</th>\n",
       "      <th>Genres_tuples</th>\n",
       "    </tr>\n",
       "  </thead>\n",
       "  <tbody>\n",
       "    <tr>\n",
       "      <th>0</th>\n",
       "      <td>975900</td>\n",
       "      <td>/m/03vyhn</td>\n",
       "      <td>Ghosts of Mars</td>\n",
       "      <td>2001-08-24</td>\n",
       "      <td>14010832.0</td>\n",
       "      <td>98.0</td>\n",
       "      <td>{\"/m/02h40lc\": \"English Language\"}</td>\n",
       "      <td>{\"/m/09c7w0\": \"United States of America\"}</td>\n",
       "      <td>{\"/m/01jfsb\": \"Thriller\", \"/m/06n90\": \"Science...</td>\n",
       "    </tr>\n",
       "    <tr>\n",
       "      <th>1</th>\n",
       "      <td>3196793</td>\n",
       "      <td>/m/08yl5d</td>\n",
       "      <td>Getting Away with Murder: The JonBenét Ramsey ...</td>\n",
       "      <td>2000-02-16</td>\n",
       "      <td>NaN</td>\n",
       "      <td>95.0</td>\n",
       "      <td>{\"/m/02h40lc\": \"English Language\"}</td>\n",
       "      <td>{\"/m/09c7w0\": \"United States of America\"}</td>\n",
       "      <td>{\"/m/02n4kr\": \"Mystery\", \"/m/03bxz7\": \"Biograp...</td>\n",
       "    </tr>\n",
       "    <tr>\n",
       "      <th>2</th>\n",
       "      <td>28463795</td>\n",
       "      <td>/m/0crgdbh</td>\n",
       "      <td>Brun bitter</td>\n",
       "      <td>1988</td>\n",
       "      <td>NaN</td>\n",
       "      <td>83.0</td>\n",
       "      <td>{\"/m/05f_3\": \"Norwegian Language\"}</td>\n",
       "      <td>{\"/m/05b4w\": \"Norway\"}</td>\n",
       "      <td>{\"/m/0lsxr\": \"Crime Fiction\", \"/m/07s9rl0\": \"D...</td>\n",
       "    </tr>\n",
       "    <tr>\n",
       "      <th>3</th>\n",
       "      <td>9363483</td>\n",
       "      <td>/m/0285_cd</td>\n",
       "      <td>White Of The Eye</td>\n",
       "      <td>1987</td>\n",
       "      <td>NaN</td>\n",
       "      <td>110.0</td>\n",
       "      <td>{\"/m/02h40lc\": \"English Language\"}</td>\n",
       "      <td>{\"/m/07ssc\": \"United Kingdom\"}</td>\n",
       "      <td>{\"/m/01jfsb\": \"Thriller\", \"/m/0glj9q\": \"Erotic...</td>\n",
       "    </tr>\n",
       "    <tr>\n",
       "      <th>4</th>\n",
       "      <td>261236</td>\n",
       "      <td>/m/01mrr1</td>\n",
       "      <td>A Woman in Flames</td>\n",
       "      <td>1983</td>\n",
       "      <td>NaN</td>\n",
       "      <td>106.0</td>\n",
       "      <td>{\"/m/04306rv\": \"German Language\"}</td>\n",
       "      <td>{\"/m/0345h\": \"Germany\"}</td>\n",
       "      <td>{\"/m/07s9rl0\": \"Drama\"}</td>\n",
       "    </tr>\n",
       "  </tbody>\n",
       "</table>\n",
       "</div>"
      ],
      "text/plain": [
       "     WikiID  FreebaseID                                               Name  \\\n",
       "0    975900   /m/03vyhn                                     Ghosts of Mars   \n",
       "1   3196793   /m/08yl5d  Getting Away with Murder: The JonBenét Ramsey ...   \n",
       "2  28463795  /m/0crgdbh                                        Brun bitter   \n",
       "3   9363483  /m/0285_cd                                   White Of The Eye   \n",
       "4    261236   /m/01mrr1                                  A Woman in Flames   \n",
       "\n",
       "  ReleaseDate     Revenue  Runtime                     Languages_tuple  \\\n",
       "0  2001-08-24  14010832.0     98.0  {\"/m/02h40lc\": \"English Language\"}   \n",
       "1  2000-02-16         NaN     95.0  {\"/m/02h40lc\": \"English Language\"}   \n",
       "2        1988         NaN     83.0  {\"/m/05f_3\": \"Norwegian Language\"}   \n",
       "3        1987         NaN    110.0  {\"/m/02h40lc\": \"English Language\"}   \n",
       "4        1983         NaN    106.0   {\"/m/04306rv\": \"German Language\"}   \n",
       "\n",
       "                            Countries_tuples  \\\n",
       "0  {\"/m/09c7w0\": \"United States of America\"}   \n",
       "1  {\"/m/09c7w0\": \"United States of America\"}   \n",
       "2                     {\"/m/05b4w\": \"Norway\"}   \n",
       "3             {\"/m/07ssc\": \"United Kingdom\"}   \n",
       "4                    {\"/m/0345h\": \"Germany\"}   \n",
       "\n",
       "                                       Genres_tuples  \n",
       "0  {\"/m/01jfsb\": \"Thriller\", \"/m/06n90\": \"Science...  \n",
       "1  {\"/m/02n4kr\": \"Mystery\", \"/m/03bxz7\": \"Biograp...  \n",
       "2  {\"/m/0lsxr\": \"Crime Fiction\", \"/m/07s9rl0\": \"D...  \n",
       "3  {\"/m/01jfsb\": \"Thriller\", \"/m/0glj9q\": \"Erotic...  \n",
       "4                            {\"/m/07s9rl0\": \"Drama\"}  "
      ]
     },
     "execution_count": 1,
     "metadata": {},
     "output_type": "execute_result"
    }
   ],
   "source": [
    "import pandas as pd \n",
    "import numpy as np \n",
    "import matplotlib.pyplot as plt \n",
    "import seaborn as sns\n",
    "\n",
    "# Set to display all columns\n",
    "pd.set_option('display.max_columns', None)\n",
    "\n",
    "# Set to display 50 rows \n",
    "pd.set_option('display.max_rows', 50)\n",
    "\n",
    "# Importing the movie dataset\n",
    "movie = pd.read_csv('../data/Original_CMU/movie.metadata.tsv', sep= '\\t', header=None)\n",
    "\n",
    "movie.columns = ['WikiID', 'FreebaseID', 'Name', 'ReleaseDate',\n",
    "                     'Revenue', 'Runtime', 'Languages_tuple', 'Countries_tuples', 'Genres_tuples']\n",
    "movie.head()"
   ]
  },
  {
   "cell_type": "code",
   "execution_count": 2,
   "id": "0c89abe3-466b-4aed-8916-bea4518f19f1",
   "metadata": {},
   "outputs": [
    {
     "name": "stdout",
     "output_type": "stream",
     "text": [
      "(81741, 9)\n",
      "WikiID                int64\n",
      "FreebaseID           object\n",
      "Name                 object\n",
      "ReleaseDate          object\n",
      "Revenue             float64\n",
      "Runtime             float64\n",
      "Languages_tuple      object\n",
      "Countries_tuples     object\n",
      "Genres_tuples        object\n",
      "dtype: object\n"
     ]
    }
   ],
   "source": [
    "print(movie.shape)\n",
    "print(movie.dtypes)"
   ]
  },
  {
   "cell_type": "markdown",
   "id": "43c59886-25f9-4b9d-9277-36590c62e575",
   "metadata": {},
   "source": [
    "# Checking missing values in the movie dataset"
   ]
  },
  {
   "cell_type": "code",
   "execution_count": 3,
   "id": "805e72f3-6163-4707-894f-d9de8601b4f8",
   "metadata": {},
   "outputs": [
    {
     "name": "stdout",
     "output_type": "stream",
     "text": [
      "WikiID         0.000000\n",
      "FreebaseID     0.000000\n",
      "Name           0.000000\n",
      "ReleaseDate    0.084437\n",
      "Revenue        0.897224\n",
      "Runtime        0.250180\n",
      "dtype: float64\n",
      "Languages_tuple     0.169633\n",
      "Countries_tuples    0.099754\n",
      "Genres_tuples       0.028064\n",
      "dtype: float64\n"
     ]
    }
   ],
   "source": [
    "print((pd.isna(movie.iloc[:,:6]).sum()) / len(movie))\n",
    "print((movie.iloc[:, 6:] == '{}').sum() / len(movie))"
   ]
  },
  {
   "cell_type": "markdown",
   "id": "90098a38-07a2-43b4-ab07-a01d38746da9",
   "metadata": {},
   "source": [
    "# Data Processing"
   ]
  },
  {
   "cell_type": "markdown",
   "id": "b5374fb8-7ece-4b40-ae37-1b03f4ff6cd4",
   "metadata": {},
   "source": [
    "## Parsing tuples into lists"
   ]
  },
  {
   "cell_type": "code",
   "execution_count": 4,
   "id": "d37261c6-7320-45fe-8ff5-bd37763c9fea",
   "metadata": {},
   "outputs": [],
   "source": [
    "import ast\n",
    "\n",
    "def conv_to_dict(val): \n",
    "    try:\n",
    "        return ast.literal_eval(val) if pd.notna(val) else {}\n",
    "    except (ValueError, SyntaxError):\n",
    "        return {}\n",
    "\n",
    "def get_list(x):\n",
    "    return list(x.values())"
   ]
  },
  {
   "cell_type": "code",
   "execution_count": 5,
   "id": "3ad7e40c-f3cc-466a-a0cd-c7dd67836efa",
   "metadata": {},
   "outputs": [],
   "source": [
    "movie['Languages'] = movie['Languages_tuple'].apply(conv_to_dict).apply(get_list)\n",
    "movie['Countries'] = movie['Countries_tuples'].apply(conv_to_dict).apply(get_list)\n",
    "movie['Genres'] = movie['Genres_tuples'].apply(conv_to_dict).apply(get_list)"
   ]
  },
  {
   "cell_type": "code",
   "execution_count": 6,
   "id": "c6c6e052-2302-41fc-8729-3e600a8cb214",
   "metadata": {},
   "outputs": [
    {
     "data": {
      "text/html": [
       "<div>\n",
       "<style scoped>\n",
       "    .dataframe tbody tr th:only-of-type {\n",
       "        vertical-align: middle;\n",
       "    }\n",
       "\n",
       "    .dataframe tbody tr th {\n",
       "        vertical-align: top;\n",
       "    }\n",
       "\n",
       "    .dataframe thead th {\n",
       "        text-align: right;\n",
       "    }\n",
       "</style>\n",
       "<table border=\"1\" class=\"dataframe\">\n",
       "  <thead>\n",
       "    <tr style=\"text-align: right;\">\n",
       "      <th></th>\n",
       "      <th>WikiID</th>\n",
       "      <th>FreebaseID</th>\n",
       "      <th>Name</th>\n",
       "      <th>ReleaseDate</th>\n",
       "      <th>Revenue</th>\n",
       "      <th>Runtime</th>\n",
       "      <th>Languages_tuple</th>\n",
       "      <th>Countries_tuples</th>\n",
       "      <th>Genres_tuples</th>\n",
       "      <th>Languages</th>\n",
       "      <th>Countries</th>\n",
       "      <th>Genres</th>\n",
       "    </tr>\n",
       "  </thead>\n",
       "  <tbody>\n",
       "    <tr>\n",
       "      <th>0</th>\n",
       "      <td>975900</td>\n",
       "      <td>/m/03vyhn</td>\n",
       "      <td>Ghosts of Mars</td>\n",
       "      <td>2001-08-24</td>\n",
       "      <td>14010832.0</td>\n",
       "      <td>98.0</td>\n",
       "      <td>{\"/m/02h40lc\": \"English Language\"}</td>\n",
       "      <td>{\"/m/09c7w0\": \"United States of America\"}</td>\n",
       "      <td>{\"/m/01jfsb\": \"Thriller\", \"/m/06n90\": \"Science...</td>\n",
       "      <td>[English Language]</td>\n",
       "      <td>[United States of America]</td>\n",
       "      <td>[Thriller, Science Fiction, Horror, Adventure,...</td>\n",
       "    </tr>\n",
       "    <tr>\n",
       "      <th>1</th>\n",
       "      <td>3196793</td>\n",
       "      <td>/m/08yl5d</td>\n",
       "      <td>Getting Away with Murder: The JonBenét Ramsey ...</td>\n",
       "      <td>2000-02-16</td>\n",
       "      <td>NaN</td>\n",
       "      <td>95.0</td>\n",
       "      <td>{\"/m/02h40lc\": \"English Language\"}</td>\n",
       "      <td>{\"/m/09c7w0\": \"United States of America\"}</td>\n",
       "      <td>{\"/m/02n4kr\": \"Mystery\", \"/m/03bxz7\": \"Biograp...</td>\n",
       "      <td>[English Language]</td>\n",
       "      <td>[United States of America]</td>\n",
       "      <td>[Mystery, Biographical film, Drama, Crime Drama]</td>\n",
       "    </tr>\n",
       "    <tr>\n",
       "      <th>2</th>\n",
       "      <td>28463795</td>\n",
       "      <td>/m/0crgdbh</td>\n",
       "      <td>Brun bitter</td>\n",
       "      <td>1988</td>\n",
       "      <td>NaN</td>\n",
       "      <td>83.0</td>\n",
       "      <td>{\"/m/05f_3\": \"Norwegian Language\"}</td>\n",
       "      <td>{\"/m/05b4w\": \"Norway\"}</td>\n",
       "      <td>{\"/m/0lsxr\": \"Crime Fiction\", \"/m/07s9rl0\": \"D...</td>\n",
       "      <td>[Norwegian Language]</td>\n",
       "      <td>[Norway]</td>\n",
       "      <td>[Crime Fiction, Drama]</td>\n",
       "    </tr>\n",
       "    <tr>\n",
       "      <th>3</th>\n",
       "      <td>9363483</td>\n",
       "      <td>/m/0285_cd</td>\n",
       "      <td>White Of The Eye</td>\n",
       "      <td>1987</td>\n",
       "      <td>NaN</td>\n",
       "      <td>110.0</td>\n",
       "      <td>{\"/m/02h40lc\": \"English Language\"}</td>\n",
       "      <td>{\"/m/07ssc\": \"United Kingdom\"}</td>\n",
       "      <td>{\"/m/01jfsb\": \"Thriller\", \"/m/0glj9q\": \"Erotic...</td>\n",
       "      <td>[English Language]</td>\n",
       "      <td>[United Kingdom]</td>\n",
       "      <td>[Thriller, Erotic thriller, Psychological thri...</td>\n",
       "    </tr>\n",
       "    <tr>\n",
       "      <th>4</th>\n",
       "      <td>261236</td>\n",
       "      <td>/m/01mrr1</td>\n",
       "      <td>A Woman in Flames</td>\n",
       "      <td>1983</td>\n",
       "      <td>NaN</td>\n",
       "      <td>106.0</td>\n",
       "      <td>{\"/m/04306rv\": \"German Language\"}</td>\n",
       "      <td>{\"/m/0345h\": \"Germany\"}</td>\n",
       "      <td>{\"/m/07s9rl0\": \"Drama\"}</td>\n",
       "      <td>[German Language]</td>\n",
       "      <td>[Germany]</td>\n",
       "      <td>[Drama]</td>\n",
       "    </tr>\n",
       "  </tbody>\n",
       "</table>\n",
       "</div>"
      ],
      "text/plain": [
       "     WikiID  FreebaseID                                               Name  \\\n",
       "0    975900   /m/03vyhn                                     Ghosts of Mars   \n",
       "1   3196793   /m/08yl5d  Getting Away with Murder: The JonBenét Ramsey ...   \n",
       "2  28463795  /m/0crgdbh                                        Brun bitter   \n",
       "3   9363483  /m/0285_cd                                   White Of The Eye   \n",
       "4    261236   /m/01mrr1                                  A Woman in Flames   \n",
       "\n",
       "  ReleaseDate     Revenue  Runtime                     Languages_tuple  \\\n",
       "0  2001-08-24  14010832.0     98.0  {\"/m/02h40lc\": \"English Language\"}   \n",
       "1  2000-02-16         NaN     95.0  {\"/m/02h40lc\": \"English Language\"}   \n",
       "2        1988         NaN     83.0  {\"/m/05f_3\": \"Norwegian Language\"}   \n",
       "3        1987         NaN    110.0  {\"/m/02h40lc\": \"English Language\"}   \n",
       "4        1983         NaN    106.0   {\"/m/04306rv\": \"German Language\"}   \n",
       "\n",
       "                            Countries_tuples  \\\n",
       "0  {\"/m/09c7w0\": \"United States of America\"}   \n",
       "1  {\"/m/09c7w0\": \"United States of America\"}   \n",
       "2                     {\"/m/05b4w\": \"Norway\"}   \n",
       "3             {\"/m/07ssc\": \"United Kingdom\"}   \n",
       "4                    {\"/m/0345h\": \"Germany\"}   \n",
       "\n",
       "                                       Genres_tuples             Languages  \\\n",
       "0  {\"/m/01jfsb\": \"Thriller\", \"/m/06n90\": \"Science...    [English Language]   \n",
       "1  {\"/m/02n4kr\": \"Mystery\", \"/m/03bxz7\": \"Biograp...    [English Language]   \n",
       "2  {\"/m/0lsxr\": \"Crime Fiction\", \"/m/07s9rl0\": \"D...  [Norwegian Language]   \n",
       "3  {\"/m/01jfsb\": \"Thriller\", \"/m/0glj9q\": \"Erotic...    [English Language]   \n",
       "4                            {\"/m/07s9rl0\": \"Drama\"}     [German Language]   \n",
       "\n",
       "                    Countries  \\\n",
       "0  [United States of America]   \n",
       "1  [United States of America]   \n",
       "2                    [Norway]   \n",
       "3            [United Kingdom]   \n",
       "4                   [Germany]   \n",
       "\n",
       "                                              Genres  \n",
       "0  [Thriller, Science Fiction, Horror, Adventure,...  \n",
       "1   [Mystery, Biographical film, Drama, Crime Drama]  \n",
       "2                             [Crime Fiction, Drama]  \n",
       "3  [Thriller, Erotic thriller, Psychological thri...  \n",
       "4                                            [Drama]  "
      ]
     },
     "execution_count": 6,
     "metadata": {},
     "output_type": "execute_result"
    }
   ],
   "source": [
    "movie.head()"
   ]
  },
  {
   "cell_type": "markdown",
   "id": "2e6287ce-bae4-4eb2-b136-3333cdf54f63",
   "metadata": {},
   "source": [
    "## Importing the movie summary plot dataset"
   ]
  },
  {
   "cell_type": "code",
   "execution_count": 7,
   "id": "6b8c6624-2a1f-4bf5-8b62-095362bb256f",
   "metadata": {},
   "outputs": [
    {
     "data": {
      "text/html": [
       "<div>\n",
       "<style scoped>\n",
       "    .dataframe tbody tr th:only-of-type {\n",
       "        vertical-align: middle;\n",
       "    }\n",
       "\n",
       "    .dataframe tbody tr th {\n",
       "        vertical-align: top;\n",
       "    }\n",
       "\n",
       "    .dataframe thead th {\n",
       "        text-align: right;\n",
       "    }\n",
       "</style>\n",
       "<table border=\"1\" class=\"dataframe\">\n",
       "  <thead>\n",
       "    <tr style=\"text-align: right;\">\n",
       "      <th></th>\n",
       "      <th>WikiID</th>\n",
       "      <th>Plot</th>\n",
       "    </tr>\n",
       "  </thead>\n",
       "  <tbody>\n",
       "    <tr>\n",
       "      <th>0</th>\n",
       "      <td>23890098</td>\n",
       "      <td>Shlykov, a hard-working taxi driver and Lyosha...</td>\n",
       "    </tr>\n",
       "    <tr>\n",
       "      <th>1</th>\n",
       "      <td>31186339</td>\n",
       "      <td>The nation of Panem consists of a wealthy Capi...</td>\n",
       "    </tr>\n",
       "    <tr>\n",
       "      <th>2</th>\n",
       "      <td>20663735</td>\n",
       "      <td>Poovalli Induchoodan  is sentenced for six yea...</td>\n",
       "    </tr>\n",
       "    <tr>\n",
       "      <th>3</th>\n",
       "      <td>2231378</td>\n",
       "      <td>The Lemon Drop Kid , a New York City swindler,...</td>\n",
       "    </tr>\n",
       "    <tr>\n",
       "      <th>4</th>\n",
       "      <td>595909</td>\n",
       "      <td>Seventh-day Adventist Church pastor Michael Ch...</td>\n",
       "    </tr>\n",
       "  </tbody>\n",
       "</table>\n",
       "</div>"
      ],
      "text/plain": [
       "     WikiID                                               Plot\n",
       "0  23890098  Shlykov, a hard-working taxi driver and Lyosha...\n",
       "1  31186339  The nation of Panem consists of a wealthy Capi...\n",
       "2  20663735  Poovalli Induchoodan  is sentenced for six yea...\n",
       "3   2231378  The Lemon Drop Kid , a New York City swindler,...\n",
       "4    595909  Seventh-day Adventist Church pastor Michael Ch..."
      ]
     },
     "execution_count": 7,
     "metadata": {},
     "output_type": "execute_result"
    }
   ],
   "source": [
    "plots = pd.read_csv('../data/Original_CMU/plot_summaries.txt', sep='\\t', header=None)\n",
    "plots.columns = ['WikiID', 'Plot']\n",
    "plots.head()"
   ]
  },
  {
   "cell_type": "markdown",
   "id": "30e7ee96-d974-4323-9c19-af2243e0a7bd",
   "metadata": {},
   "source": [
    "## Importing the character dataset"
   ]
  },
  {
   "cell_type": "code",
   "execution_count": 8,
   "id": "ff64c6f2-7a87-4c5f-9587-5a36a844c05f",
   "metadata": {},
   "outputs": [
    {
     "data": {
      "text/html": [
       "<div>\n",
       "<style scoped>\n",
       "    .dataframe tbody tr th:only-of-type {\n",
       "        vertical-align: middle;\n",
       "    }\n",
       "\n",
       "    .dataframe tbody tr th {\n",
       "        vertical-align: top;\n",
       "    }\n",
       "\n",
       "    .dataframe thead th {\n",
       "        text-align: right;\n",
       "    }\n",
       "</style>\n",
       "<table border=\"1\" class=\"dataframe\">\n",
       "  <thead>\n",
       "    <tr style=\"text-align: right;\">\n",
       "      <th></th>\n",
       "      <th>WikiMovieID</th>\n",
       "      <th>FreebaseMovieID</th>\n",
       "      <th>MovieReleaseDate</th>\n",
       "      <th>CharacterName</th>\n",
       "      <th>ActorBirthDate</th>\n",
       "      <th>ActorGender</th>\n",
       "      <th>ActorHeight</th>\n",
       "      <th>ActorEthnicity</th>\n",
       "      <th>ActorName</th>\n",
       "      <th>ActorAge</th>\n",
       "      <th>CharacterActorMap</th>\n",
       "      <th>CharacterID</th>\n",
       "      <th>ActorID</th>\n",
       "    </tr>\n",
       "  </thead>\n",
       "  <tbody>\n",
       "    <tr>\n",
       "      <th>0</th>\n",
       "      <td>975900</td>\n",
       "      <td>/m/03vyhn</td>\n",
       "      <td>2001-08-24</td>\n",
       "      <td>Akooshay</td>\n",
       "      <td>1958-08-26</td>\n",
       "      <td>F</td>\n",
       "      <td>1.620</td>\n",
       "      <td>NaN</td>\n",
       "      <td>Wanda De Jesus</td>\n",
       "      <td>42.0</td>\n",
       "      <td>/m/0bgchxw</td>\n",
       "      <td>/m/0bgcj3x</td>\n",
       "      <td>/m/03wcfv7</td>\n",
       "    </tr>\n",
       "    <tr>\n",
       "      <th>1</th>\n",
       "      <td>975900</td>\n",
       "      <td>/m/03vyhn</td>\n",
       "      <td>2001-08-24</td>\n",
       "      <td>Lieutenant Melanie Ballard</td>\n",
       "      <td>1974-08-15</td>\n",
       "      <td>F</td>\n",
       "      <td>1.780</td>\n",
       "      <td>/m/044038p</td>\n",
       "      <td>Natasha Henstridge</td>\n",
       "      <td>27.0</td>\n",
       "      <td>/m/0jys3m</td>\n",
       "      <td>/m/0bgchn4</td>\n",
       "      <td>/m/0346l4</td>\n",
       "    </tr>\n",
       "    <tr>\n",
       "      <th>2</th>\n",
       "      <td>975900</td>\n",
       "      <td>/m/03vyhn</td>\n",
       "      <td>2001-08-24</td>\n",
       "      <td>Desolation Williams</td>\n",
       "      <td>1969-06-15</td>\n",
       "      <td>M</td>\n",
       "      <td>1.727</td>\n",
       "      <td>/m/0x67</td>\n",
       "      <td>Ice Cube</td>\n",
       "      <td>32.0</td>\n",
       "      <td>/m/0jys3g</td>\n",
       "      <td>/m/0bgchn_</td>\n",
       "      <td>/m/01vw26l</td>\n",
       "    </tr>\n",
       "    <tr>\n",
       "      <th>3</th>\n",
       "      <td>975900</td>\n",
       "      <td>/m/03vyhn</td>\n",
       "      <td>2001-08-24</td>\n",
       "      <td>Sgt Jericho Butler</td>\n",
       "      <td>1967-09-12</td>\n",
       "      <td>M</td>\n",
       "      <td>1.750</td>\n",
       "      <td>NaN</td>\n",
       "      <td>Jason Statham</td>\n",
       "      <td>33.0</td>\n",
       "      <td>/m/02vchl6</td>\n",
       "      <td>/m/0bgchnq</td>\n",
       "      <td>/m/034hyc</td>\n",
       "    </tr>\n",
       "    <tr>\n",
       "      <th>4</th>\n",
       "      <td>975900</td>\n",
       "      <td>/m/03vyhn</td>\n",
       "      <td>2001-08-24</td>\n",
       "      <td>Bashira Kincaid</td>\n",
       "      <td>1977-09-25</td>\n",
       "      <td>F</td>\n",
       "      <td>1.650</td>\n",
       "      <td>NaN</td>\n",
       "      <td>Clea DuVall</td>\n",
       "      <td>23.0</td>\n",
       "      <td>/m/02vbb3r</td>\n",
       "      <td>/m/0bgchp9</td>\n",
       "      <td>/m/01y9xg</td>\n",
       "    </tr>\n",
       "  </tbody>\n",
       "</table>\n",
       "</div>"
      ],
      "text/plain": [
       "   WikiMovieID FreebaseMovieID MovieReleaseDate               CharacterName  \\\n",
       "0       975900       /m/03vyhn       2001-08-24                    Akooshay   \n",
       "1       975900       /m/03vyhn       2001-08-24  Lieutenant Melanie Ballard   \n",
       "2       975900       /m/03vyhn       2001-08-24         Desolation Williams   \n",
       "3       975900       /m/03vyhn       2001-08-24          Sgt Jericho Butler   \n",
       "4       975900       /m/03vyhn       2001-08-24             Bashira Kincaid   \n",
       "\n",
       "  ActorBirthDate ActorGender  ActorHeight ActorEthnicity           ActorName  \\\n",
       "0     1958-08-26           F        1.620            NaN      Wanda De Jesus   \n",
       "1     1974-08-15           F        1.780     /m/044038p  Natasha Henstridge   \n",
       "2     1969-06-15           M        1.727        /m/0x67            Ice Cube   \n",
       "3     1967-09-12           M        1.750            NaN       Jason Statham   \n",
       "4     1977-09-25           F        1.650            NaN         Clea DuVall   \n",
       "\n",
       "   ActorAge CharacterActorMap CharacterID     ActorID  \n",
       "0      42.0        /m/0bgchxw  /m/0bgcj3x  /m/03wcfv7  \n",
       "1      27.0         /m/0jys3m  /m/0bgchn4   /m/0346l4  \n",
       "2      32.0         /m/0jys3g  /m/0bgchn_  /m/01vw26l  \n",
       "3      33.0        /m/02vchl6  /m/0bgchnq   /m/034hyc  \n",
       "4      23.0        /m/02vbb3r  /m/0bgchp9   /m/01y9xg  "
      ]
     },
     "execution_count": 8,
     "metadata": {},
     "output_type": "execute_result"
    }
   ],
   "source": [
    "characters = pd.read_csv('../data/Original_CMU/character.metadata.tsv', sep= '\\t', header=None)\n",
    "characters.columns = ['WikiMovieID', 'FreebaseMovieID', 'MovieReleaseDate','CharacterName',\n",
    "                      'ActorBirthDate', 'ActorGender', 'ActorHeight','ActorEthnicity', \n",
    "                      'ActorName', 'ActorAge', 'CharacterActorMap', 'CharacterID', 'ActorID']\n",
    "characters.head()"
   ]
  },
  {
   "cell_type": "markdown",
   "id": "171dba8c-87c9-473c-b81e-a953916668e1",
   "metadata": {},
   "source": [
    "### Checking missing values of the character dataset"
   ]
  },
  {
   "cell_type": "code",
   "execution_count": 9,
   "id": "d0579f0a-a865-4c08-8ef1-2c10eb6843a6",
   "metadata": {},
   "outputs": [
    {
     "data": {
      "text/plain": [
       "WikiMovieID          0.000000\n",
       "FreebaseMovieID      0.000000\n",
       "MovieReleaseDate     0.022178\n",
       "CharacterName        0.572205\n",
       "ActorBirthDate       0.235528\n",
       "ActorGender          0.101203\n",
       "ActorHeight          0.656457\n",
       "ActorEthnicity       0.764665\n",
       "ActorName            0.002725\n",
       "ActorAge             0.350841\n",
       "CharacterActorMap    0.000000\n",
       "CharacterID          0.572183\n",
       "ActorID              0.001808\n",
       "dtype: float64"
      ]
     },
     "execution_count": 9,
     "metadata": {},
     "output_type": "execute_result"
    }
   ],
   "source": [
    "pd.isna(characters).sum() / len(characters)"
   ]
  },
  {
   "cell_type": "markdown",
   "id": "433466d4-334e-45a8-a25b-e5415581b7eb",
   "metadata": {},
   "source": [
    "## Importing the tvtropes dataset"
   ]
  },
  {
   "cell_type": "code",
   "execution_count": 10,
   "id": "ceb5587c-69b6-4200-b764-7dadf9db7341",
   "metadata": {},
   "outputs": [
    {
     "data": {
      "text/html": [
       "<div>\n",
       "<style scoped>\n",
       "    .dataframe tbody tr th:only-of-type {\n",
       "        vertical-align: middle;\n",
       "    }\n",
       "\n",
       "    .dataframe tbody tr th {\n",
       "        vertical-align: top;\n",
       "    }\n",
       "\n",
       "    .dataframe thead th {\n",
       "        text-align: right;\n",
       "    }\n",
       "</style>\n",
       "<table border=\"1\" class=\"dataframe\">\n",
       "  <thead>\n",
       "    <tr style=\"text-align: right;\">\n",
       "      <th></th>\n",
       "      <th>Instances</th>\n",
       "      <th>Dictionary_str</th>\n",
       "    </tr>\n",
       "  </thead>\n",
       "  <tbody>\n",
       "    <tr>\n",
       "      <th>0</th>\n",
       "      <td>absent_minded_professor</td>\n",
       "      <td>{\"char\": \"Professor Philip Brainard\", \"movie\":...</td>\n",
       "    </tr>\n",
       "    <tr>\n",
       "      <th>1</th>\n",
       "      <td>absent_minded_professor</td>\n",
       "      <td>{\"char\": \"Professor Keenbean\", \"movie\": \"Richi...</td>\n",
       "    </tr>\n",
       "    <tr>\n",
       "      <th>2</th>\n",
       "      <td>absent_minded_professor</td>\n",
       "      <td>{\"char\": \"Dr. Reinhardt Lane\", \"movie\": \"The S...</td>\n",
       "    </tr>\n",
       "    <tr>\n",
       "      <th>3</th>\n",
       "      <td>absent_minded_professor</td>\n",
       "      <td>{\"char\": \"Dr. Harold Medford\", \"movie\": \"Them!...</td>\n",
       "    </tr>\n",
       "    <tr>\n",
       "      <th>4</th>\n",
       "      <td>absent_minded_professor</td>\n",
       "      <td>{\"char\": \"Daniel Jackson\", \"movie\": \"Stargate\"...</td>\n",
       "    </tr>\n",
       "  </tbody>\n",
       "</table>\n",
       "</div>"
      ],
      "text/plain": [
       "                 Instances                                     Dictionary_str\n",
       "0  absent_minded_professor  {\"char\": \"Professor Philip Brainard\", \"movie\":...\n",
       "1  absent_minded_professor  {\"char\": \"Professor Keenbean\", \"movie\": \"Richi...\n",
       "2  absent_minded_professor  {\"char\": \"Dr. Reinhardt Lane\", \"movie\": \"The S...\n",
       "3  absent_minded_professor  {\"char\": \"Dr. Harold Medford\", \"movie\": \"Them!...\n",
       "4  absent_minded_professor  {\"char\": \"Daniel Jackson\", \"movie\": \"Stargate\"..."
      ]
     },
     "execution_count": 10,
     "metadata": {},
     "output_type": "execute_result"
    }
   ],
   "source": [
    "tvtropes_clusters = pd.read_csv('../data/Original_CMU/tvtropes.clusters.txt', sep='\\t', header=None)\n",
    "tvtropes_clusters.columns = ['Instances', 'Dictionary_str']\n",
    "tvtropes_clusters.head()"
   ]
  },
  {
   "cell_type": "code",
   "execution_count": 11,
   "id": "7f2a87ac-ab06-47cc-a40c-53335cd356f3",
   "metadata": {},
   "outputs": [
    {
     "data": {
      "text/html": [
       "<div>\n",
       "<style scoped>\n",
       "    .dataframe tbody tr th:only-of-type {\n",
       "        vertical-align: middle;\n",
       "    }\n",
       "\n",
       "    .dataframe tbody tr th {\n",
       "        vertical-align: top;\n",
       "    }\n",
       "\n",
       "    .dataframe thead th {\n",
       "        text-align: right;\n",
       "    }\n",
       "</style>\n",
       "<table border=\"1\" class=\"dataframe\">\n",
       "  <thead>\n",
       "    <tr style=\"text-align: right;\">\n",
       "      <th></th>\n",
       "      <th>Instances</th>\n",
       "      <th>char</th>\n",
       "      <th>movie</th>\n",
       "      <th>CharacterActorMap</th>\n",
       "      <th>actor</th>\n",
       "    </tr>\n",
       "  </thead>\n",
       "  <tbody>\n",
       "    <tr>\n",
       "      <th>0</th>\n",
       "      <td>absent_minded_professor</td>\n",
       "      <td>Professor Philip Brainard</td>\n",
       "      <td>Flubber</td>\n",
       "      <td>/m/0jy9q0</td>\n",
       "      <td>Robin Williams</td>\n",
       "    </tr>\n",
       "    <tr>\n",
       "      <th>1</th>\n",
       "      <td>absent_minded_professor</td>\n",
       "      <td>Professor Keenbean</td>\n",
       "      <td>Richie Rich</td>\n",
       "      <td>/m/02vchl3</td>\n",
       "      <td>Michael McShane</td>\n",
       "    </tr>\n",
       "    <tr>\n",
       "      <th>2</th>\n",
       "      <td>absent_minded_professor</td>\n",
       "      <td>Dr. Reinhardt Lane</td>\n",
       "      <td>The Shadow</td>\n",
       "      <td>/m/0k6fkc</td>\n",
       "      <td>Ian McKellen</td>\n",
       "    </tr>\n",
       "    <tr>\n",
       "      <th>3</th>\n",
       "      <td>absent_minded_professor</td>\n",
       "      <td>Dr. Harold Medford</td>\n",
       "      <td>Them!</td>\n",
       "      <td>/m/0k6_br</td>\n",
       "      <td>Edmund Gwenn</td>\n",
       "    </tr>\n",
       "    <tr>\n",
       "      <th>4</th>\n",
       "      <td>absent_minded_professor</td>\n",
       "      <td>Daniel Jackson</td>\n",
       "      <td>Stargate</td>\n",
       "      <td>/m/0k3rhh</td>\n",
       "      <td>James Spader</td>\n",
       "    </tr>\n",
       "  </tbody>\n",
       "</table>\n",
       "</div>"
      ],
      "text/plain": [
       "                 Instances                       char        movie  \\\n",
       "0  absent_minded_professor  Professor Philip Brainard      Flubber   \n",
       "1  absent_minded_professor         Professor Keenbean  Richie Rich   \n",
       "2  absent_minded_professor         Dr. Reinhardt Lane   The Shadow   \n",
       "3  absent_minded_professor         Dr. Harold Medford        Them!   \n",
       "4  absent_minded_professor             Daniel Jackson     Stargate   \n",
       "\n",
       "  CharacterActorMap            actor  \n",
       "0         /m/0jy9q0   Robin Williams  \n",
       "1        /m/02vchl3  Michael McShane  \n",
       "2         /m/0k6fkc     Ian McKellen  \n",
       "3         /m/0k6_br     Edmund Gwenn  \n",
       "4         /m/0k3rhh     James Spader  "
      ]
     },
     "execution_count": 11,
     "metadata": {},
     "output_type": "execute_result"
    }
   ],
   "source": [
    "tvtropes_clusters['Dictionary'] = tvtropes_clusters['Dictionary_str'].apply(conv_to_dict)\n",
    "\n",
    "# Create column for each key in the dictionary\n",
    "c = tvtropes_clusters['Dictionary'].apply(pd.Series)\n",
    "tvtropes_new = pd.concat([tvtropes_clusters['Instances'], c], axis=1)\n",
    "tvtropes_new.rename(columns= {'id': 'CharacterActorMap'}, inplace=True)\n",
    "tvtropes_new.head()"
   ]
  },
  {
   "cell_type": "markdown",
   "id": "5d277536-d0e5-4507-a7fd-a912cdc66478",
   "metadata": {},
   "source": [
    "## Merging the movie and the summary plot datasets"
   ]
  },
  {
   "cell_type": "code",
   "execution_count": 12,
   "id": "a4aadac7-da4a-4ab5-a6be-5ac441540ff5",
   "metadata": {},
   "outputs": [
    {
     "data": {
      "text/html": [
       "<div>\n",
       "<style scoped>\n",
       "    .dataframe tbody tr th:only-of-type {\n",
       "        vertical-align: middle;\n",
       "    }\n",
       "\n",
       "    .dataframe tbody tr th {\n",
       "        vertical-align: top;\n",
       "    }\n",
       "\n",
       "    .dataframe thead th {\n",
       "        text-align: right;\n",
       "    }\n",
       "</style>\n",
       "<table border=\"1\" class=\"dataframe\">\n",
       "  <thead>\n",
       "    <tr style=\"text-align: right;\">\n",
       "      <th></th>\n",
       "      <th>WikiID</th>\n",
       "      <th>FreebaseID</th>\n",
       "      <th>Name</th>\n",
       "      <th>ReleaseDate</th>\n",
       "      <th>Revenue</th>\n",
       "      <th>Runtime</th>\n",
       "      <th>Languages_tuple</th>\n",
       "      <th>Countries_tuples</th>\n",
       "      <th>Genres_tuples</th>\n",
       "      <th>Languages</th>\n",
       "      <th>Countries</th>\n",
       "      <th>Genres</th>\n",
       "      <th>Plot</th>\n",
       "    </tr>\n",
       "  </thead>\n",
       "  <tbody>\n",
       "    <tr>\n",
       "      <th>0</th>\n",
       "      <td>975900</td>\n",
       "      <td>/m/03vyhn</td>\n",
       "      <td>Ghosts of Mars</td>\n",
       "      <td>2001-08-24</td>\n",
       "      <td>14010832.0</td>\n",
       "      <td>98.0</td>\n",
       "      <td>{\"/m/02h40lc\": \"English Language\"}</td>\n",
       "      <td>{\"/m/09c7w0\": \"United States of America\"}</td>\n",
       "      <td>{\"/m/01jfsb\": \"Thriller\", \"/m/06n90\": \"Science...</td>\n",
       "      <td>[English Language]</td>\n",
       "      <td>[United States of America]</td>\n",
       "      <td>[Thriller, Science Fiction, Horror, Adventure,...</td>\n",
       "      <td>Set in the second half of the 22nd century, th...</td>\n",
       "    </tr>\n",
       "    <tr>\n",
       "      <th>1</th>\n",
       "      <td>3196793</td>\n",
       "      <td>/m/08yl5d</td>\n",
       "      <td>Getting Away with Murder: The JonBenét Ramsey ...</td>\n",
       "      <td>2000-02-16</td>\n",
       "      <td>NaN</td>\n",
       "      <td>95.0</td>\n",
       "      <td>{\"/m/02h40lc\": \"English Language\"}</td>\n",
       "      <td>{\"/m/09c7w0\": \"United States of America\"}</td>\n",
       "      <td>{\"/m/02n4kr\": \"Mystery\", \"/m/03bxz7\": \"Biograp...</td>\n",
       "      <td>[English Language]</td>\n",
       "      <td>[United States of America]</td>\n",
       "      <td>[Mystery, Biographical film, Drama, Crime Drama]</td>\n",
       "      <td>NaN</td>\n",
       "    </tr>\n",
       "    <tr>\n",
       "      <th>2</th>\n",
       "      <td>28463795</td>\n",
       "      <td>/m/0crgdbh</td>\n",
       "      <td>Brun bitter</td>\n",
       "      <td>1988</td>\n",
       "      <td>NaN</td>\n",
       "      <td>83.0</td>\n",
       "      <td>{\"/m/05f_3\": \"Norwegian Language\"}</td>\n",
       "      <td>{\"/m/05b4w\": \"Norway\"}</td>\n",
       "      <td>{\"/m/0lsxr\": \"Crime Fiction\", \"/m/07s9rl0\": \"D...</td>\n",
       "      <td>[Norwegian Language]</td>\n",
       "      <td>[Norway]</td>\n",
       "      <td>[Crime Fiction, Drama]</td>\n",
       "      <td>NaN</td>\n",
       "    </tr>\n",
       "    <tr>\n",
       "      <th>3</th>\n",
       "      <td>9363483</td>\n",
       "      <td>/m/0285_cd</td>\n",
       "      <td>White Of The Eye</td>\n",
       "      <td>1987</td>\n",
       "      <td>NaN</td>\n",
       "      <td>110.0</td>\n",
       "      <td>{\"/m/02h40lc\": \"English Language\"}</td>\n",
       "      <td>{\"/m/07ssc\": \"United Kingdom\"}</td>\n",
       "      <td>{\"/m/01jfsb\": \"Thriller\", \"/m/0glj9q\": \"Erotic...</td>\n",
       "      <td>[English Language]</td>\n",
       "      <td>[United Kingdom]</td>\n",
       "      <td>[Thriller, Erotic thriller, Psychological thri...</td>\n",
       "      <td>A series of murders of rich young women throug...</td>\n",
       "    </tr>\n",
       "    <tr>\n",
       "      <th>4</th>\n",
       "      <td>261236</td>\n",
       "      <td>/m/01mrr1</td>\n",
       "      <td>A Woman in Flames</td>\n",
       "      <td>1983</td>\n",
       "      <td>NaN</td>\n",
       "      <td>106.0</td>\n",
       "      <td>{\"/m/04306rv\": \"German Language\"}</td>\n",
       "      <td>{\"/m/0345h\": \"Germany\"}</td>\n",
       "      <td>{\"/m/07s9rl0\": \"Drama\"}</td>\n",
       "      <td>[German Language]</td>\n",
       "      <td>[Germany]</td>\n",
       "      <td>[Drama]</td>\n",
       "      <td>Eva, an upper class housewife, becomes frustra...</td>\n",
       "    </tr>\n",
       "  </tbody>\n",
       "</table>\n",
       "</div>"
      ],
      "text/plain": [
       "     WikiID  FreebaseID                                               Name  \\\n",
       "0    975900   /m/03vyhn                                     Ghosts of Mars   \n",
       "1   3196793   /m/08yl5d  Getting Away with Murder: The JonBenét Ramsey ...   \n",
       "2  28463795  /m/0crgdbh                                        Brun bitter   \n",
       "3   9363483  /m/0285_cd                                   White Of The Eye   \n",
       "4    261236   /m/01mrr1                                  A Woman in Flames   \n",
       "\n",
       "  ReleaseDate     Revenue  Runtime                     Languages_tuple  \\\n",
       "0  2001-08-24  14010832.0     98.0  {\"/m/02h40lc\": \"English Language\"}   \n",
       "1  2000-02-16         NaN     95.0  {\"/m/02h40lc\": \"English Language\"}   \n",
       "2        1988         NaN     83.0  {\"/m/05f_3\": \"Norwegian Language\"}   \n",
       "3        1987         NaN    110.0  {\"/m/02h40lc\": \"English Language\"}   \n",
       "4        1983         NaN    106.0   {\"/m/04306rv\": \"German Language\"}   \n",
       "\n",
       "                            Countries_tuples  \\\n",
       "0  {\"/m/09c7w0\": \"United States of America\"}   \n",
       "1  {\"/m/09c7w0\": \"United States of America\"}   \n",
       "2                     {\"/m/05b4w\": \"Norway\"}   \n",
       "3             {\"/m/07ssc\": \"United Kingdom\"}   \n",
       "4                    {\"/m/0345h\": \"Germany\"}   \n",
       "\n",
       "                                       Genres_tuples             Languages  \\\n",
       "0  {\"/m/01jfsb\": \"Thriller\", \"/m/06n90\": \"Science...    [English Language]   \n",
       "1  {\"/m/02n4kr\": \"Mystery\", \"/m/03bxz7\": \"Biograp...    [English Language]   \n",
       "2  {\"/m/0lsxr\": \"Crime Fiction\", \"/m/07s9rl0\": \"D...  [Norwegian Language]   \n",
       "3  {\"/m/01jfsb\": \"Thriller\", \"/m/0glj9q\": \"Erotic...    [English Language]   \n",
       "4                            {\"/m/07s9rl0\": \"Drama\"}     [German Language]   \n",
       "\n",
       "                    Countries  \\\n",
       "0  [United States of America]   \n",
       "1  [United States of America]   \n",
       "2                    [Norway]   \n",
       "3            [United Kingdom]   \n",
       "4                   [Germany]   \n",
       "\n",
       "                                              Genres  \\\n",
       "0  [Thriller, Science Fiction, Horror, Adventure,...   \n",
       "1   [Mystery, Biographical film, Drama, Crime Drama]   \n",
       "2                             [Crime Fiction, Drama]   \n",
       "3  [Thriller, Erotic thriller, Psychological thri...   \n",
       "4                                            [Drama]   \n",
       "\n",
       "                                                Plot  \n",
       "0  Set in the second half of the 22nd century, th...  \n",
       "1                                                NaN  \n",
       "2                                                NaN  \n",
       "3  A series of murders of rich young women throug...  \n",
       "4  Eva, an upper class housewife, becomes frustra...  "
      ]
     },
     "execution_count": 12,
     "metadata": {},
     "output_type": "execute_result"
    }
   ],
   "source": [
    "movie_plot = movie.merge(plots, on='WikiID', how='left')\n",
    "movie_plot.head()"
   ]
  },
  {
   "cell_type": "markdown",
   "id": "5efd70d0-4db0-414c-bc27-32a780b94fcc",
   "metadata": {},
   "source": [
    "### Extracting only release year from release date as there are a lot of entries with just years"
   ]
  },
  {
   "cell_type": "code",
   "execution_count": 13,
   "id": "3bd4591f-83ee-44a6-bee6-6ef470bdf504",
   "metadata": {},
   "outputs": [],
   "source": [
    "movie_plot['merge_year'] = movie_plot['ReleaseDate'].apply(lambda x: x.split('-')[0] if pd.notna(x) else None).astype('Int64')"
   ]
  },
  {
   "cell_type": "markdown",
   "id": "d81b4a42-ef5b-47ce-9ca5-39deabcdddd6",
   "metadata": {},
   "source": [
    "# EDA on the merged dataset"
   ]
  },
  {
   "cell_type": "code",
   "execution_count": 14,
   "id": "0b930547-4e7d-487f-b7f9-ae149e334846",
   "metadata": {},
   "outputs": [
    {
     "data": {
      "text/plain": [
       "<Axes: xlabel='merge_year', ylabel='Count'>"
      ]
     },
     "execution_count": 14,
     "metadata": {},
     "output_type": "execute_result"
    },
    {
     "data": {
      "image/png": "[encoded data removed]",
      "text/plain": [
       "<Figure size 640x480 with 1 Axes>"
      ]
     },
     "metadata": {},
     "output_type": "display_data"
    }
   ],
   "source": [
    "sns.histplot(x='merge_year', data=movie_plot)"
   ]
  },
  {
   "cell_type": "markdown",
   "id": "bd6d935e-c6d7-41a7-a52c-520fc6b140bc",
   "metadata": {},
   "source": [
    "### There seems to be an outlier somewhere..."
   ]
  },
  {
   "cell_type": "code",
   "execution_count": 15,
   "id": "6a240495-3618-4bcf-aca7-98935fba3cc8",
   "metadata": {},
   "outputs": [
    {
     "data": {
      "image/png": "[encoded data removed]",
      "text/plain": [
       "<Figure size 640x480 with 1 Axes>"
      ]
     },
     "metadata": {},
     "output_type": "display_data"
    }
   ],
   "source": [
    "hist = sns.histplot(x='merge_year', data=movie_plot)\n",
    "hist.set_yscale('log')"
   ]
  },
  {
   "cell_type": "code",
   "execution_count": 16,
   "id": "46416b6d-77ad-4fdd-8497-8e5954d790dc",
   "metadata": {},
   "outputs": [
    {
     "data": {
      "text/plain": [
       "np.int64(1010)"
      ]
     },
     "execution_count": 16,
     "metadata": {},
     "output_type": "execute_result"
    }
   ],
   "source": [
    "movie_plot['merge_year'].min()"
   ]
  },
  {
   "cell_type": "markdown",
   "id": "14aac53f-7e2b-4a9e-b068-51548439ced8",
   "metadata": {},
   "source": [
    "### Movie released in 1010 seems weird..."
   ]
  },
  {
   "cell_type": "code",
   "execution_count": 17,
   "id": "1d2215e5-c8df-4628-b4ce-62ff0e145e5f",
   "metadata": {},
   "outputs": [
    {
     "data": {
      "text/html": [
       "<div>\n",
       "<style scoped>\n",
       "    .dataframe tbody tr th:only-of-type {\n",
       "        vertical-align: middle;\n",
       "    }\n",
       "\n",
       "    .dataframe tbody tr th {\n",
       "        vertical-align: top;\n",
       "    }\n",
       "\n",
       "    .dataframe thead th {\n",
       "        text-align: right;\n",
       "    }\n",
       "</style>\n",
       "<table border=\"1\" class=\"dataframe\">\n",
       "  <thead>\n",
       "    <tr style=\"text-align: right;\">\n",
       "      <th></th>\n",
       "      <th>WikiID</th>\n",
       "      <th>FreebaseID</th>\n",
       "      <th>Name</th>\n",
       "      <th>ReleaseDate</th>\n",
       "      <th>Revenue</th>\n",
       "      <th>Runtime</th>\n",
       "      <th>Languages_tuple</th>\n",
       "      <th>Countries_tuples</th>\n",
       "      <th>Genres_tuples</th>\n",
       "      <th>Languages</th>\n",
       "      <th>Countries</th>\n",
       "      <th>Genres</th>\n",
       "      <th>Plot</th>\n",
       "      <th>merge_year</th>\n",
       "    </tr>\n",
       "  </thead>\n",
       "  <tbody>\n",
       "    <tr>\n",
       "      <th>62836</th>\n",
       "      <td>29666067</td>\n",
       "      <td>/m/0fphzrf</td>\n",
       "      <td>Hunting Season</td>\n",
       "      <td>1010-12-02</td>\n",
       "      <td>12160978.0</td>\n",
       "      <td>140.0</td>\n",
       "      <td>{\"/m/02hwyss\": \"Turkish Language\", \"/m/02h40lc...</td>\n",
       "      <td>{\"/m/01znc_\": \"Turkey\"}</td>\n",
       "      <td>{\"/m/0lsxr\": \"Crime Fiction\", \"/m/02n4kr\": \"My...</td>\n",
       "      <td>[Turkish Language, English Language]</td>\n",
       "      <td>[Turkey]</td>\n",
       "      <td>[Crime Fiction, Mystery, Drama, Thriller]</td>\n",
       "      <td>Veteran homicide cop Ferman  and his hot-heade...</td>\n",
       "      <td>1010</td>\n",
       "    </tr>\n",
       "  </tbody>\n",
       "</table>\n",
       "</div>"
      ],
      "text/plain": [
       "         WikiID  FreebaseID            Name ReleaseDate     Revenue  Runtime  \\\n",
       "62836  29666067  /m/0fphzrf  Hunting Season  1010-12-02  12160978.0    140.0   \n",
       "\n",
       "                                         Languages_tuple  \\\n",
       "62836  {\"/m/02hwyss\": \"Turkish Language\", \"/m/02h40lc...   \n",
       "\n",
       "              Countries_tuples  \\\n",
       "62836  {\"/m/01znc_\": \"Turkey\"}   \n",
       "\n",
       "                                           Genres_tuples  \\\n",
       "62836  {\"/m/0lsxr\": \"Crime Fiction\", \"/m/02n4kr\": \"My...   \n",
       "\n",
       "                                  Languages Countries  \\\n",
       "62836  [Turkish Language, English Language]  [Turkey]   \n",
       "\n",
       "                                          Genres  \\\n",
       "62836  [Crime Fiction, Mystery, Drama, Thriller]   \n",
       "\n",
       "                                                    Plot  merge_year  \n",
       "62836  Veteran homicide cop Ferman  and his hot-heade...        1010  "
      ]
     },
     "execution_count": 17,
     "metadata": {},
     "output_type": "execute_result"
    }
   ],
   "source": [
    "movie_plot[movie_plot['merge_year'] == 1010]"
   ]
  },
  {
   "cell_type": "markdown",
   "id": "c2d062f1-085a-4692-8627-d96fef599531",
   "metadata": {},
   "source": [
    "### Hunting Season is a movie released in 2010, so must be a typo!"
   ]
  },
  {
   "cell_type": "code",
   "execution_count": 18,
   "id": "2d82030f-e23f-4785-9ec6-499508ded15c",
   "metadata": {},
   "outputs": [
    {
     "data": {
      "text/html": [
       "<div>\n",
       "<style scoped>\n",
       "    .dataframe tbody tr th:only-of-type {\n",
       "        vertical-align: middle;\n",
       "    }\n",
       "\n",
       "    .dataframe tbody tr th {\n",
       "        vertical-align: top;\n",
       "    }\n",
       "\n",
       "    .dataframe thead th {\n",
       "        text-align: right;\n",
       "    }\n",
       "</style>\n",
       "<table border=\"1\" class=\"dataframe\">\n",
       "  <thead>\n",
       "    <tr style=\"text-align: right;\">\n",
       "      <th></th>\n",
       "      <th>WikiID</th>\n",
       "      <th>FreebaseID</th>\n",
       "      <th>Name</th>\n",
       "      <th>ReleaseDate</th>\n",
       "      <th>Revenue</th>\n",
       "      <th>Runtime</th>\n",
       "      <th>Languages_tuple</th>\n",
       "      <th>Countries_tuples</th>\n",
       "      <th>Genres_tuples</th>\n",
       "      <th>Languages</th>\n",
       "      <th>Countries</th>\n",
       "      <th>Genres</th>\n",
       "      <th>Plot</th>\n",
       "      <th>merge_year</th>\n",
       "    </tr>\n",
       "  </thead>\n",
       "  <tbody>\n",
       "    <tr>\n",
       "      <th>62836</th>\n",
       "      <td>29666067</td>\n",
       "      <td>/m/0fphzrf</td>\n",
       "      <td>Hunting Season</td>\n",
       "      <td>2010-12-02</td>\n",
       "      <td>12160978.0</td>\n",
       "      <td>140.0</td>\n",
       "      <td>{\"/m/02hwyss\": \"Turkish Language\", \"/m/02h40lc...</td>\n",
       "      <td>{\"/m/01znc_\": \"Turkey\"}</td>\n",
       "      <td>{\"/m/0lsxr\": \"Crime Fiction\", \"/m/02n4kr\": \"My...</td>\n",
       "      <td>[Turkish Language, English Language]</td>\n",
       "      <td>[Turkey]</td>\n",
       "      <td>[Crime Fiction, Mystery, Drama, Thriller]</td>\n",
       "      <td>Veteran homicide cop Ferman  and his hot-heade...</td>\n",
       "      <td>2010</td>\n",
       "    </tr>\n",
       "  </tbody>\n",
       "</table>\n",
       "</div>"
      ],
      "text/plain": [
       "         WikiID  FreebaseID            Name ReleaseDate     Revenue  Runtime  \\\n",
       "62836  29666067  /m/0fphzrf  Hunting Season  2010-12-02  12160978.0    140.0   \n",
       "\n",
       "                                         Languages_tuple  \\\n",
       "62836  {\"/m/02hwyss\": \"Turkish Language\", \"/m/02h40lc...   \n",
       "\n",
       "              Countries_tuples  \\\n",
       "62836  {\"/m/01znc_\": \"Turkey\"}   \n",
       "\n",
       "                                           Genres_tuples  \\\n",
       "62836  {\"/m/0lsxr\": \"Crime Fiction\", \"/m/02n4kr\": \"My...   \n",
       "\n",
       "                                  Languages Countries  \\\n",
       "62836  [Turkish Language, English Language]  [Turkey]   \n",
       "\n",
       "                                          Genres  \\\n",
       "62836  [Crime Fiction, Mystery, Drama, Thriller]   \n",
       "\n",
       "                                                    Plot  merge_year  \n",
       "62836  Veteran homicide cop Ferman  and his hot-heade...        2010  "
      ]
     },
     "execution_count": 18,
     "metadata": {},
     "output_type": "execute_result"
    }
   ],
   "source": [
    "movie_plot.loc[movie_plot['merge_year'] == 1010, 'merge_year'] = 2010\n",
    "movie_plot.loc[movie_plot['ReleaseDate'] == '1010-12-02', 'ReleaseDate'] = '2010-12-02'\n",
    "movie_plot[movie_plot['Name'] == 'Hunting Season']"
   ]
  },
  {
   "cell_type": "code",
   "execution_count": 19,
   "id": "851b02e3-647a-4e1a-aac7-fcc4575fc715",
   "metadata": {},
   "outputs": [
    {
     "data": {
      "text/plain": [
       "(95172, 14)"
      ]
     },
     "execution_count": 19,
     "metadata": {},
     "output_type": "execute_result"
    }
   ],
   "source": [
    "movie_languages_expanded = movie_plot.explode('Languages').reset_index(drop=True).copy()\n",
    "movie_languages_expanded.shape"
   ]
  },
  {
   "cell_type": "code",
   "execution_count": 20,
   "id": "40f9d114-0e9e-4065-b8b0-005bf92d120c",
   "metadata": {},
   "outputs": [],
   "source": [
    "top_languages = movie_languages_expanded['Languages'].value_counts().nlargest(5).index\n",
    "movie_languages_expanded['Languages'] = movie_languages_expanded['Languages'].apply(lambda x: x if x in top_languages else 'Other')"
   ]
  },
  {
   "cell_type": "code",
   "execution_count": 21,
   "id": "983e9d69-138a-4613-8ce2-b5273bd5a2f2",
   "metadata": {},
   "outputs": [
    {
     "data": {
      "image/png": "[encoded data removed]",
      "text/plain": [
       "<Figure size 1000x600 with 1 Axes>"
      ]
     },
     "metadata": {},
     "output_type": "display_data"
    }
   ],
   "source": [
    "plt.figure(figsize=(10, 6))\n",
    "# sns.histplot(data=movie_languages_expanded, x='merge_year', hue='Languages', multiple='stack', shrink=0.8, palette=\"tab10\")\n",
    "sns.histplot(data=movie_languages_expanded, x='merge_year', hue='Languages', multiple='stack', shrink=0.8)\n",
    "\n",
    "handles, labels = plt.gca().get_legend_handles_labels()\n",
    "\n",
    "plt.title('Movie Release Year with Top 5 Languages Used')\n",
    "plt.xlabel('Release Year')\n",
    "plt.ylabel('Count')\n",
    "plt.xticks(rotation=45)\n",
    "plt.tight_layout()\n",
    "plt.show()"
   ]
  },
  {
   "cell_type": "code",
   "execution_count": 22,
   "id": "74342db6-bbb0-49d1-81ba-f27ffd8a1a41",
   "metadata": {},
   "outputs": [
    {
     "data": {
      "text/plain": [
       "(245623, 14)"
      ]
     },
     "execution_count": 22,
     "metadata": {},
     "output_type": "execute_result"
    }
   ],
   "source": [
    "movie_genres_expanded = movie_plot.explode('Genres').reset_index(drop=True).copy()\n",
    "movie_genres_expanded.shape"
   ]
  },
  {
   "cell_type": "code",
   "execution_count": 23,
   "id": "1f41562d-2747-48c2-b69a-4d57246eebe4",
   "metadata": {},
   "outputs": [],
   "source": [
    "top_genres = movie_genres_expanded['Genres'].value_counts().nlargest(5).index\n",
    "movie_genres_expanded['Genres'] = movie_genres_expanded['Genres'].apply(lambda x: x if x in top_genres else 'Other')"
   ]
  },
  {
   "cell_type": "code",
   "execution_count": 24,
   "id": "038e2c9f-53fb-44ce-9b5b-3637415a5f89",
   "metadata": {},
   "outputs": [
    {
     "data": {
      "image/png": "[encoded data removed]",
      "text/plain": [
       "<Figure size 1000x600 with 1 Axes>"
      ]
     },
     "metadata": {},
     "output_type": "display_data"
    }
   ],
   "source": [
    "plt.figure(figsize=(10, 6))\n",
    "# sns.histplot(data=movie_genres_expanded, x='merge_year', hue='Genres', multiple='stack', shrink=0.8, palette=\"tab10\")\n",
    "sns.histplot(data=movie_genres_expanded, x='merge_year', hue='Genres', multiple='stack', shrink=0.8)\n",
    "\n",
    "handles, labels = plt.gca().get_legend_handles_labels()\n",
    "\n",
    "plt.title('Movie Release Year with Top 5 Genres')\n",
    "plt.xlabel('Release Year')\n",
    "plt.ylabel('Count')\n",
    "plt.xticks(rotation=45)\n",
    "plt.tight_layout()\n",
    "plt.show()"
   ]
  },
  {
   "cell_type": "code",
   "execution_count": null,
   "id": "6db47d95-e228-4317-96e7-8b0d31c28eeb",
   "metadata": {},
   "outputs": [],
   "source": []
  },
  {
   "cell_type": "code",
   "execution_count": null,
   "id": "f7d65403-1752-44de-be0c-f01a547fad80",
   "metadata": {},
   "outputs": [],
   "source": []
  },
  {
   "cell_type": "code",
   "execution_count": null,
   "id": "11a23b61-c3fe-4fef-999b-f33da625306f",
   "metadata": {},
   "outputs": [],
   "source": []
  },
  {
   "cell_type": "code",
   "execution_count": null,
   "id": "12bb9c83-85e1-4175-be10-656c4dc7163a",
   "metadata": {},
   "outputs": [],
   "source": []
  },
  {
   "cell_type": "code",
   "execution_count": null,
   "id": "9b136a5f-5773-489b-ae13-4452c3ad584d",
   "metadata": {},
   "outputs": [],
   "source": []
  },
  {
   "cell_type": "code",
   "execution_count": null,
   "id": "2494eeae-fc8d-456f-ab90-0233be17a565",
   "metadata": {},
   "outputs": [],
   "source": []
  },
  {
   "cell_type": "code",
   "execution_count": null,
   "id": "358d9c8d-0414-4fcc-ab5f-7fc4055ae20f",
   "metadata": {},
   "outputs": [],
   "source": []
  },
  {
   "cell_type": "code",
   "execution_count": null,
   "id": "bbcbb3c0-6804-4455-9756-4e005ec9872e",
   "metadata": {},
   "outputs": [],
   "source": []
  },
  {
   "cell_type": "code",
   "execution_count": null,
   "id": "b1c1fcab-435a-4a40-aae4-48fdaaa37516",
   "metadata": {},
   "outputs": [],
   "source": []
  },
  {
   "cell_type": "code",
   "execution_count": null,
   "id": "79a2ae81-e349-43a9-bf38-e5a3936b160c",
   "metadata": {},
   "outputs": [],
   "source": []
  },
  {
   "cell_type": "code",
   "execution_count": null,
   "id": "4bf2db7f-2b9d-4ed5-bb85-23bbb08c62a5",
   "metadata": {},
   "outputs": [],
   "source": [
    "#for each caracter associate his tvtropes type \n",
    "#there are only 501 character/actor pair that have an associated tvtropse type, some character/actor pair have multiple tvtropes type\n",
    "\n",
    "#es\n",
    "print(tvtropes_new['CharacterActorMap'].value_counts())\n",
    "print(tvtropes_new[tvtropes_new['CharacterActorMap'] == '/m/0k1xxm'])\n",
    "\n",
    "#We need to group the instances by the character/actor pair"
   ]
  },
  {
   "cell_type": "code",
   "execution_count": null,
   "id": "845275bb-0fc5-431b-bcf7-dd959b27621a",
   "metadata": {},
   "outputs": [],
   "source": [
    "grouped_instances = tvtropes_new.groupby('CharacterActorMap').agg({'Instances' : lambda x: x.tolist()}).reset_index()\n",
    "\n",
    "print(grouped_instances['CharacterActorMap'].is_unique)\n",
    "grouped_instances[grouped_instances['CharacterActorMap'] == '/m/0k1xxm']"
   ]
  },
  {
   "cell_type": "code",
   "execution_count": null,
   "id": "b69bdb5c-2d34-4d9d-b4d7-b0420db0d774",
   "metadata": {},
   "outputs": [],
   "source": [
    "grouped_instances = tvtropes_new.groupby('CharacterActorMap').agg({'Instances' : lambda x: x.tolist()}).reset_index()\n",
    "\n",
    "print(grouped_instances['CharacterActorMap'].is_unique)\n",
    "grouped_instances[grouped_instances['CharacterActorMap'] == '/m/0k1xxm']"
   ]
  },
  {
   "cell_type": "code",
   "execution_count": null,
   "id": "7ef06e9b-8783-47d2-9f18-724fdb0b0ed8",
   "metadata": {},
   "outputs": [],
   "source": [
    "character_instances = characters.merge(grouped_instances, on = 'CharacterActorMap', how = 'left')\n",
    "print(character_instances.shape)"
   ]
  },
  {
   "cell_type": "code",
   "execution_count": null,
   "id": "ced63278-1b5f-4b7d-8662-7e594ebec5d5",
   "metadata": {},
   "outputs": [],
   "source": [
    "def enumerate_dict(x):\n",
    "    return {i + 1: val for i, val in enumerate(x.tolist())}"
   ]
  },
  {
   "cell_type": "code",
   "execution_count": null,
   "id": "e0b1d90f-92e3-41d3-89cc-88426944c909",
   "metadata": {},
   "outputs": [],
   "source": [
    "# Apply the function in the groupby aggregation\n",
    "grouped_char = character_instances.groupby('WikiMovieID').agg({\n",
    "    'CharacterName': enumerate_dict,\n",
    "    'CharacterID': enumerate_dict,\n",
    "    'Instances': enumerate_dict,\n",
    "    'CharacterActorMap': enumerate_dict,\n",
    "    'ActorID': enumerate_dict,\n",
    "    'ActorName': enumerate_dict,\n",
    "    'ActorAge': enumerate_dict,\n",
    "    'ActorGender': enumerate_dict,\n",
    "    'ActorBirthDate': enumerate_dict,\n",
    "    'ActorHeight': enumerate_dict,\n",
    "}).reset_index()\n",
    "\n",
    "grouped_char.head()"
   ]
  },
  {
   "cell_type": "code",
   "execution_count": null,
   "id": "37bf9948-dbed-405f-b14f-91fb05d6ca91",
   "metadata": {},
   "outputs": [],
   "source": [
    "grouped_char['WikiMovieID'].is_unique"
   ]
  },
  {
   "cell_type": "code",
   "execution_count": null,
   "id": "77323f28-d374-41e2-95df-9a87fa798465",
   "metadata": {},
   "outputs": [],
   "source": [
    "#Now we can merge the character_instances with the movie_plot dataset\n",
    "\n",
    "movie_plot_char = movie_plot.merge(grouped_char, left_on = 'WikiID', right_on = 'WikiMovieID', how = 'left')\n",
    "print(movie_plot_char.shape)"
   ]
  },
  {
   "cell_type": "code",
   "execution_count": null,
   "id": "2db10b5f-4888-4661-af2f-e976deb065b1",
   "metadata": {},
   "outputs": [],
   "source": [
    "movie_plot_char.head()"
   ]
  },
  {
   "cell_type": "code",
   "execution_count": null,
   "id": "9a1b97a9-dc7d-4c95-854f-92497fe45b29",
   "metadata": {},
   "outputs": [],
   "source": [
    "# load ratings dataset\n",
    "\n",
    "ratings = pd.read_csv('../data/Movie_Ratings/ratings.csv')\n",
    "ratings.shape"
   ]
  },
  {
   "cell_type": "code",
   "execution_count": null,
   "id": "f947adda-ab32-4a72-95d0-3f7b37d913bd",
   "metadata": {},
   "outputs": [],
   "source": [
    "m_ratings = pd.read_csv('../data/Movie_Ratings/movies.csv')\n",
    "m_ratings.shape"
   ]
  },
  {
   "cell_type": "code",
   "execution_count": null,
   "id": "61efcd18-8145-47e9-9beb-cac7470f9849",
   "metadata": {},
   "outputs": [],
   "source": [
    "grouped_ratings = ratings.groupby('movieId')['rating'].agg(['mean', 'std', 'count']).reset_index()\n",
    "\n",
    "grouped_ratings.shape"
   ]
  },
  {
   "cell_type": "code",
   "execution_count": null,
   "id": "9435b7a7-7c57-4032-a08f-6b4c2a10daa6",
   "metadata": {},
   "outputs": [],
   "source": [
    "name_ratings = m_ratings.iloc[:,:2].merge(grouped_ratings, on = 'movieId', how = 'left')\n",
    "name_ratings.head()"
   ]
  },
  {
   "cell_type": "code",
   "execution_count": null,
   "id": "a1f21464-2328-48ff-a646-5b8c22dc418c",
   "metadata": {},
   "outputs": [],
   "source": [
    "name_ratings['merge_title'] = name_ratings['title'].str.extract(r'^(.*?)(?=\\s\\()')[0].str.lower()\n",
    "name_ratings['merge_year'] = name_ratings['title'].str.extract(r'\\((\\d{4})\\)')[0].astype('Int64')\n",
    "\n",
    "movie_plot_char['merge_title'] = movie_plot_char['Name'].str.lower().str.strip()\n",
    "movie_plot_char['merge_year'] = movie_plot_char['ReleaseDate'].apply(lambda x: x.split('-')[0] if pd.notna(x) else None).astype('Int64')\n",
    "\n",
    "df_final = movie_plot_char.merge(name_ratings, on = ['merge_title', 'merge_year'], how = 'left')"
   ]
  },
  {
   "cell_type": "code",
   "execution_count": null,
   "id": "3daf7749-411c-444a-a1c0-11b1c5ebdb40",
   "metadata": {},
   "outputs": [],
   "source": [
    "df_final.head()"
   ]
  },
  {
   "cell_type": "code",
   "execution_count": null,
   "id": "4e017521-c1ce-448c-8111-317b802582df",
   "metadata": {},
   "outputs": [],
   "source": [
    "print(df_final.isna().sum()/len(df_final))"
   ]
  },
  {
   "cell_type": "code",
   "execution_count": null,
   "id": "e171d685-dcd3-4e13-8099-bbbd3ddb6453",
   "metadata": {},
   "outputs": [],
   "source": [
    "len(df_final)"
   ]
  },
  {
   "cell_type": "code",
   "execution_count": null,
   "id": "e13999a5-9fc5-4a8d-bdbe-98b6e0e7995d",
   "metadata": {},
   "outputs": [],
   "source": [
    "# df_final.to_csv('../data/processed/df_final.csv', index=False)"
   ]
  }
 ],
 "metadata": {
  "kernelspec": {
   "display_name": "Python 3 (ipykernel)",
   "language": "python",
   "name": "python3"
  },
  "language_info": {
   "codemirror_mode": {
    "name": "ipython",
    "version": 3
   },
   "file_extension": ".py",
   "mimetype": "text/x-python",
   "name": "python",
   "nbconvert_exporter": "python",
   "pygments_lexer": "ipython3",
   "version": "3.13.0"
  }
 },
 "nbformat": 4,
 "nbformat_minor": 5
}
