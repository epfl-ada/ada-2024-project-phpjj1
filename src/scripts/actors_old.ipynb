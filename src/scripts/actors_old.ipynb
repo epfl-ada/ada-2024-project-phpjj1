{
 "cells": [
  {
   "cell_type": "markdown",
   "metadata": {},
   "source": [
    "### How does the emotional tone of films influence the selection of actor traits, such as age and gender?"
   ]
  },
  {
   "cell_type": "code",
   "execution_count": 117,
   "metadata": {},
   "outputs": [],
   "source": [
    "import pandas as pd\n",
    "import statsmodels.api as sm\n",
    "import statsmodels.formula.api as smf\n",
    "import ast\n",
    "import numpy as np\n",
    "import matplotlib.pyplot as plt\n",
    "from sklearn.preprocessing import StandardScaler\n",
    "from sklearn.linear_model import Ridge"
   ]
  },
  {
   "cell_type": "code",
   "execution_count": 43,
   "metadata": {},
   "outputs": [
    {
     "data": {
      "text/html": [
       "<div>\n",
       "<style scoped>\n",
       "    .dataframe tbody tr th:only-of-type {\n",
       "        vertical-align: middle;\n",
       "    }\n",
       "\n",
       "    .dataframe tbody tr th {\n",
       "        vertical-align: top;\n",
       "    }\n",
       "\n",
       "    .dataframe thead th {\n",
       "        text-align: right;\n",
       "    }\n",
       "</style>\n",
       "<table border=\"1\" class=\"dataframe\">\n",
       "  <thead>\n",
       "    <tr style=\"text-align: right;\">\n",
       "      <th></th>\n",
       "      <th>WikiID</th>\n",
       "      <th>FreebaseID</th>\n",
       "      <th>Name</th>\n",
       "      <th>ReleaseDate</th>\n",
       "      <th>Runtime</th>\n",
       "      <th>Languages_tuple</th>\n",
       "      <th>Countries_tuples</th>\n",
       "      <th>Genres_tuples</th>\n",
       "      <th>Languages</th>\n",
       "      <th>Countries</th>\n",
       "      <th>...</th>\n",
       "      <th>ActorAge</th>\n",
       "      <th>ActorGender</th>\n",
       "      <th>ActorBirthDate</th>\n",
       "      <th>ActorGenderFlag</th>\n",
       "      <th>merge_title</th>\n",
       "      <th>movieId</th>\n",
       "      <th>title</th>\n",
       "      <th>mean_ratings</th>\n",
       "      <th>std_dev_ratings</th>\n",
       "      <th>count_ratings</th>\n",
       "    </tr>\n",
       "  </thead>\n",
       "  <tbody>\n",
       "    <tr>\n",
       "      <th>0</th>\n",
       "      <td>975900</td>\n",
       "      <td>/m/03vyhn</td>\n",
       "      <td>Ghosts of Mars</td>\n",
       "      <td>2001-08-24</td>\n",
       "      <td>98.0</td>\n",
       "      <td>{\"/m/02h40lc\": \"English Language\"}</td>\n",
       "      <td>{\"/m/09c7w0\": \"United States of America\"}</td>\n",
       "      <td>{\"/m/01jfsb\": \"Thriller\", \"/m/06n90\": \"Science...</td>\n",
       "      <td>['English Language']</td>\n",
       "      <td>['United States of America']</td>\n",
       "      <td>...</td>\n",
       "      <td>[42.0, 27.0, 32.0, 33.0, 23.0, 52.0, 56.0, 37....</td>\n",
       "      <td>['F', 'F', 'M', 'M', 'F', 'F', 'F', 'M', 'M', ...</td>\n",
       "      <td>[Timestamp('1958-08-26 00:00:00'), Timestamp('...</td>\n",
       "      <td>[1, 1, 0, 0, 1, 1, 1, 0, 0, 0, 0, 0, 0, 0, 0, ...</td>\n",
       "      <td>ghosts of mars</td>\n",
       "      <td>4735.0</td>\n",
       "      <td>Ghosts of Mars (2001)</td>\n",
       "      <td>2.427083</td>\n",
       "      <td>1.087064</td>\n",
       "      <td>144.0</td>\n",
       "    </tr>\n",
       "    <tr>\n",
       "      <th>1</th>\n",
       "      <td>3196793</td>\n",
       "      <td>/m/08yl5d</td>\n",
       "      <td>Getting Away with Murder: The JonBenét Ramsey ...</td>\n",
       "      <td>2000-02-16</td>\n",
       "      <td>95.0</td>\n",
       "      <td>{\"/m/02h40lc\": \"English Language\"}</td>\n",
       "      <td>{\"/m/09c7w0\": \"United States of America\"}</td>\n",
       "      <td>{\"/m/02n4kr\": \"Mystery\", \"/m/03bxz7\": \"Biograp...</td>\n",
       "      <td>['English Language']</td>\n",
       "      <td>['United States of America']</td>\n",
       "      <td>...</td>\n",
       "      <td>[37.78852253927453, 43.0, 37.78852253927453, 3...</td>\n",
       "      <td>['M', 'F', 'M', 'F', 'M', 'M', 'M', 'F', 'F', ...</td>\n",
       "      <td>[NaT, Timestamp('1956-12-19 00:00:00'), NaT, N...</td>\n",
       "      <td>[0, 1, 0, 1, 0, 0, 0, 1, 1, 0, 0, 0, 0, 0, 0]</td>\n",
       "      <td>getting away with murder: the jonbenét ramsey ...</td>\n",
       "      <td>NaN</td>\n",
       "      <td>NaN</td>\n",
       "      <td>NaN</td>\n",
       "      <td>NaN</td>\n",
       "      <td>NaN</td>\n",
       "    </tr>\n",
       "    <tr>\n",
       "      <th>2</th>\n",
       "      <td>28463795</td>\n",
       "      <td>/m/0crgdbh</td>\n",
       "      <td>Brun bitter</td>\n",
       "      <td>1988</td>\n",
       "      <td>83.0</td>\n",
       "      <td>{\"/m/05f_3\": \"Norwegian Language\"}</td>\n",
       "      <td>{\"/m/05b4w\": \"Norway\"}</td>\n",
       "      <td>{\"/m/0lsxr\": \"Crime Fiction\", \"/m/07s9rl0\": \"D...</td>\n",
       "      <td>['Norwegian Language']</td>\n",
       "      <td>['Norway']</td>\n",
       "      <td>...</td>\n",
       "      <td>[33.0, 28.0, 40.0, 30.0]</td>\n",
       "      <td>['M', 'F', 'M', 'F']</td>\n",
       "      <td>[Timestamp('1954-10-05 00:00:00'), Timestamp('...</td>\n",
       "      <td>[0, 1, 0, 1]</td>\n",
       "      <td>brun bitter</td>\n",
       "      <td>NaN</td>\n",
       "      <td>NaN</td>\n",
       "      <td>NaN</td>\n",
       "      <td>NaN</td>\n",
       "      <td>NaN</td>\n",
       "    </tr>\n",
       "    <tr>\n",
       "      <th>3</th>\n",
       "      <td>9363483</td>\n",
       "      <td>/m/0285_cd</td>\n",
       "      <td>White Of The Eye</td>\n",
       "      <td>1987</td>\n",
       "      <td>110.0</td>\n",
       "      <td>{\"/m/02h40lc\": \"English Language\"}</td>\n",
       "      <td>{\"/m/07ssc\": \"United Kingdom\"}</td>\n",
       "      <td>{\"/m/01jfsb\": \"Thriller\", \"/m/0glj9q\": \"Erotic...</td>\n",
       "      <td>['English Language']</td>\n",
       "      <td>['United Kingdom']</td>\n",
       "      <td>...</td>\n",
       "      <td>[32.0, 26.0]</td>\n",
       "      <td>['M', 'F']</td>\n",
       "      <td>[Timestamp('1954-05-08 00:00:00'), Timestamp('...</td>\n",
       "      <td>[0, 1]</td>\n",
       "      <td>white of the eye</td>\n",
       "      <td>90015.0</td>\n",
       "      <td>White of the Eye (1987)</td>\n",
       "      <td>2.250000</td>\n",
       "      <td>2.474874</td>\n",
       "      <td>2.0</td>\n",
       "    </tr>\n",
       "    <tr>\n",
       "      <th>4</th>\n",
       "      <td>261236</td>\n",
       "      <td>/m/01mrr1</td>\n",
       "      <td>A Woman in Flames</td>\n",
       "      <td>1983</td>\n",
       "      <td>106.0</td>\n",
       "      <td>{\"/m/04306rv\": \"German Language\"}</td>\n",
       "      <td>{\"/m/0345h\": \"Germany\"}</td>\n",
       "      <td>{\"/m/07s9rl0\": \"Drama\"}</td>\n",
       "      <td>['German Language']</td>\n",
       "      <td>['Germany']</td>\n",
       "      <td>...</td>\n",
       "      <td>[32.0, 32.0, 35.0]</td>\n",
       "      <td>['F', 'M', 'M']</td>\n",
       "      <td>[Timestamp('1950-06-20 00:00:00'), Timestamp('...</td>\n",
       "      <td>[1, 0, 0]</td>\n",
       "      <td>a woman in flames</td>\n",
       "      <td>NaN</td>\n",
       "      <td>NaN</td>\n",
       "      <td>NaN</td>\n",
       "      <td>NaN</td>\n",
       "      <td>NaN</td>\n",
       "    </tr>\n",
       "  </tbody>\n",
       "</table>\n",
       "<p>5 rows × 27 columns</p>\n",
       "</div>"
      ],
      "text/plain": [
       "     WikiID  FreebaseID                                               Name  \\\n",
       "0    975900   /m/03vyhn                                     Ghosts of Mars   \n",
       "1   3196793   /m/08yl5d  Getting Away with Murder: The JonBenét Ramsey ...   \n",
       "2  28463795  /m/0crgdbh                                        Brun bitter   \n",
       "3   9363483  /m/0285_cd                                   White Of The Eye   \n",
       "4    261236   /m/01mrr1                                  A Woman in Flames   \n",
       "\n",
       "  ReleaseDate  Runtime                     Languages_tuple  \\\n",
       "0  2001-08-24     98.0  {\"/m/02h40lc\": \"English Language\"}   \n",
       "1  2000-02-16     95.0  {\"/m/02h40lc\": \"English Language\"}   \n",
       "2        1988     83.0  {\"/m/05f_3\": \"Norwegian Language\"}   \n",
       "3        1987    110.0  {\"/m/02h40lc\": \"English Language\"}   \n",
       "4        1983    106.0   {\"/m/04306rv\": \"German Language\"}   \n",
       "\n",
       "                            Countries_tuples  \\\n",
       "0  {\"/m/09c7w0\": \"United States of America\"}   \n",
       "1  {\"/m/09c7w0\": \"United States of America\"}   \n",
       "2                     {\"/m/05b4w\": \"Norway\"}   \n",
       "3             {\"/m/07ssc\": \"United Kingdom\"}   \n",
       "4                    {\"/m/0345h\": \"Germany\"}   \n",
       "\n",
       "                                       Genres_tuples               Languages  \\\n",
       "0  {\"/m/01jfsb\": \"Thriller\", \"/m/06n90\": \"Science...    ['English Language']   \n",
       "1  {\"/m/02n4kr\": \"Mystery\", \"/m/03bxz7\": \"Biograp...    ['English Language']   \n",
       "2  {\"/m/0lsxr\": \"Crime Fiction\", \"/m/07s9rl0\": \"D...  ['Norwegian Language']   \n",
       "3  {\"/m/01jfsb\": \"Thriller\", \"/m/0glj9q\": \"Erotic...    ['English Language']   \n",
       "4                            {\"/m/07s9rl0\": \"Drama\"}     ['German Language']   \n",
       "\n",
       "                      Countries  ...  \\\n",
       "0  ['United States of America']  ...   \n",
       "1  ['United States of America']  ...   \n",
       "2                    ['Norway']  ...   \n",
       "3            ['United Kingdom']  ...   \n",
       "4                   ['Germany']  ...   \n",
       "\n",
       "                                            ActorAge  \\\n",
       "0  [42.0, 27.0, 32.0, 33.0, 23.0, 52.0, 56.0, 37....   \n",
       "1  [37.78852253927453, 43.0, 37.78852253927453, 3...   \n",
       "2                           [33.0, 28.0, 40.0, 30.0]   \n",
       "3                                       [32.0, 26.0]   \n",
       "4                                 [32.0, 32.0, 35.0]   \n",
       "\n",
       "                                         ActorGender  \\\n",
       "0  ['F', 'F', 'M', 'M', 'F', 'F', 'F', 'M', 'M', ...   \n",
       "1  ['M', 'F', 'M', 'F', 'M', 'M', 'M', 'F', 'F', ...   \n",
       "2                               ['M', 'F', 'M', 'F']   \n",
       "3                                         ['M', 'F']   \n",
       "4                                    ['F', 'M', 'M']   \n",
       "\n",
       "                                      ActorBirthDate  \\\n",
       "0  [Timestamp('1958-08-26 00:00:00'), Timestamp('...   \n",
       "1  [NaT, Timestamp('1956-12-19 00:00:00'), NaT, N...   \n",
       "2  [Timestamp('1954-10-05 00:00:00'), Timestamp('...   \n",
       "3  [Timestamp('1954-05-08 00:00:00'), Timestamp('...   \n",
       "4  [Timestamp('1950-06-20 00:00:00'), Timestamp('...   \n",
       "\n",
       "                                     ActorGenderFlag  \\\n",
       "0  [1, 1, 0, 0, 1, 1, 1, 0, 0, 0, 0, 0, 0, 0, 0, ...   \n",
       "1      [0, 1, 0, 1, 0, 0, 0, 1, 1, 0, 0, 0, 0, 0, 0]   \n",
       "2                                       [0, 1, 0, 1]   \n",
       "3                                             [0, 1]   \n",
       "4                                          [1, 0, 0]   \n",
       "\n",
       "                                         merge_title  movieId  \\\n",
       "0                                     ghosts of mars   4735.0   \n",
       "1  getting away with murder: the jonbenét ramsey ...      NaN   \n",
       "2                                        brun bitter      NaN   \n",
       "3                                   white of the eye  90015.0   \n",
       "4                                  a woman in flames      NaN   \n",
       "\n",
       "                     title mean_ratings std_dev_ratings count_ratings  \n",
       "0    Ghosts of Mars (2001)     2.427083        1.087064         144.0  \n",
       "1                      NaN          NaN             NaN           NaN  \n",
       "2                      NaN          NaN             NaN           NaN  \n",
       "3  White of the Eye (1987)     2.250000        2.474874           2.0  \n",
       "4                      NaN          NaN             NaN           NaN  \n",
       "\n",
       "[5 rows x 27 columns]"
      ]
     },
     "execution_count": 43,
     "metadata": {},
     "output_type": "execute_result"
    }
   ],
   "source": [
    "DATA_PATH = '../../data/final_data_complete.csv'\n",
    "data_df = pd.read_csv(DATA_PATH)\n",
    "data_df.head()"
   ]
  },
  {
   "cell_type": "code",
   "execution_count": 3,
   "metadata": {},
   "outputs": [
    {
     "data": {
      "text/plain": [
       "WikiID                   int64\n",
       "FreebaseID              object\n",
       "Name                    object\n",
       "ReleaseDate             object\n",
       "Runtime                float64\n",
       "Languages_tuple         object\n",
       "Countries_tuples        object\n",
       "Genres_tuples           object\n",
       "Languages               object\n",
       "Countries               object\n",
       "Genres                  object\n",
       "Plot                    object\n",
       "merge_year             float64\n",
       "nrclex_emotions         object\n",
       "roberta_emotions        object\n",
       "distilbert_emotions     object\n",
       "CharacterName           object\n",
       "ActorAge                object\n",
       "ActorGender             object\n",
       "ActorBirthDate          object\n",
       "ActorGenderFlag         object\n",
       "merge_title             object\n",
       "movieId                float64\n",
       "title                   object\n",
       "mean_ratings           float64\n",
       "std_dev_ratings        float64\n",
       "count_ratings          float64\n",
       "dtype: object"
      ]
     },
     "execution_count": 3,
     "metadata": {},
     "output_type": "execute_result"
    }
   ],
   "source": [
    "data_df.dtypes"
   ]
  },
  {
   "cell_type": "markdown",
   "metadata": {},
   "source": [
    "First we will simplify the process by filtering for the columns we need for this analysis"
   ]
  },
  {
   "cell_type": "code",
   "execution_count": 74,
   "metadata": {},
   "outputs": [
    {
     "name": "stdout",
     "output_type": "stream",
     "text": [
      "Number of rows before droping:  81771\n",
      "Number of rows after droping:  30175\n"
     ]
    }
   ],
   "source": [
    "# Filter for columns needed for the analysis\n",
    "character_df = data_df[['WikiID', 'merge_year', 'Genres', 'distilbert_emotions', 'ActorAge', 'ActorGender', 'ActorBirthDate', 'ActorGenderFlag']].copy()\n",
    "character_df.head()\n",
    "\n",
    "# Drop rows without emotions because they are not helpful here\n",
    "print(\"Number of rows before droping: \", len(character_df))\n",
    "character_df = character_df.dropna(subset=['distilbert_emotions', 'ActorAge', 'ActorGenderFlag'])\n",
    "print(\"Number of rows after droping: \", len(character_df))"
   ]
  },
  {
   "cell_type": "markdown",
   "metadata": {},
   "source": [
    "Let's look closer at our target variables age and gender"
   ]
  },
  {
   "cell_type": "code",
   "execution_count": 75,
   "metadata": {},
   "outputs": [
    {
     "data": {
      "text/plain": [
       "'[42.0, 27.0, 32.0, 33.0, 23.0, 52.0, 56.0, 37.78852253927453, 30.0, 37.78852253927453, 37.78852253927453, 42.0, 57.0, 37.78852253927453, 66.0, 47.0, 58.0]'"
      ]
     },
     "execution_count": 75,
     "metadata": {},
     "output_type": "execute_result"
    }
   ],
   "source": [
    "test_ages = character_df.iloc[0]['ActorAge']\n",
    "test_ages"
   ]
  },
  {
   "cell_type": "code",
   "execution_count": 76,
   "metadata": {},
   "outputs": [
    {
     "data": {
      "text/plain": [
       "\"['F', 'F', 'M', 'M', 'F', 'F', 'F', 'M', 'M', 'M', 'M', 'M', 'M', 'M', 'M', 'M', 'F']\""
      ]
     },
     "execution_count": 76,
     "metadata": {},
     "output_type": "execute_result"
    }
   ],
   "source": [
    "test_gender = character_df.iloc[0]['ActorGender']\n",
    "test_gender"
   ]
  },
  {
   "cell_type": "code",
   "execution_count": 77,
   "metadata": {},
   "outputs": [
    {
     "data": {
      "text/plain": [
       "'[1, 1, 0, 0, 1, 1, 1, 0, 0, 0, 0, 0, 0, 0, 0, 0, 1]'"
      ]
     },
     "execution_count": 77,
     "metadata": {},
     "output_type": "execute_result"
    }
   ],
   "source": [
    "test_gender_flag = character_df.iloc[0]['ActorGenderFlag']\n",
    "test_gender_flag"
   ]
  },
  {
   "cell_type": "markdown",
   "metadata": {},
   "source": [
    "The lists with the corresponding values are stored as string, we will parse them first"
   ]
  },
  {
   "cell_type": "code",
   "execution_count": 78,
   "metadata": {},
   "outputs": [],
   "source": [
    "character_df['Genres'] = character_df['Genres'].apply(lambda x: [] if pd.isna(x) else ast.literal_eval(x))\n",
    "character_df['ActorAge'] = character_df['ActorAge'].apply(lambda x: [] if pd.isna(x) else ast.literal_eval(x))\n",
    "character_df['ActorGender'] = character_df['ActorGender'].apply(lambda x: [] if pd.isna(x) else ast.literal_eval(x))\n",
    "character_df['ActorGenderFlag'] = character_df['ActorGenderFlag'].apply(lambda x: [] if pd.isna(x) else ast.literal_eval(x))"
   ]
  },
  {
   "cell_type": "code",
   "execution_count": 79,
   "metadata": {},
   "outputs": [
    {
     "name": "stdout",
     "output_type": "stream",
     "text": [
      "[42.0, 27.0, 32.0, 33.0, 23.0, 52.0, 56.0, 37.78852253927453, 30.0, 37.78852253927453, 37.78852253927453, 42.0, 57.0, 37.78852253927453, 66.0, 47.0, 58.0]\n",
      "['F', 'F', 'M', 'M', 'F', 'F', 'F', 'M', 'M', 'M', 'M', 'M', 'M', 'M', 'M', 'M', 'F']\n",
      "[1, 1, 0, 0, 1, 1, 1, 0, 0, 0, 0, 0, 0, 0, 0, 0, 1]\n"
     ]
    }
   ],
   "source": [
    "# Lets repeat our test\n",
    "test_ages = character_df.iloc[0]['ActorAge']\n",
    "print(test_ages)\n",
    "test_gender = character_df.iloc[0]['ActorGender']\n",
    "print(test_gender)\n",
    "test_gender_flag = character_df.iloc[0]['ActorGenderFlag']\n",
    "print(test_gender_flag)"
   ]
  },
  {
   "cell_type": "code",
   "execution_count": 80,
   "metadata": {},
   "outputs": [
    {
     "name": "stdout",
     "output_type": "stream",
     "text": [
      "Age entries: 17, gender entries: 17, gender flag entries: 17\n"
     ]
    }
   ],
   "source": [
    "# Is there the same amount of age and gender entries?\n",
    "print(f\"Age entries: {len(test_ages)}, gender entries: {len(test_gender)}, gender flag entries: {len(test_gender_flag)}\")"
   ]
  },
  {
   "cell_type": "markdown",
   "metadata": {},
   "source": [
    "We want to do a regression analysis to see if there is a connection between specific emotions and actor age and gender, so we will aggregate the age and the gender flag per movie."
   ]
  },
  {
   "cell_type": "code",
   "execution_count": 81,
   "metadata": {},
   "outputs": [
    {
     "data": {
      "text/html": [
       "<div>\n",
       "<style scoped>\n",
       "    .dataframe tbody tr th:only-of-type {\n",
       "        vertical-align: middle;\n",
       "    }\n",
       "\n",
       "    .dataframe tbody tr th {\n",
       "        vertical-align: top;\n",
       "    }\n",
       "\n",
       "    .dataframe thead th {\n",
       "        text-align: right;\n",
       "    }\n",
       "</style>\n",
       "<table border=\"1\" class=\"dataframe\">\n",
       "  <thead>\n",
       "    <tr style=\"text-align: right;\">\n",
       "      <th></th>\n",
       "      <th>WikiID</th>\n",
       "      <th>merge_year</th>\n",
       "      <th>Genres</th>\n",
       "      <th>distilbert_emotions</th>\n",
       "      <th>ActorAge</th>\n",
       "      <th>ActorGender</th>\n",
       "      <th>ActorBirthDate</th>\n",
       "      <th>ActorGenderFlag</th>\n",
       "    </tr>\n",
       "  </thead>\n",
       "  <tbody>\n",
       "    <tr>\n",
       "      <th>0</th>\n",
       "      <td>975900</td>\n",
       "      <td>2001.0</td>\n",
       "      <td>[Thriller, Science Fiction, Horror, Adventure,...</td>\n",
       "      <td>{'disgust': 0.5021221041679382, 'fear': 0.3510...</td>\n",
       "      <td>42.0</td>\n",
       "      <td>[F, F, M, M, F, F, F, M, M, M, M, M, M, M, M, ...</td>\n",
       "      <td>[Timestamp('1958-08-26 00:00:00'), Timestamp('...</td>\n",
       "      <td>1</td>\n",
       "    </tr>\n",
       "    <tr>\n",
       "      <th>0</th>\n",
       "      <td>975900</td>\n",
       "      <td>2001.0</td>\n",
       "      <td>[Thriller, Science Fiction, Horror, Adventure,...</td>\n",
       "      <td>{'disgust': 0.5021221041679382, 'fear': 0.3510...</td>\n",
       "      <td>42.0</td>\n",
       "      <td>[F, F, M, M, F, F, F, M, M, M, M, M, M, M, M, ...</td>\n",
       "      <td>[Timestamp('1958-08-26 00:00:00'), Timestamp('...</td>\n",
       "      <td>1</td>\n",
       "    </tr>\n",
       "    <tr>\n",
       "      <th>0</th>\n",
       "      <td>975900</td>\n",
       "      <td>2001.0</td>\n",
       "      <td>[Thriller, Science Fiction, Horror, Adventure,...</td>\n",
       "      <td>{'disgust': 0.5021221041679382, 'fear': 0.3510...</td>\n",
       "      <td>42.0</td>\n",
       "      <td>[F, F, M, M, F, F, F, M, M, M, M, M, M, M, M, ...</td>\n",
       "      <td>[Timestamp('1958-08-26 00:00:00'), Timestamp('...</td>\n",
       "      <td>0</td>\n",
       "    </tr>\n",
       "    <tr>\n",
       "      <th>0</th>\n",
       "      <td>975900</td>\n",
       "      <td>2001.0</td>\n",
       "      <td>[Thriller, Science Fiction, Horror, Adventure,...</td>\n",
       "      <td>{'disgust': 0.5021221041679382, 'fear': 0.3510...</td>\n",
       "      <td>42.0</td>\n",
       "      <td>[F, F, M, M, F, F, F, M, M, M, M, M, M, M, M, ...</td>\n",
       "      <td>[Timestamp('1958-08-26 00:00:00'), Timestamp('...</td>\n",
       "      <td>0</td>\n",
       "    </tr>\n",
       "    <tr>\n",
       "      <th>0</th>\n",
       "      <td>975900</td>\n",
       "      <td>2001.0</td>\n",
       "      <td>[Thriller, Science Fiction, Horror, Adventure,...</td>\n",
       "      <td>{'disgust': 0.5021221041679382, 'fear': 0.3510...</td>\n",
       "      <td>42.0</td>\n",
       "      <td>[F, F, M, M, F, F, F, M, M, M, M, M, M, M, M, ...</td>\n",
       "      <td>[Timestamp('1958-08-26 00:00:00'), Timestamp('...</td>\n",
       "      <td>1</td>\n",
       "    </tr>\n",
       "  </tbody>\n",
       "</table>\n",
       "</div>"
      ],
      "text/plain": [
       "   WikiID  merge_year                                             Genres  \\\n",
       "0  975900      2001.0  [Thriller, Science Fiction, Horror, Adventure,...   \n",
       "0  975900      2001.0  [Thriller, Science Fiction, Horror, Adventure,...   \n",
       "0  975900      2001.0  [Thriller, Science Fiction, Horror, Adventure,...   \n",
       "0  975900      2001.0  [Thriller, Science Fiction, Horror, Adventure,...   \n",
       "0  975900      2001.0  [Thriller, Science Fiction, Horror, Adventure,...   \n",
       "\n",
       "                                 distilbert_emotions ActorAge  \\\n",
       "0  {'disgust': 0.5021221041679382, 'fear': 0.3510...     42.0   \n",
       "0  {'disgust': 0.5021221041679382, 'fear': 0.3510...     42.0   \n",
       "0  {'disgust': 0.5021221041679382, 'fear': 0.3510...     42.0   \n",
       "0  {'disgust': 0.5021221041679382, 'fear': 0.3510...     42.0   \n",
       "0  {'disgust': 0.5021221041679382, 'fear': 0.3510...     42.0   \n",
       "\n",
       "                                         ActorGender  \\\n",
       "0  [F, F, M, M, F, F, F, M, M, M, M, M, M, M, M, ...   \n",
       "0  [F, F, M, M, F, F, F, M, M, M, M, M, M, M, M, ...   \n",
       "0  [F, F, M, M, F, F, F, M, M, M, M, M, M, M, M, ...   \n",
       "0  [F, F, M, M, F, F, F, M, M, M, M, M, M, M, M, ...   \n",
       "0  [F, F, M, M, F, F, F, M, M, M, M, M, M, M, M, ...   \n",
       "\n",
       "                                      ActorBirthDate ActorGenderFlag  \n",
       "0  [Timestamp('1958-08-26 00:00:00'), Timestamp('...               1  \n",
       "0  [Timestamp('1958-08-26 00:00:00'), Timestamp('...               1  \n",
       "0  [Timestamp('1958-08-26 00:00:00'), Timestamp('...               0  \n",
       "0  [Timestamp('1958-08-26 00:00:00'), Timestamp('...               0  \n",
       "0  [Timestamp('1958-08-26 00:00:00'), Timestamp('...               1  "
      ]
     },
     "execution_count": 81,
     "metadata": {},
     "output_type": "execute_result"
    }
   ],
   "source": [
    "exploded_df = character_df.explode('ActorAge')\n",
    "exploded_df = exploded_df.explode('ActorGenderFlag')\n",
    "\n",
    "exploded_df.head()"
   ]
  },
  {
   "cell_type": "code",
   "execution_count": 82,
   "metadata": {},
   "outputs": [
    {
     "data": {
      "text/html": [
       "<div>\n",
       "<style scoped>\n",
       "    .dataframe tbody tr th:only-of-type {\n",
       "        vertical-align: middle;\n",
       "    }\n",
       "\n",
       "    .dataframe tbody tr th {\n",
       "        vertical-align: top;\n",
       "    }\n",
       "\n",
       "    .dataframe thead th {\n",
       "        text-align: right;\n",
       "    }\n",
       "</style>\n",
       "<table border=\"1\" class=\"dataframe\">\n",
       "  <thead>\n",
       "    <tr style=\"text-align: right;\">\n",
       "      <th></th>\n",
       "      <th>ActorAge</th>\n",
       "      <th>ActorGenderFlag</th>\n",
       "    </tr>\n",
       "    <tr>\n",
       "      <th>WikiID</th>\n",
       "      <th></th>\n",
       "      <th></th>\n",
       "    </tr>\n",
       "  </thead>\n",
       "  <tbody>\n",
       "    <tr>\n",
       "      <th>330</th>\n",
       "      <td>48.500000</td>\n",
       "      <td>1.000000</td>\n",
       "    </tr>\n",
       "    <tr>\n",
       "      <th>3217</th>\n",
       "      <td>33.898360</td>\n",
       "      <td>0.214286</td>\n",
       "    </tr>\n",
       "    <tr>\n",
       "      <th>3333</th>\n",
       "      <td>30.142857</td>\n",
       "      <td>0.428571</td>\n",
       "    </tr>\n",
       "    <tr>\n",
       "      <th>3837</th>\n",
       "      <td>45.550000</td>\n",
       "      <td>0.100000</td>\n",
       "    </tr>\n",
       "    <tr>\n",
       "      <th>3947</th>\n",
       "      <td>42.876939</td>\n",
       "      <td>0.333333</td>\n",
       "    </tr>\n",
       "  </tbody>\n",
       "</table>\n",
       "</div>"
      ],
      "text/plain": [
       "         ActorAge  ActorGenderFlag\n",
       "WikiID                            \n",
       "330     48.500000         1.000000\n",
       "3217    33.898360         0.214286\n",
       "3333    30.142857         0.428571\n",
       "3837    45.550000         0.100000\n",
       "3947    42.876939         0.333333"
      ]
     },
     "execution_count": 82,
     "metadata": {},
     "output_type": "execute_result"
    }
   ],
   "source": [
    "aggregated_df = exploded_df.groupby('WikiID').agg({\n",
    "    \"ActorAge\": \"mean\",\n",
    "    \"ActorGenderFlag\": \"mean\"\n",
    "})\n",
    "\n",
    "aggregated_df.head()"
   ]
  },
  {
   "cell_type": "code",
   "execution_count": 83,
   "metadata": {},
   "outputs": [
    {
     "data": {
      "text/html": [
       "<div>\n",
       "<style scoped>\n",
       "    .dataframe tbody tr th:only-of-type {\n",
       "        vertical-align: middle;\n",
       "    }\n",
       "\n",
       "    .dataframe tbody tr th {\n",
       "        vertical-align: top;\n",
       "    }\n",
       "\n",
       "    .dataframe thead th {\n",
       "        text-align: right;\n",
       "    }\n",
       "</style>\n",
       "<table border=\"1\" class=\"dataframe\">\n",
       "  <thead>\n",
       "    <tr style=\"text-align: right;\">\n",
       "      <th></th>\n",
       "      <th>WikiID</th>\n",
       "      <th>merge_year</th>\n",
       "      <th>Genres</th>\n",
       "      <th>distilbert_emotions</th>\n",
       "      <th>ActorAge</th>\n",
       "      <th>ActorGender</th>\n",
       "      <th>ActorBirthDate</th>\n",
       "      <th>ActorGenderFlag</th>\n",
       "      <th>AgeAvg</th>\n",
       "      <th>GenderAvg</th>\n",
       "    </tr>\n",
       "  </thead>\n",
       "  <tbody>\n",
       "    <tr>\n",
       "      <th>0</th>\n",
       "      <td>975900</td>\n",
       "      <td>2001.0</td>\n",
       "      <td>[Thriller, Science Fiction, Horror, Adventure,...</td>\n",
       "      <td>{'disgust': 0.5021221041679382, 'fear': 0.3510...</td>\n",
       "      <td>[42.0, 27.0, 32.0, 33.0, 23.0, 52.0, 56.0, 37....</td>\n",
       "      <td>[F, F, M, M, F, F, F, M, M, M, M, M, M, M, M, ...</td>\n",
       "      <td>[Timestamp('1958-08-26 00:00:00'), Timestamp('...</td>\n",
       "      <td>[1, 1, 0, 0, 1, 1, 1, 0, 0, 0, 0, 0, 0, 0, 0, ...</td>\n",
       "      <td>42.126711</td>\n",
       "      <td>0.352941</td>\n",
       "    </tr>\n",
       "    <tr>\n",
       "      <th>1</th>\n",
       "      <td>9363483</td>\n",
       "      <td>1987.0</td>\n",
       "      <td>[Thriller, Erotic thriller, Psychological thri...</td>\n",
       "      <td>{'anger': 0.5024036765098572, 'disgust': 0.324...</td>\n",
       "      <td>[32.0, 26.0]</td>\n",
       "      <td>[M, F]</td>\n",
       "      <td>[Timestamp('1954-05-08 00:00:00'), Timestamp('...</td>\n",
       "      <td>[0, 1]</td>\n",
       "      <td>29.000000</td>\n",
       "      <td>0.500000</td>\n",
       "    </tr>\n",
       "    <tr>\n",
       "      <th>2</th>\n",
       "      <td>261236</td>\n",
       "      <td>1983.0</td>\n",
       "      <td>[Drama]</td>\n",
       "      <td>{'anger': 0.3256497378461063, 'disgust': 0.163...</td>\n",
       "      <td>[32.0, 32.0, 35.0]</td>\n",
       "      <td>[F, M, M]</td>\n",
       "      <td>[Timestamp('1950-06-20 00:00:00'), Timestamp('...</td>\n",
       "      <td>[1, 0, 0]</td>\n",
       "      <td>33.000000</td>\n",
       "      <td>0.333333</td>\n",
       "    </tr>\n",
       "    <tr>\n",
       "      <th>3</th>\n",
       "      <td>6631279</td>\n",
       "      <td>1997.0</td>\n",
       "      <td>[Romantic comedy, Ensemble Film, Comedy-drama,...</td>\n",
       "      <td>{'sadness': 0.9155038595199585, 'neutral': 0.0...</td>\n",
       "      <td>[25.0, 33.0, 37.0, 35.0, 33.0, 48.0]</td>\n",
       "      <td>[M, F, F, M, F, F]</td>\n",
       "      <td>[Timestamp('1971-09-15 00:00:00'), Timestamp('...</td>\n",
       "      <td>[0, 1, 1, 0, 1, 1]</td>\n",
       "      <td>35.166667</td>\n",
       "      <td>0.666667</td>\n",
       "    </tr>\n",
       "    <tr>\n",
       "      <th>4</th>\n",
       "      <td>171005</td>\n",
       "      <td>1989.0</td>\n",
       "      <td>[Costume drama, War film, Epic, Period piece, ...</td>\n",
       "      <td>{'neutral': 0.6794102787971497, 'surprise': 0....</td>\n",
       "      <td>[28.0, 51.0, 33.0, 26.0, 30.0, 32.0, 58.0, 53....</td>\n",
       "      <td>[M, M, M, M, F, M, M, M, M, M, F, M, M, F, M, ...</td>\n",
       "      <td>[Timestamp('1960-12-10 00:00:00'), Timestamp('...</td>\n",
       "      <td>[0, 0, 0, 0, 1, 0, 0, 0, 0, 0, 1, 0, 0, 1, 0, ...</td>\n",
       "      <td>45.513739</td>\n",
       "      <td>0.190476</td>\n",
       "    </tr>\n",
       "  </tbody>\n",
       "</table>\n",
       "</div>"
      ],
      "text/plain": [
       "    WikiID  merge_year                                             Genres  \\\n",
       "0   975900      2001.0  [Thriller, Science Fiction, Horror, Adventure,...   \n",
       "1  9363483      1987.0  [Thriller, Erotic thriller, Psychological thri...   \n",
       "2   261236      1983.0                                            [Drama]   \n",
       "3  6631279      1997.0  [Romantic comedy, Ensemble Film, Comedy-drama,...   \n",
       "4   171005      1989.0  [Costume drama, War film, Epic, Period piece, ...   \n",
       "\n",
       "                                 distilbert_emotions  \\\n",
       "0  {'disgust': 0.5021221041679382, 'fear': 0.3510...   \n",
       "1  {'anger': 0.5024036765098572, 'disgust': 0.324...   \n",
       "2  {'anger': 0.3256497378461063, 'disgust': 0.163...   \n",
       "3  {'sadness': 0.9155038595199585, 'neutral': 0.0...   \n",
       "4  {'neutral': 0.6794102787971497, 'surprise': 0....   \n",
       "\n",
       "                                            ActorAge  \\\n",
       "0  [42.0, 27.0, 32.0, 33.0, 23.0, 52.0, 56.0, 37....   \n",
       "1                                       [32.0, 26.0]   \n",
       "2                                 [32.0, 32.0, 35.0]   \n",
       "3               [25.0, 33.0, 37.0, 35.0, 33.0, 48.0]   \n",
       "4  [28.0, 51.0, 33.0, 26.0, 30.0, 32.0, 58.0, 53....   \n",
       "\n",
       "                                         ActorGender  \\\n",
       "0  [F, F, M, M, F, F, F, M, M, M, M, M, M, M, M, ...   \n",
       "1                                             [M, F]   \n",
       "2                                          [F, M, M]   \n",
       "3                                 [M, F, F, M, F, F]   \n",
       "4  [M, M, M, M, F, M, M, M, M, M, F, M, M, F, M, ...   \n",
       "\n",
       "                                      ActorBirthDate  \\\n",
       "0  [Timestamp('1958-08-26 00:00:00'), Timestamp('...   \n",
       "1  [Timestamp('1954-05-08 00:00:00'), Timestamp('...   \n",
       "2  [Timestamp('1950-06-20 00:00:00'), Timestamp('...   \n",
       "3  [Timestamp('1971-09-15 00:00:00'), Timestamp('...   \n",
       "4  [Timestamp('1960-12-10 00:00:00'), Timestamp('...   \n",
       "\n",
       "                                     ActorGenderFlag     AgeAvg  GenderAvg  \n",
       "0  [1, 1, 0, 0, 1, 1, 1, 0, 0, 0, 0, 0, 0, 0, 0, ...  42.126711   0.352941  \n",
       "1                                             [0, 1]  29.000000   0.500000  \n",
       "2                                          [1, 0, 0]  33.000000   0.333333  \n",
       "3                                 [0, 1, 1, 0, 1, 1]  35.166667   0.666667  \n",
       "4  [0, 0, 0, 0, 1, 0, 0, 0, 0, 0, 1, 0, 0, 1, 0, ...  45.513739   0.190476  "
      ]
     },
     "execution_count": 83,
     "metadata": {},
     "output_type": "execute_result"
    }
   ],
   "source": [
    "# Add the calculated variables back to the character dataframe\n",
    "aggregated_df.rename(columns={\n",
    "    'ActorAge': 'AgeAvg', \n",
    "    'ActorGenderFlag': 'GenderAvg'\n",
    "}, inplace=True)\n",
    "\n",
    "character_df = character_df.merge(aggregated_df, on='WikiID', how='left')\n",
    "character_df.head()"
   ]
  },
  {
   "cell_type": "markdown",
   "metadata": {},
   "source": [
    "After we filtered for the necessary data let's check the core of this analysis, the distilbert emotion column"
   ]
  },
  {
   "cell_type": "code",
   "execution_count": 84,
   "metadata": {},
   "outputs": [
    {
     "name": "stdout",
     "output_type": "stream",
     "text": [
      "<class 'str'>\n"
     ]
    },
    {
     "data": {
      "text/plain": [
       "\"{'disgust': 0.5021221041679382, 'fear': 0.35102203488349915, 'anger': 0.06514739245176315, 'neutral': 0.05708540976047516, 'sadness': 0.01877124048769474, 'surprise': 0.004085681866854429, 'joy': 0.0017661249730736017}\""
      ]
     },
     "execution_count": 84,
     "metadata": {},
     "output_type": "execute_result"
    }
   ],
   "source": [
    "test_emotions = character_df.iloc[0]['distilbert_emotions']\n",
    "print(type(test_emotions))\n",
    "test_emotions"
   ]
  },
  {
   "cell_type": "markdown",
   "metadata": {},
   "source": [
    "It seems that the emotion dictionary is also saved as string, lets fix that"
   ]
  },
  {
   "cell_type": "code",
   "execution_count": 85,
   "metadata": {},
   "outputs": [
    {
     "name": "stdout",
     "output_type": "stream",
     "text": [
      "<class 'dict'>\n"
     ]
    },
    {
     "data": {
      "text/plain": [
       "{'disgust': 0.5021221041679382,\n",
       " 'fear': 0.35102203488349915,\n",
       " 'anger': 0.06514739245176315,\n",
       " 'neutral': 0.05708540976047516,\n",
       " 'sadness': 0.01877124048769474,\n",
       " 'surprise': 0.004085681866854429,\n",
       " 'joy': 0.0017661249730736017}"
      ]
     },
     "execution_count": 85,
     "metadata": {},
     "output_type": "execute_result"
    }
   ],
   "source": [
    "character_df['distilbert_emotions'] = character_df['distilbert_emotions'].apply(lambda x: {} if pd.isna(x) else ast.literal_eval(x))\n",
    "\n",
    "# Check the result\n",
    "test_emotions = character_df.iloc[0]['distilbert_emotions']\n",
    "print(type(test_emotions))\n",
    "test_emotions"
   ]
  },
  {
   "cell_type": "markdown",
   "metadata": {},
   "source": [
    "Now that we fixed the column we will create a column for each emotion to conduct the analysis."
   ]
  },
  {
   "cell_type": "code",
   "execution_count": 86,
   "metadata": {},
   "outputs": [
    {
     "data": {
      "text/plain": [
       "0.5021221041679382"
      ]
     },
     "execution_count": 86,
     "metadata": {},
     "output_type": "execute_result"
    }
   ],
   "source": [
    "test_emotions = character_df.iloc[0]['distilbert_emotions']['disgust']\n",
    "test_emotions"
   ]
  },
  {
   "cell_type": "code",
   "execution_count": 87,
   "metadata": {},
   "outputs": [
    {
     "data": {
      "text/html": [
       "<div>\n",
       "<style scoped>\n",
       "    .dataframe tbody tr th:only-of-type {\n",
       "        vertical-align: middle;\n",
       "    }\n",
       "\n",
       "    .dataframe tbody tr th {\n",
       "        vertical-align: top;\n",
       "    }\n",
       "\n",
       "    .dataframe thead th {\n",
       "        text-align: right;\n",
       "    }\n",
       "</style>\n",
       "<table border=\"1\" class=\"dataframe\">\n",
       "  <thead>\n",
       "    <tr style=\"text-align: right;\">\n",
       "      <th></th>\n",
       "      <th>WikiID</th>\n",
       "      <th>merge_year</th>\n",
       "      <th>Genres</th>\n",
       "      <th>distilbert_emotions</th>\n",
       "      <th>ActorAge</th>\n",
       "      <th>ActorGender</th>\n",
       "      <th>ActorBirthDate</th>\n",
       "      <th>ActorGenderFlag</th>\n",
       "      <th>AgeAvg</th>\n",
       "      <th>GenderAvg</th>\n",
       "      <th>disgust</th>\n",
       "      <th>fear</th>\n",
       "      <th>anger</th>\n",
       "      <th>neutral</th>\n",
       "      <th>sadness</th>\n",
       "      <th>surprise</th>\n",
       "      <th>joy</th>\n",
       "    </tr>\n",
       "  </thead>\n",
       "  <tbody>\n",
       "    <tr>\n",
       "      <th>0</th>\n",
       "      <td>975900</td>\n",
       "      <td>2001.0</td>\n",
       "      <td>[Thriller, Science Fiction, Horror, Adventure,...</td>\n",
       "      <td>{'disgust': 0.5021221041679382, 'fear': 0.3510...</td>\n",
       "      <td>[42.0, 27.0, 32.0, 33.0, 23.0, 52.0, 56.0, 37....</td>\n",
       "      <td>[F, F, M, M, F, F, F, M, M, M, M, M, M, M, M, ...</td>\n",
       "      <td>[Timestamp('1958-08-26 00:00:00'), Timestamp('...</td>\n",
       "      <td>[1, 1, 0, 0, 1, 1, 1, 0, 0, 0, 0, 0, 0, 0, 0, ...</td>\n",
       "      <td>42.126711</td>\n",
       "      <td>0.352941</td>\n",
       "      <td>0.502122</td>\n",
       "      <td>0.351022</td>\n",
       "      <td>0.065147</td>\n",
       "      <td>0.057085</td>\n",
       "      <td>0.018771</td>\n",
       "      <td>0.004086</td>\n",
       "      <td>0.001766</td>\n",
       "    </tr>\n",
       "    <tr>\n",
       "      <th>1</th>\n",
       "      <td>9363483</td>\n",
       "      <td>1987.0</td>\n",
       "      <td>[Thriller, Erotic thriller, Psychological thri...</td>\n",
       "      <td>{'anger': 0.5024036765098572, 'disgust': 0.324...</td>\n",
       "      <td>[32.0, 26.0]</td>\n",
       "      <td>[M, F]</td>\n",
       "      <td>[Timestamp('1954-05-08 00:00:00'), Timestamp('...</td>\n",
       "      <td>[0, 1]</td>\n",
       "      <td>29.000000</td>\n",
       "      <td>0.500000</td>\n",
       "      <td>0.324022</td>\n",
       "      <td>0.032032</td>\n",
       "      <td>0.502404</td>\n",
       "      <td>0.096385</td>\n",
       "      <td>0.037811</td>\n",
       "      <td>0.005438</td>\n",
       "      <td>0.001907</td>\n",
       "    </tr>\n",
       "    <tr>\n",
       "      <th>2</th>\n",
       "      <td>261236</td>\n",
       "      <td>1983.0</td>\n",
       "      <td>[Drama]</td>\n",
       "      <td>{'anger': 0.3256497378461063, 'disgust': 0.163...</td>\n",
       "      <td>[32.0, 32.0, 35.0]</td>\n",
       "      <td>[F, M, M]</td>\n",
       "      <td>[Timestamp('1950-06-20 00:00:00'), Timestamp('...</td>\n",
       "      <td>[1, 0, 0]</td>\n",
       "      <td>33.000000</td>\n",
       "      <td>0.333333</td>\n",
       "      <td>0.163747</td>\n",
       "      <td>0.002405</td>\n",
       "      <td>0.325650</td>\n",
       "      <td>0.440068</td>\n",
       "      <td>0.025255</td>\n",
       "      <td>0.005851</td>\n",
       "      <td>0.037024</td>\n",
       "    </tr>\n",
       "    <tr>\n",
       "      <th>3</th>\n",
       "      <td>6631279</td>\n",
       "      <td>1997.0</td>\n",
       "      <td>[Romantic comedy, Ensemble Film, Comedy-drama,...</td>\n",
       "      <td>{'sadness': 0.9155038595199585, 'neutral': 0.0...</td>\n",
       "      <td>[25.0, 33.0, 37.0, 35.0, 33.0, 48.0]</td>\n",
       "      <td>[M, F, F, M, F, F]</td>\n",
       "      <td>[Timestamp('1971-09-15 00:00:00'), Timestamp('...</td>\n",
       "      <td>[0, 1, 1, 0, 1, 1]</td>\n",
       "      <td>35.166667</td>\n",
       "      <td>0.666667</td>\n",
       "      <td>0.021709</td>\n",
       "      <td>0.010488</td>\n",
       "      <td>0.006082</td>\n",
       "      <td>0.042634</td>\n",
       "      <td>0.915504</td>\n",
       "      <td>0.002163</td>\n",
       "      <td>0.001421</td>\n",
       "    </tr>\n",
       "    <tr>\n",
       "      <th>4</th>\n",
       "      <td>171005</td>\n",
       "      <td>1989.0</td>\n",
       "      <td>[Costume drama, War film, Epic, Period piece, ...</td>\n",
       "      <td>{'neutral': 0.6794102787971497, 'surprise': 0....</td>\n",
       "      <td>[28.0, 51.0, 33.0, 26.0, 30.0, 32.0, 58.0, 53....</td>\n",
       "      <td>[M, M, M, M, F, M, M, M, M, M, F, M, M, F, M, ...</td>\n",
       "      <td>[Timestamp('1960-12-10 00:00:00'), Timestamp('...</td>\n",
       "      <td>[0, 0, 0, 0, 1, 0, 0, 0, 0, 0, 1, 0, 0, 1, 0, ...</td>\n",
       "      <td>45.513739</td>\n",
       "      <td>0.190476</td>\n",
       "      <td>0.004746</td>\n",
       "      <td>0.003841</td>\n",
       "      <td>0.016094</td>\n",
       "      <td>0.679410</td>\n",
       "      <td>0.057925</td>\n",
       "      <td>0.129912</td>\n",
       "      <td>0.108072</td>\n",
       "    </tr>\n",
       "  </tbody>\n",
       "</table>\n",
       "</div>"
      ],
      "text/plain": [
       "    WikiID  merge_year                                             Genres  \\\n",
       "0   975900      2001.0  [Thriller, Science Fiction, Horror, Adventure,...   \n",
       "1  9363483      1987.0  [Thriller, Erotic thriller, Psychological thri...   \n",
       "2   261236      1983.0                                            [Drama]   \n",
       "3  6631279      1997.0  [Romantic comedy, Ensemble Film, Comedy-drama,...   \n",
       "4   171005      1989.0  [Costume drama, War film, Epic, Period piece, ...   \n",
       "\n",
       "                                 distilbert_emotions  \\\n",
       "0  {'disgust': 0.5021221041679382, 'fear': 0.3510...   \n",
       "1  {'anger': 0.5024036765098572, 'disgust': 0.324...   \n",
       "2  {'anger': 0.3256497378461063, 'disgust': 0.163...   \n",
       "3  {'sadness': 0.9155038595199585, 'neutral': 0.0...   \n",
       "4  {'neutral': 0.6794102787971497, 'surprise': 0....   \n",
       "\n",
       "                                            ActorAge  \\\n",
       "0  [42.0, 27.0, 32.0, 33.0, 23.0, 52.0, 56.0, 37....   \n",
       "1                                       [32.0, 26.0]   \n",
       "2                                 [32.0, 32.0, 35.0]   \n",
       "3               [25.0, 33.0, 37.0, 35.0, 33.0, 48.0]   \n",
       "4  [28.0, 51.0, 33.0, 26.0, 30.0, 32.0, 58.0, 53....   \n",
       "\n",
       "                                         ActorGender  \\\n",
       "0  [F, F, M, M, F, F, F, M, M, M, M, M, M, M, M, ...   \n",
       "1                                             [M, F]   \n",
       "2                                          [F, M, M]   \n",
       "3                                 [M, F, F, M, F, F]   \n",
       "4  [M, M, M, M, F, M, M, M, M, M, F, M, M, F, M, ...   \n",
       "\n",
       "                                      ActorBirthDate  \\\n",
       "0  [Timestamp('1958-08-26 00:00:00'), Timestamp('...   \n",
       "1  [Timestamp('1954-05-08 00:00:00'), Timestamp('...   \n",
       "2  [Timestamp('1950-06-20 00:00:00'), Timestamp('...   \n",
       "3  [Timestamp('1971-09-15 00:00:00'), Timestamp('...   \n",
       "4  [Timestamp('1960-12-10 00:00:00'), Timestamp('...   \n",
       "\n",
       "                                     ActorGenderFlag     AgeAvg  GenderAvg  \\\n",
       "0  [1, 1, 0, 0, 1, 1, 1, 0, 0, 0, 0, 0, 0, 0, 0, ...  42.126711   0.352941   \n",
       "1                                             [0, 1]  29.000000   0.500000   \n",
       "2                                          [1, 0, 0]  33.000000   0.333333   \n",
       "3                                 [0, 1, 1, 0, 1, 1]  35.166667   0.666667   \n",
       "4  [0, 0, 0, 0, 1, 0, 0, 0, 0, 0, 1, 0, 0, 1, 0, ...  45.513739   0.190476   \n",
       "\n",
       "    disgust      fear     anger   neutral   sadness  surprise       joy  \n",
       "0  0.502122  0.351022  0.065147  0.057085  0.018771  0.004086  0.001766  \n",
       "1  0.324022  0.032032  0.502404  0.096385  0.037811  0.005438  0.001907  \n",
       "2  0.163747  0.002405  0.325650  0.440068  0.025255  0.005851  0.037024  \n",
       "3  0.021709  0.010488  0.006082  0.042634  0.915504  0.002163  0.001421  \n",
       "4  0.004746  0.003841  0.016094  0.679410  0.057925  0.129912  0.108072  "
      ]
     },
     "execution_count": 87,
     "metadata": {},
     "output_type": "execute_result"
    }
   ],
   "source": [
    "emotions = ['disgust', 'fear', 'anger', 'neutral', 'sadness', 'surprise', 'joy']\n",
    "for emotion in emotions:\n",
    "    character_df[emotion] = character_df['distilbert_emotions'].apply(lambda x: x[emotion])\n",
    "character_df.head()"
   ]
  },
  {
   "cell_type": "markdown",
   "metadata": {},
   "source": [
    "To make the influence of different emotions comparable between each other we have to standardize the values column wise:"
   ]
  },
  {
   "cell_type": "code",
   "execution_count": 88,
   "metadata": {},
   "outputs": [
    {
     "data": {
      "text/html": [
       "<div>\n",
       "<style scoped>\n",
       "    .dataframe tbody tr th:only-of-type {\n",
       "        vertical-align: middle;\n",
       "    }\n",
       "\n",
       "    .dataframe tbody tr th {\n",
       "        vertical-align: top;\n",
       "    }\n",
       "\n",
       "    .dataframe thead th {\n",
       "        text-align: right;\n",
       "    }\n",
       "</style>\n",
       "<table border=\"1\" class=\"dataframe\">\n",
       "  <thead>\n",
       "    <tr style=\"text-align: right;\">\n",
       "      <th></th>\n",
       "      <th>WikiID</th>\n",
       "      <th>merge_year</th>\n",
       "      <th>Genres</th>\n",
       "      <th>distilbert_emotions</th>\n",
       "      <th>ActorAge</th>\n",
       "      <th>ActorGender</th>\n",
       "      <th>ActorBirthDate</th>\n",
       "      <th>ActorGenderFlag</th>\n",
       "      <th>AgeAvg</th>\n",
       "      <th>GenderAvg</th>\n",
       "      <th>disgust</th>\n",
       "      <th>fear</th>\n",
       "      <th>anger</th>\n",
       "      <th>neutral</th>\n",
       "      <th>sadness</th>\n",
       "      <th>surprise</th>\n",
       "      <th>joy</th>\n",
       "    </tr>\n",
       "  </thead>\n",
       "  <tbody>\n",
       "    <tr>\n",
       "      <th>0</th>\n",
       "      <td>975900</td>\n",
       "      <td>2001.0</td>\n",
       "      <td>[Thriller, Science Fiction, Horror, Adventure,...</td>\n",
       "      <td>{'disgust': 0.5021221041679382, 'fear': 0.3510...</td>\n",
       "      <td>[42.0, 27.0, 32.0, 33.0, 23.0, 52.0, 56.0, 37....</td>\n",
       "      <td>[F, F, M, M, F, F, F, M, M, M, M, M, M, M, M, ...</td>\n",
       "      <td>[Timestamp('1958-08-26 00:00:00'), Timestamp('...</td>\n",
       "      <td>[1, 1, 0, 0, 1, 1, 1, 0, 0, 0, 0, 0, 0, 0, 0, ...</td>\n",
       "      <td>42.126711</td>\n",
       "      <td>0.352941</td>\n",
       "      <td>1.548388</td>\n",
       "      <td>0.857599</td>\n",
       "      <td>-0.605978</td>\n",
       "      <td>-0.721262</td>\n",
       "      <td>-0.626891</td>\n",
       "      <td>-0.365018</td>\n",
       "      <td>-0.349031</td>\n",
       "    </tr>\n",
       "    <tr>\n",
       "      <th>1</th>\n",
       "      <td>9363483</td>\n",
       "      <td>1987.0</td>\n",
       "      <td>[Thriller, Erotic thriller, Psychological thri...</td>\n",
       "      <td>{'anger': 0.5024036765098572, 'disgust': 0.324...</td>\n",
       "      <td>[32.0, 26.0]</td>\n",
       "      <td>[M, F]</td>\n",
       "      <td>[Timestamp('1954-05-08 00:00:00'), Timestamp('...</td>\n",
       "      <td>[0, 1]</td>\n",
       "      <td>29.000000</td>\n",
       "      <td>0.500000</td>\n",
       "      <td>0.701957</td>\n",
       "      <td>-0.509468</td>\n",
       "      <td>1.296353</td>\n",
       "      <td>-0.538560</td>\n",
       "      <td>-0.545473</td>\n",
       "      <td>-0.353589</td>\n",
       "      <td>-0.347850</td>\n",
       "    </tr>\n",
       "    <tr>\n",
       "      <th>2</th>\n",
       "      <td>261236</td>\n",
       "      <td>1983.0</td>\n",
       "      <td>[Drama]</td>\n",
       "      <td>{'anger': 0.3256497378461063, 'disgust': 0.163...</td>\n",
       "      <td>[32.0, 32.0, 35.0]</td>\n",
       "      <td>[F, M, M]</td>\n",
       "      <td>[Timestamp('1950-06-20 00:00:00'), Timestamp('...</td>\n",
       "      <td>[1, 0, 0]</td>\n",
       "      <td>33.000000</td>\n",
       "      <td>0.333333</td>\n",
       "      <td>-0.059764</td>\n",
       "      <td>-0.636439</td>\n",
       "      <td>0.527366</td>\n",
       "      <td>1.059187</td>\n",
       "      <td>-0.599163</td>\n",
       "      <td>-0.350103</td>\n",
       "      <td>-0.053742</td>\n",
       "    </tr>\n",
       "    <tr>\n",
       "      <th>3</th>\n",
       "      <td>6631279</td>\n",
       "      <td>1997.0</td>\n",
       "      <td>[Romantic comedy, Ensemble Film, Comedy-drama,...</td>\n",
       "      <td>{'sadness': 0.9155038595199585, 'neutral': 0.0...</td>\n",
       "      <td>[25.0, 33.0, 37.0, 35.0, 33.0, 48.0]</td>\n",
       "      <td>[M, F, F, M, F, F]</td>\n",
       "      <td>[Timestamp('1971-09-15 00:00:00'), Timestamp('...</td>\n",
       "      <td>[0, 1, 1, 0, 1, 1]</td>\n",
       "      <td>35.166667</td>\n",
       "      <td>0.666667</td>\n",
       "      <td>-0.734809</td>\n",
       "      <td>-0.601797</td>\n",
       "      <td>-0.862948</td>\n",
       "      <td>-0.788447</td>\n",
       "      <td>3.207756</td>\n",
       "      <td>-0.381261</td>\n",
       "      <td>-0.351924</td>\n",
       "    </tr>\n",
       "    <tr>\n",
       "      <th>4</th>\n",
       "      <td>171005</td>\n",
       "      <td>1989.0</td>\n",
       "      <td>[Costume drama, War film, Epic, Period piece, ...</td>\n",
       "      <td>{'neutral': 0.6794102787971497, 'surprise': 0....</td>\n",
       "      <td>[28.0, 51.0, 33.0, 26.0, 30.0, 32.0, 58.0, 53....</td>\n",
       "      <td>[M, M, M, M, F, M, M, M, M, M, F, M, M, F, M, ...</td>\n",
       "      <td>[Timestamp('1960-12-10 00:00:00'), Timestamp('...</td>\n",
       "      <td>[0, 0, 0, 0, 1, 0, 0, 0, 0, 0, 1, 0, 0, 1, 0, ...</td>\n",
       "      <td>45.513739</td>\n",
       "      <td>0.190476</td>\n",
       "      <td>-0.815427</td>\n",
       "      <td>-0.630285</td>\n",
       "      <td>-0.819388</td>\n",
       "      <td>2.171864</td>\n",
       "      <td>-0.459461</td>\n",
       "      <td>0.698016</td>\n",
       "      <td>0.541288</td>\n",
       "    </tr>\n",
       "  </tbody>\n",
       "</table>\n",
       "</div>"
      ],
      "text/plain": [
       "    WikiID  merge_year                                             Genres  \\\n",
       "0   975900      2001.0  [Thriller, Science Fiction, Horror, Adventure,...   \n",
       "1  9363483      1987.0  [Thriller, Erotic thriller, Psychological thri...   \n",
       "2   261236      1983.0                                            [Drama]   \n",
       "3  6631279      1997.0  [Romantic comedy, Ensemble Film, Comedy-drama,...   \n",
       "4   171005      1989.0  [Costume drama, War film, Epic, Period piece, ...   \n",
       "\n",
       "                                 distilbert_emotions  \\\n",
       "0  {'disgust': 0.5021221041679382, 'fear': 0.3510...   \n",
       "1  {'anger': 0.5024036765098572, 'disgust': 0.324...   \n",
       "2  {'anger': 0.3256497378461063, 'disgust': 0.163...   \n",
       "3  {'sadness': 0.9155038595199585, 'neutral': 0.0...   \n",
       "4  {'neutral': 0.6794102787971497, 'surprise': 0....   \n",
       "\n",
       "                                            ActorAge  \\\n",
       "0  [42.0, 27.0, 32.0, 33.0, 23.0, 52.0, 56.0, 37....   \n",
       "1                                       [32.0, 26.0]   \n",
       "2                                 [32.0, 32.0, 35.0]   \n",
       "3               [25.0, 33.0, 37.0, 35.0, 33.0, 48.0]   \n",
       "4  [28.0, 51.0, 33.0, 26.0, 30.0, 32.0, 58.0, 53....   \n",
       "\n",
       "                                         ActorGender  \\\n",
       "0  [F, F, M, M, F, F, F, M, M, M, M, M, M, M, M, ...   \n",
       "1                                             [M, F]   \n",
       "2                                          [F, M, M]   \n",
       "3                                 [M, F, F, M, F, F]   \n",
       "4  [M, M, M, M, F, M, M, M, M, M, F, M, M, F, M, ...   \n",
       "\n",
       "                                      ActorBirthDate  \\\n",
       "0  [Timestamp('1958-08-26 00:00:00'), Timestamp('...   \n",
       "1  [Timestamp('1954-05-08 00:00:00'), Timestamp('...   \n",
       "2  [Timestamp('1950-06-20 00:00:00'), Timestamp('...   \n",
       "3  [Timestamp('1971-09-15 00:00:00'), Timestamp('...   \n",
       "4  [Timestamp('1960-12-10 00:00:00'), Timestamp('...   \n",
       "\n",
       "                                     ActorGenderFlag     AgeAvg  GenderAvg  \\\n",
       "0  [1, 1, 0, 0, 1, 1, 1, 0, 0, 0, 0, 0, 0, 0, 0, ...  42.126711   0.352941   \n",
       "1                                             [0, 1]  29.000000   0.500000   \n",
       "2                                          [1, 0, 0]  33.000000   0.333333   \n",
       "3                                 [0, 1, 1, 0, 1, 1]  35.166667   0.666667   \n",
       "4  [0, 0, 0, 0, 1, 0, 0, 0, 0, 0, 1, 0, 0, 1, 0, ...  45.513739   0.190476   \n",
       "\n",
       "    disgust      fear     anger   neutral   sadness  surprise       joy  \n",
       "0  1.548388  0.857599 -0.605978 -0.721262 -0.626891 -0.365018 -0.349031  \n",
       "1  0.701957 -0.509468  1.296353 -0.538560 -0.545473 -0.353589 -0.347850  \n",
       "2 -0.059764 -0.636439  0.527366  1.059187 -0.599163 -0.350103 -0.053742  \n",
       "3 -0.734809 -0.601797 -0.862948 -0.788447  3.207756 -0.381261 -0.351924  \n",
       "4 -0.815427 -0.630285 -0.819388  2.171864 -0.459461  0.698016  0.541288  "
      ]
     },
     "execution_count": 88,
     "metadata": {},
     "output_type": "execute_result"
    }
   ],
   "source": [
    "# Use standard scaler from sklearn and do fit and transform\n",
    "scaler = StandardScaler()\n",
    "character_df[emotions] = scaler.fit_transform(character_df[emotions])\n",
    "\n",
    "# Check the results\n",
    "character_df.head()"
   ]
  },
  {
   "cell_type": "markdown",
   "metadata": {},
   "source": [
    "Now lets start the analyis, first we will have a look of the influence of each single emotion on the age average of actors as well as the gender average. To determine if a predictor is significant we will use a significance level of 0.95 resulting in alpha=0.05."
   ]
  },
  {
   "cell_type": "code",
   "execution_count": 89,
   "metadata": {},
   "outputs": [],
   "source": [
    "# Set random seed for reproducability\n",
    "np.random.seed(2)"
   ]
  },
  {
   "cell_type": "markdown",
   "metadata": {},
   "source": [
    "#### Disgust"
   ]
  },
  {
   "cell_type": "code",
   "execution_count": 90,
   "metadata": {},
   "outputs": [
    {
     "name": "stdout",
     "output_type": "stream",
     "text": [
      "                            OLS Regression Results                            \n",
      "==============================================================================\n",
      "Dep. Variable:                 AgeAvg   R-squared:                       0.000\n",
      "Model:                            OLS   Adj. R-squared:                  0.000\n",
      "Method:                 Least Squares   F-statistic:                     7.374\n",
      "Date:                Sun, 15 Dec 2024   Prob (F-statistic):            0.00662\n",
      "Time:                        18:10:12   Log-Likelihood:            -1.0086e+05\n",
      "No. Observations:               30175   AIC:                         2.017e+05\n",
      "Df Residuals:                   30173   BIC:                         2.017e+05\n",
      "Df Model:                           1                                         \n",
      "Covariance Type:            nonrobust                                         \n",
      "==============================================================================\n",
      "                 coef    std err          t      P>|t|      [0.025      0.975]\n",
      "------------------------------------------------------------------------------\n",
      "Intercept     37.8041      0.039    959.432      0.000      37.727      37.881\n",
      "disgust       -0.1070      0.039     -2.715      0.007      -0.184      -0.030\n",
      "==============================================================================\n",
      "Omnibus:                     2949.730   Durbin-Watson:                   2.006\n",
      "Prob(Omnibus):                  0.000   Jarque-Bera (JB):            16229.714\n",
      "Skew:                           0.313   Prob(JB):                         0.00\n",
      "Kurtosis:                       6.538   Cond. No.                         1.00\n",
      "==============================================================================\n",
      "\n",
      "Notes:\n",
      "[1] Standard Errors assume that the covariance matrix of the errors is correctly specified.\n"
     ]
    }
   ],
   "source": [
    "disgust_age_mod = smf.ols(formula='AgeAvg ~ disgust', data=character_df)\n",
    "disgust_age_res = disgust_age_mod.fit()\n",
    "print(disgust_age_res.summary())"
   ]
  },
  {
   "cell_type": "code",
   "execution_count": 91,
   "metadata": {},
   "outputs": [
    {
     "name": "stdout",
     "output_type": "stream",
     "text": [
      "                            OLS Regression Results                            \n",
      "==============================================================================\n",
      "Dep. Variable:              GenderAvg   R-squared:                       0.000\n",
      "Model:                            OLS   Adj. R-squared:                  0.000\n",
      "Method:                 Least Squares   F-statistic:                     2.606\n",
      "Date:                Sun, 15 Dec 2024   Prob (F-statistic):              0.106\n",
      "Time:                        18:10:13   Log-Likelihood:                 2882.1\n",
      "No. Observations:               30175   AIC:                            -5760.\n",
      "Df Residuals:                   30173   BIC:                            -5744.\n",
      "Df Model:                           1                                         \n",
      "Covariance Type:            nonrobust                                         \n",
      "==============================================================================\n",
      "                 coef    std err          t      P>|t|      [0.025      0.975]\n",
      "------------------------------------------------------------------------------\n",
      "Intercept      0.3384      0.001    267.241      0.000       0.336       0.341\n",
      "disgust       -0.0020      0.001     -1.614      0.106      -0.005       0.000\n",
      "==============================================================================\n",
      "Omnibus:                     2539.486   Durbin-Watson:                   1.990\n",
      "Prob(Omnibus):                  0.000   Jarque-Bera (JB):             3537.908\n",
      "Skew:                           0.697   Prob(JB):                         0.00\n",
      "Kurtosis:                       3.934   Cond. No.                         1.00\n",
      "==============================================================================\n",
      "\n",
      "Notes:\n",
      "[1] Standard Errors assume that the covariance matrix of the errors is correctly specified.\n"
     ]
    }
   ],
   "source": [
    "disgust_gender_mod = smf.ols(formula='GenderAvg ~ disgust', data=character_df)\n",
    "disgust_gender_res = disgust_gender_mod.fit()\n",
    "print(disgust_gender_res.summary())"
   ]
  },
  {
   "cell_type": "markdown",
   "metadata": {},
   "source": [
    "We can see that the emotion disgust is a significant predictor for the average age of involved actors but not for the average gender of involved actors. Disgust has a negative impact on the average age of involved actors, with an intercept of 37.8 and a coefficient of ~ -0.1. That means that in movies where disgust is a predominant emotion, younger actors are preferred."
   ]
  },
  {
   "cell_type": "markdown",
   "metadata": {},
   "source": [
    "#### Fear"
   ]
  },
  {
   "cell_type": "code",
   "execution_count": 92,
   "metadata": {},
   "outputs": [
    {
     "name": "stdout",
     "output_type": "stream",
     "text": [
      "                            OLS Regression Results                            \n",
      "==============================================================================\n",
      "Dep. Variable:                 AgeAvg   R-squared:                       0.001\n",
      "Model:                            OLS   Adj. R-squared:                  0.001\n",
      "Method:                 Least Squares   F-statistic:                     31.73\n",
      "Date:                Sun, 15 Dec 2024   Prob (F-statistic):           1.79e-08\n",
      "Time:                        18:10:14   Log-Likelihood:            -1.0084e+05\n",
      "No. Observations:               30175   AIC:                         2.017e+05\n",
      "Df Residuals:                   30173   BIC:                         2.017e+05\n",
      "Df Model:                           1                                         \n",
      "Covariance Type:            nonrobust                                         \n",
      "==============================================================================\n",
      "                 coef    std err          t      P>|t|      [0.025      0.975]\n",
      "------------------------------------------------------------------------------\n",
      "Intercept     37.8041      0.039    959.819      0.000      37.727      37.881\n",
      "fear           0.2219      0.039      5.633      0.000       0.145       0.299\n",
      "==============================================================================\n",
      "Omnibus:                     2979.411   Durbin-Watson:                   2.007\n",
      "Prob(Omnibus):                  0.000   Jarque-Bera (JB):            16420.332\n",
      "Skew:                           0.319   Prob(JB):                         0.00\n",
      "Kurtosis:                       6.557   Cond. No.                         1.00\n",
      "==============================================================================\n",
      "\n",
      "Notes:\n",
      "[1] Standard Errors assume that the covariance matrix of the errors is correctly specified.\n"
     ]
    }
   ],
   "source": [
    "fear_age_mod = smf.ols(formula='AgeAvg ~ fear', data=character_df)\n",
    "fear_age_res = fear_age_mod.fit()\n",
    "print(fear_age_res.summary())"
   ]
  },
  {
   "cell_type": "code",
   "execution_count": 93,
   "metadata": {},
   "outputs": [
    {
     "name": "stdout",
     "output_type": "stream",
     "text": [
      "                            OLS Regression Results                            \n",
      "==============================================================================\n",
      "Dep. Variable:              GenderAvg   R-squared:                       0.000\n",
      "Model:                            OLS   Adj. R-squared:                  0.000\n",
      "Method:                 Least Squares   F-statistic:                     3.802\n",
      "Date:                Sun, 15 Dec 2024   Prob (F-statistic):             0.0512\n",
      "Time:                        18:10:17   Log-Likelihood:                 2882.7\n",
      "No. Observations:               30175   AIC:                            -5761.\n",
      "Df Residuals:                   30173   BIC:                            -5745.\n",
      "Df Model:                           1                                         \n",
      "Covariance Type:            nonrobust                                         \n",
      "==============================================================================\n",
      "                 coef    std err          t      P>|t|      [0.025      0.975]\n",
      "------------------------------------------------------------------------------\n",
      "Intercept      0.3384      0.001    267.246      0.000       0.336       0.341\n",
      "fear          -0.0025      0.001     -1.950      0.051      -0.005    1.29e-05\n",
      "==============================================================================\n",
      "Omnibus:                     2528.806   Durbin-Watson:                   1.990\n",
      "Prob(Omnibus):                  0.000   Jarque-Bera (JB):             3519.560\n",
      "Skew:                           0.695   Prob(JB):                         0.00\n",
      "Kurtosis:                       3.931   Cond. No.                         1.00\n",
      "==============================================================================\n",
      "\n",
      "Notes:\n",
      "[1] Standard Errors assume that the covariance matrix of the errors is correctly specified.\n"
     ]
    }
   ],
   "source": [
    "fear_gender_mod = smf.ols(formula='GenderAvg ~ fear', data=character_df)\n",
    "fear_gender_res = fear_gender_mod.fit()\n",
    "print(fear_gender_res.summary())"
   ]
  },
  {
   "cell_type": "markdown",
   "metadata": {},
   "source": [
    "We can see that fear is a significant predictor for the average age of involved actors but not for the average gender of involved actors. Fear has a positive impact on the average age of involved actors with an intercept of 37.8 and a coefficient of ~ 0.22. That means that in movies where fear is a dominant emotion, older actors are preferred."
   ]
  },
  {
   "cell_type": "markdown",
   "metadata": {},
   "source": [
    "#### Anger"
   ]
  },
  {
   "cell_type": "code",
   "execution_count": 94,
   "metadata": {},
   "outputs": [
    {
     "name": "stdout",
     "output_type": "stream",
     "text": [
      "                            OLS Regression Results                            \n",
      "==============================================================================\n",
      "Dep. Variable:                 AgeAvg   R-squared:                       0.000\n",
      "Model:                            OLS   Adj. R-squared:                 -0.000\n",
      "Method:                 Least Squares   F-statistic:                 4.023e-05\n",
      "Date:                Sun, 15 Dec 2024   Prob (F-statistic):              0.995\n",
      "Time:                        18:10:31   Log-Likelihood:            -1.0086e+05\n",
      "No. Observations:               30175   AIC:                         2.017e+05\n",
      "Df Residuals:                   30173   BIC:                         2.017e+05\n",
      "Df Model:                           1                                         \n",
      "Covariance Type:            nonrobust                                         \n",
      "==============================================================================\n",
      "                 coef    std err          t      P>|t|      [0.025      0.975]\n",
      "------------------------------------------------------------------------------\n",
      "Intercept     37.8041      0.039    959.315      0.000      37.727      37.881\n",
      "anger         -0.0002      0.039     -0.006      0.995      -0.077       0.077\n",
      "==============================================================================\n",
      "Omnibus:                     2955.881   Durbin-Watson:                   2.006\n",
      "Prob(Omnibus):                  0.000   Jarque-Bera (JB):            16249.304\n",
      "Skew:                           0.314   Prob(JB):                         0.00\n",
      "Kurtosis:                       6.540   Cond. No.                         1.00\n",
      "==============================================================================\n",
      "\n",
      "Notes:\n",
      "[1] Standard Errors assume that the covariance matrix of the errors is correctly specified.\n"
     ]
    }
   ],
   "source": [
    "anger_age_mod = smf.ols(formula='AgeAvg ~ anger', data=character_df)\n",
    "anger_age_res = anger_age_mod.fit()\n",
    "print(anger_age_res.summary())"
   ]
  },
  {
   "cell_type": "code",
   "execution_count": 95,
   "metadata": {},
   "outputs": [
    {
     "name": "stdout",
     "output_type": "stream",
     "text": [
      "                            OLS Regression Results                            \n",
      "==============================================================================\n",
      "Dep. Variable:              GenderAvg   R-squared:                       0.008\n",
      "Model:                            OLS   Adj. R-squared:                  0.008\n",
      "Method:                 Least Squares   F-statistic:                     256.1\n",
      "Date:                Sun, 15 Dec 2024   Prob (F-statistic):           2.14e-57\n",
      "Time:                        18:10:31   Log-Likelihood:                 3008.3\n",
      "No. Observations:               30175   AIC:                            -6013.\n",
      "Df Residuals:                   30173   BIC:                            -5996.\n",
      "Df Model:                           1                                         \n",
      "Covariance Type:            nonrobust                                         \n",
      "==============================================================================\n",
      "                 coef    std err          t      P>|t|      [0.025      0.975]\n",
      "------------------------------------------------------------------------------\n",
      "Intercept      0.3384      0.001    268.361      0.000       0.336       0.341\n",
      "anger         -0.0202      0.001    -16.002      0.000      -0.023      -0.018\n",
      "==============================================================================\n",
      "Omnibus:                     2530.693   Durbin-Watson:                   1.993\n",
      "Prob(Omnibus):                  0.000   Jarque-Bera (JB):             3567.877\n",
      "Skew:                           0.689   Prob(JB):                         0.00\n",
      "Kurtosis:                       3.969   Cond. No.                         1.00\n",
      "==============================================================================\n",
      "\n",
      "Notes:\n",
      "[1] Standard Errors assume that the covariance matrix of the errors is correctly specified.\n"
     ]
    }
   ],
   "source": [
    "anger_gender_mod = smf.ols(formula='GenderAvg ~ anger', data=character_df)\n",
    "anger_gender_res = anger_gender_mod.fit()\n",
    "print(anger_gender_res.summary())"
   ]
  },
  {
   "cell_type": "markdown",
   "metadata": {},
   "source": [
    "For anger we have a different picture. Anger is not a significant predictor for the average age of involved actors but for the average gender of involved actors. It has a negative impact on the percentage of female actors with an intercept of ~ 0.33 and a coefficient of -0.02. That means for movies where anger is a dominant emotion male actors are preferred."
   ]
  },
  {
   "cell_type": "markdown",
   "metadata": {},
   "source": [
    "#### Neutral"
   ]
  },
  {
   "cell_type": "code",
   "execution_count": 96,
   "metadata": {},
   "outputs": [
    {
     "name": "stdout",
     "output_type": "stream",
     "text": [
      "                            OLS Regression Results                            \n",
      "==============================================================================\n",
      "Dep. Variable:                 AgeAvg   R-squared:                       0.001\n",
      "Model:                            OLS   Adj. R-squared:                  0.001\n",
      "Method:                 Least Squares   F-statistic:                     18.28\n",
      "Date:                Sun, 15 Dec 2024   Prob (F-statistic):           1.91e-05\n",
      "Time:                        18:10:35   Log-Likelihood:            -1.0085e+05\n",
      "No. Observations:               30175   AIC:                         2.017e+05\n",
      "Df Residuals:                   30173   BIC:                         2.017e+05\n",
      "Df Model:                           1                                         \n",
      "Covariance Type:            nonrobust                                         \n",
      "==============================================================================\n",
      "                 coef    std err          t      P>|t|      [0.025      0.975]\n",
      "------------------------------------------------------------------------------\n",
      "Intercept     37.8041      0.039    959.605      0.000      37.727      37.881\n",
      "neutral        0.1685      0.039      4.276      0.000       0.091       0.246\n",
      "==============================================================================\n",
      "Omnibus:                     2902.423   Durbin-Watson:                   2.006\n",
      "Prob(Omnibus):                  0.000   Jarque-Bera (JB):            15902.041\n",
      "Skew:                           0.303   Prob(JB):                         0.00\n",
      "Kurtosis:                       6.504   Cond. No.                         1.00\n",
      "==============================================================================\n",
      "\n",
      "Notes:\n",
      "[1] Standard Errors assume that the covariance matrix of the errors is correctly specified.\n"
     ]
    }
   ],
   "source": [
    "neutral_age_mod = smf.ols(formula='AgeAvg ~ neutral', data=character_df)\n",
    "neutral_age_res = neutral_age_mod.fit()\n",
    "print(neutral_age_res.summary())"
   ]
  },
  {
   "cell_type": "code",
   "execution_count": 97,
   "metadata": {},
   "outputs": [
    {
     "name": "stdout",
     "output_type": "stream",
     "text": [
      "                            OLS Regression Results                            \n",
      "==============================================================================\n",
      "Dep. Variable:              GenderAvg   R-squared:                       0.001\n",
      "Model:                            OLS   Adj. R-squared:                  0.001\n",
      "Method:                 Least Squares   F-statistic:                     23.05\n",
      "Date:                Sun, 15 Dec 2024   Prob (F-statistic):           1.59e-06\n",
      "Time:                        18:10:35   Log-Likelihood:                 2892.3\n",
      "No. Observations:               30175   AIC:                            -5781.\n",
      "Df Residuals:                   30173   BIC:                            -5764.\n",
      "Df Model:                           1                                         \n",
      "Covariance Type:            nonrobust                                         \n",
      "==============================================================================\n",
      "                 coef    std err          t      P>|t|      [0.025      0.975]\n",
      "------------------------------------------------------------------------------\n",
      "Intercept      0.3384      0.001    267.331      0.000       0.336       0.341\n",
      "neutral       -0.0061      0.001     -4.801      0.000      -0.009      -0.004\n",
      "==============================================================================\n",
      "Omnibus:                     2556.042   Durbin-Watson:                   1.990\n",
      "Prob(Omnibus):                  0.000   Jarque-Bera (JB):             3566.278\n",
      "Skew:                           0.700   Prob(JB):                         0.00\n",
      "Kurtosis:                       3.937   Cond. No.                         1.00\n",
      "==============================================================================\n",
      "\n",
      "Notes:\n",
      "[1] Standard Errors assume that the covariance matrix of the errors is correctly specified.\n"
     ]
    }
   ],
   "source": [
    "neutral_gender_mod = smf.ols(formula='GenderAvg ~ neutral', data=character_df)\n",
    "neutral_gender_res = neutral_gender_mod.fit()\n",
    "print(neutral_gender_res.summary())"
   ]
  },
  {
   "cell_type": "markdown",
   "metadata": {},
   "source": [
    "The emotion neutral is a significant predictor for both average age and gender of involved actors. It has a positive impact on the average actor age with an intercept of ~ 37.8 and a coefficient of 0.17, meaning that in movies where neutral is a dominant emotion older actors are preferred. For the average gender on the other hand there is a very small negative impact with an intercept of ~ 0.33 and a coefficient of -0.0063, meaning that for movies where neutral is a dominant emotion male actors are preferred. Here it has to be noticed, that the influence is significant but very small."
   ]
  },
  {
   "cell_type": "markdown",
   "metadata": {},
   "source": [
    "#### Sadness"
   ]
  },
  {
   "cell_type": "code",
   "execution_count": 98,
   "metadata": {},
   "outputs": [
    {
     "name": "stdout",
     "output_type": "stream",
     "text": [
      "                            OLS Regression Results                            \n",
      "==============================================================================\n",
      "Dep. Variable:                 AgeAvg   R-squared:                       0.001\n",
      "Model:                            OLS   Adj. R-squared:                  0.001\n",
      "Method:                 Least Squares   F-statistic:                     31.27\n",
      "Date:                Sun, 15 Dec 2024   Prob (F-statistic):           2.27e-08\n",
      "Time:                        18:10:40   Log-Likelihood:            -1.0084e+05\n",
      "No. Observations:               30175   AIC:                         2.017e+05\n",
      "Df Residuals:                   30173   BIC:                         2.017e+05\n",
      "Df Model:                           1                                         \n",
      "Covariance Type:            nonrobust                                         \n",
      "==============================================================================\n",
      "                 coef    std err          t      P>|t|      [0.025      0.975]\n",
      "------------------------------------------------------------------------------\n",
      "Intercept     37.8041      0.039    959.811      0.000      37.727      37.881\n",
      "sadness       -0.2202      0.039     -5.592      0.000      -0.297      -0.143\n",
      "==============================================================================\n",
      "Omnibus:                     2950.621   Durbin-Watson:                   2.007\n",
      "Prob(Omnibus):                  0.000   Jarque-Bera (JB):            16205.034\n",
      "Skew:                           0.314   Prob(JB):                         0.00\n",
      "Kurtosis:                       6.535   Cond. No.                         1.00\n",
      "==============================================================================\n",
      "\n",
      "Notes:\n",
      "[1] Standard Errors assume that the covariance matrix of the errors is correctly specified.\n"
     ]
    }
   ],
   "source": [
    "sad_age_mod = smf.ols(formula='AgeAvg ~ sadness', data=character_df)\n",
    "sad_age_res = sad_age_mod.fit()\n",
    "print(sad_age_res.summary())"
   ]
  },
  {
   "cell_type": "code",
   "execution_count": 99,
   "metadata": {},
   "outputs": [
    {
     "name": "stdout",
     "output_type": "stream",
     "text": [
      "                            OLS Regression Results                            \n",
      "==============================================================================\n",
      "Dep. Variable:              GenderAvg   R-squared:                       0.009\n",
      "Model:                            OLS   Adj. R-squared:                  0.009\n",
      "Method:                 Least Squares   F-statistic:                     272.1\n",
      "Date:                Sun, 15 Dec 2024   Prob (F-statistic):           7.25e-61\n",
      "Time:                        18:10:43   Log-Likelihood:                 3016.3\n",
      "No. Observations:               30175   AIC:                            -6029.\n",
      "Df Residuals:                   30173   BIC:                            -6012.\n",
      "Df Model:                           1                                         \n",
      "Covariance Type:            nonrobust                                         \n",
      "==============================================================================\n",
      "                 coef    std err          t      P>|t|      [0.025      0.975]\n",
      "------------------------------------------------------------------------------\n",
      "Intercept      0.3384      0.001    268.431      0.000       0.336       0.341\n",
      "sadness        0.0208      0.001     16.496      0.000       0.018       0.023\n",
      "==============================================================================\n",
      "Omnibus:                     2637.035   Durbin-Watson:                   1.993\n",
      "Prob(Omnibus):                  0.000   Jarque-Bera (JB):             3743.699\n",
      "Skew:                           0.708   Prob(JB):                         0.00\n",
      "Kurtosis:                       3.985   Cond. No.                         1.00\n",
      "==============================================================================\n",
      "\n",
      "Notes:\n",
      "[1] Standard Errors assume that the covariance matrix of the errors is correctly specified.\n"
     ]
    }
   ],
   "source": [
    "sad_gender_mod = smf.ols(formula='GenderAvg ~ sadness', data=character_df)\n",
    "sad_gender_res = sad_gender_mod.fit()\n",
    "print(sad_gender_res.summary())"
   ]
  },
  {
   "cell_type": "markdown",
   "metadata": {},
   "source": [
    "Sadness is a significant predictor for both average age and gender of involved actors. It has a negative impact on the average age of actors with a coefficient of -0.22 and a positive impact on the percentage of femal actors with a coefficient of 0.02. That means that in movies where sadness is a dominant emotion, younger and female actors are preferred."
   ]
  },
  {
   "cell_type": "markdown",
   "metadata": {},
   "source": [
    "#### Surprise"
   ]
  },
  {
   "cell_type": "code",
   "execution_count": 100,
   "metadata": {},
   "outputs": [
    {
     "name": "stdout",
     "output_type": "stream",
     "text": [
      "                            OLS Regression Results                            \n",
      "==============================================================================\n",
      "Dep. Variable:                 AgeAvg   R-squared:                       0.000\n",
      "Model:                            OLS   Adj. R-squared:                 -0.000\n",
      "Method:                 Least Squares   F-statistic:                    0.4193\n",
      "Date:                Sun, 15 Dec 2024   Prob (F-statistic):              0.517\n",
      "Time:                        18:11:05   Log-Likelihood:            -1.0086e+05\n",
      "No. Observations:               30175   AIC:                         2.017e+05\n",
      "Df Residuals:                   30173   BIC:                         2.017e+05\n",
      "Df Model:                           1                                         \n",
      "Covariance Type:            nonrobust                                         \n",
      "==============================================================================\n",
      "                 coef    std err          t      P>|t|      [0.025      0.975]\n",
      "------------------------------------------------------------------------------\n",
      "Intercept     37.8041      0.039    959.321      0.000      37.727      37.881\n",
      "surprise       0.0255      0.039      0.648      0.517      -0.052       0.103\n",
      "==============================================================================\n",
      "Omnibus:                     2955.734   Durbin-Watson:                   2.006\n",
      "Prob(Omnibus):                  0.000   Jarque-Bera (JB):            16249.133\n",
      "Skew:                           0.314   Prob(JB):                         0.00\n",
      "Kurtosis:                       6.540   Cond. No.                         1.00\n",
      "==============================================================================\n",
      "\n",
      "Notes:\n",
      "[1] Standard Errors assume that the covariance matrix of the errors is correctly specified.\n"
     ]
    }
   ],
   "source": [
    "sur_age_mod = smf.ols(formula='AgeAvg ~ surprise', data=character_df)\n",
    "sur_age_res = sur_age_mod.fit()\n",
    "print(sur_age_res.summary())"
   ]
  },
  {
   "cell_type": "code",
   "execution_count": 101,
   "metadata": {},
   "outputs": [
    {
     "name": "stdout",
     "output_type": "stream",
     "text": [
      "                            OLS Regression Results                            \n",
      "==============================================================================\n",
      "Dep. Variable:              GenderAvg   R-squared:                       0.001\n",
      "Model:                            OLS   Adj. R-squared:                  0.001\n",
      "Method:                 Least Squares   F-statistic:                     23.77\n",
      "Date:                Sun, 15 Dec 2024   Prob (F-statistic):           1.09e-06\n",
      "Time:                        18:11:06   Log-Likelihood:                 2892.7\n",
      "No. Observations:               30175   AIC:                            -5781.\n",
      "Df Residuals:                   30173   BIC:                            -5765.\n",
      "Df Model:                           1                                         \n",
      "Covariance Type:            nonrobust                                         \n",
      "==============================================================================\n",
      "                 coef    std err          t      P>|t|      [0.025      0.975]\n",
      "------------------------------------------------------------------------------\n",
      "Intercept      0.3384      0.001    267.334      0.000       0.336       0.341\n",
      "surprise       0.0062      0.001      4.875      0.000       0.004       0.009\n",
      "==============================================================================\n",
      "Omnibus:                     2539.073   Durbin-Watson:                   1.990\n",
      "Prob(Omnibus):                  0.000   Jarque-Bera (JB):             3539.343\n",
      "Skew:                           0.696   Prob(JB):                         0.00\n",
      "Kurtosis:                       3.935   Cond. No.                         1.00\n",
      "==============================================================================\n",
      "\n",
      "Notes:\n",
      "[1] Standard Errors assume that the covariance matrix of the errors is correctly specified.\n"
     ]
    }
   ],
   "source": [
    "sur_gender_mod = smf.ols(formula='GenderAvg ~ surprise', data=character_df)\n",
    "sur_gender_res = sur_gender_mod.fit()\n",
    "print(sur_gender_res.summary())"
   ]
  },
  {
   "cell_type": "markdown",
   "metadata": {},
   "source": [
    "Surprise is not a significant predictor for the average age of involved actors but for the average gender. With a coefficient of 0.0061 it has a slightly positive impact on the percentage of female actors in movies, indicating that in movies where surprise is a dominant emotion, female actors are preferred."
   ]
  },
  {
   "cell_type": "markdown",
   "metadata": {},
   "source": [
    "#### Joy"
   ]
  },
  {
   "cell_type": "code",
   "execution_count": 102,
   "metadata": {},
   "outputs": [
    {
     "name": "stdout",
     "output_type": "stream",
     "text": [
      "                            OLS Regression Results                            \n",
      "==============================================================================\n",
      "Dep. Variable:                 AgeAvg   R-squared:                       0.000\n",
      "Model:                            OLS   Adj. R-squared:                  0.000\n",
      "Method:                 Least Squares   F-statistic:                     12.98\n",
      "Date:                Sun, 15 Dec 2024   Prob (F-statistic):           0.000315\n",
      "Time:                        18:11:08   Log-Likelihood:            -1.0085e+05\n",
      "No. Observations:               30175   AIC:                         2.017e+05\n",
      "Df Residuals:                   30173   BIC:                         2.017e+05\n",
      "Df Model:                           1                                         \n",
      "Covariance Type:            nonrobust                                         \n",
      "==============================================================================\n",
      "                 coef    std err          t      P>|t|      [0.025      0.975]\n",
      "------------------------------------------------------------------------------\n",
      "Intercept     37.8041      0.039    959.521      0.000      37.727      37.881\n",
      "joy           -0.1419      0.039     -3.603      0.000      -0.219      -0.065\n",
      "==============================================================================\n",
      "Omnibus:                     2972.715   Durbin-Watson:                   2.007\n",
      "Prob(Omnibus):                  0.000   Jarque-Bera (JB):            16332.423\n",
      "Skew:                           0.318   Prob(JB):                         0.00\n",
      "Kurtosis:                       6.547   Cond. No.                         1.00\n",
      "==============================================================================\n",
      "\n",
      "Notes:\n",
      "[1] Standard Errors assume that the covariance matrix of the errors is correctly specified.\n"
     ]
    }
   ],
   "source": [
    "joy_age_mod = smf.ols(formula='AgeAvg ~ joy', data=character_df)\n",
    "joy_age_res = joy_age_mod.fit()\n",
    "print(joy_age_res.summary())"
   ]
  },
  {
   "cell_type": "code",
   "execution_count": 103,
   "metadata": {},
   "outputs": [
    {
     "name": "stdout",
     "output_type": "stream",
     "text": [
      "                            OLS Regression Results                            \n",
      "==============================================================================\n",
      "Dep. Variable:              GenderAvg   R-squared:                       0.003\n",
      "Model:                            OLS   Adj. R-squared:                  0.003\n",
      "Method:                 Least Squares   F-statistic:                     80.87\n",
      "Date:                Sun, 15 Dec 2024   Prob (F-statistic):           2.55e-19\n",
      "Time:                        18:11:09   Log-Likelihood:                 2921.2\n",
      "No. Observations:               30175   AIC:                            -5838.\n",
      "Df Residuals:                   30173   BIC:                            -5822.\n",
      "Df Model:                           1                                         \n",
      "Covariance Type:            nonrobust                                         \n",
      "==============================================================================\n",
      "                 coef    std err          t      P>|t|      [0.025      0.975]\n",
      "------------------------------------------------------------------------------\n",
      "Intercept      0.3384      0.001    267.587      0.000       0.336       0.341\n",
      "joy            0.0114      0.001      8.993      0.000       0.009       0.014\n",
      "==============================================================================\n",
      "Omnibus:                     2505.831   Durbin-Watson:                   1.990\n",
      "Prob(Omnibus):                  0.000   Jarque-Bera (JB):             3490.923\n",
      "Skew:                           0.690   Prob(JB):                         0.00\n",
      "Kurtosis:                       3.935   Cond. No.                         1.00\n",
      "==============================================================================\n",
      "\n",
      "Notes:\n",
      "[1] Standard Errors assume that the covariance matrix of the errors is correctly specified.\n"
     ]
    }
   ],
   "source": [
    "joy_gender_mod = smf.ols(formula='GenderAvg ~ joy', data=character_df)\n",
    "joy_gender_res = joy_gender_mod.fit()\n",
    "print(joy_gender_res.summary())"
   ]
  },
  {
   "cell_type": "markdown",
   "metadata": {},
   "source": [
    "Joy is a significant predictor for both the average age and the average gender of involved actors. With a coefficient of -0.14 it has a negative impact on the average age of involved actors indicating that in movies where joy is a dominant emotion, older actors are preferred. With a coefficient of 0.01 it has a positive impact on the percentage of female actors, so in movies where joy is a dominant emotion, female actors are preferred."
   ]
  },
  {
   "cell_type": "markdown",
   "metadata": {},
   "source": [
    "### First summary\n",
    "\n",
    "Overall we can see, that different emotions can be a significant predictor for the average age and gender of involved actors. That is particularly interesting to understand casting decisions and can be helpful for actors to decide for which movies they should do an audition. Now lets see if we can fit a model including all the emotions to get a more complete picture of how emotions influence age and gender of involved actors."
   ]
  },
  {
   "cell_type": "markdown",
   "metadata": {},
   "source": [
    "#### Complete model for average age"
   ]
  },
  {
   "cell_type": "code",
   "execution_count": 104,
   "metadata": {},
   "outputs": [
    {
     "data": {
      "text/plain": [
       "['disgust', 'fear', 'anger', 'neutral', 'sadness', 'surprise', 'joy']"
      ]
     },
     "execution_count": 104,
     "metadata": {},
     "output_type": "execute_result"
    }
   ],
   "source": [
    "emotions"
   ]
  },
  {
   "cell_type": "code",
   "execution_count": 105,
   "metadata": {},
   "outputs": [
    {
     "name": "stdout",
     "output_type": "stream",
     "text": [
      "                            OLS Regression Results                            \n",
      "==============================================================================\n",
      "Dep. Variable:                 AgeAvg   R-squared:                       0.003\n",
      "Model:                            OLS   Adj. R-squared:                  0.003\n",
      "Method:                 Least Squares   F-statistic:                     13.16\n",
      "Date:                Sun, 15 Dec 2024   Prob (F-statistic):           4.80e-17\n",
      "Time:                        18:11:14   Log-Likelihood:            -1.0081e+05\n",
      "No. Observations:               30175   AIC:                         2.016e+05\n",
      "Df Residuals:                   30167   BIC:                         2.017e+05\n",
      "Df Model:                           7                                         \n",
      "Covariance Type:            nonrobust                                         \n",
      "==============================================================================\n",
      "                 coef    std err          t      P>|t|      [0.025      0.975]\n",
      "------------------------------------------------------------------------------\n",
      "Intercept     37.8041      0.039    960.683      0.000      37.727      37.881\n",
      "disgust     1.162e+05   1.64e+05      0.709      0.478   -2.05e+05    4.37e+05\n",
      "fear        1.288e+05   1.82e+05      0.709      0.478   -2.27e+05    4.85e+05\n",
      "anger       1.269e+05   1.79e+05      0.709      0.478   -2.24e+05    4.78e+05\n",
      "neutral     1.188e+05   1.68e+05      0.709      0.478    -2.1e+05    4.47e+05\n",
      "sadness     1.291e+05   1.82e+05      0.709      0.478   -2.28e+05    4.86e+05\n",
      "surprise    6.535e+04   9.22e+04      0.709      0.478   -1.15e+05    2.46e+05\n",
      "joy         6.592e+04    9.3e+04      0.709      0.478   -1.16e+05    2.48e+05\n",
      "==============================================================================\n",
      "Omnibus:                     2928.855   Durbin-Watson:                   2.006\n",
      "Prob(Omnibus):                  0.000   Jarque-Bera (JB):            16068.641\n",
      "Skew:                           0.309   Prob(JB):                         0.00\n",
      "Kurtosis:                       6.521   Cond. No.                     1.30e+07\n",
      "==============================================================================\n",
      "\n",
      "Notes:\n",
      "[1] Standard Errors assume that the covariance matrix of the errors is correctly specified.\n",
      "[2] The condition number is large, 1.3e+07. This might indicate that there are\n",
      "strong multicollinearity or other numerical problems.\n"
     ]
    }
   ],
   "source": [
    "age_mod = smf.ols(formula='AgeAvg ~ disgust + fear + anger + neutral + sadness + surprise + joy', data=character_df)\n",
    "age_res = age_mod.fit()\n",
    "print(age_res.summary())"
   ]
  },
  {
   "cell_type": "code",
   "execution_count": 106,
   "metadata": {},
   "outputs": [
    {
     "name": "stdout",
     "output_type": "stream",
     "text": [
      "                            OLS Regression Results                            \n",
      "==============================================================================\n",
      "Dep. Variable:              GenderAvg   R-squared:                       0.018\n",
      "Model:                            OLS   Adj. R-squared:                  0.017\n",
      "Method:                 Least Squares   F-statistic:                     76.85\n",
      "Date:                Sun, 15 Dec 2024   Prob (F-statistic):          5.59e-111\n",
      "Time:                        18:11:24   Log-Likelihood:                 3147.5\n",
      "No. Observations:               30175   AIC:                            -6279.\n",
      "Df Residuals:                   30167   BIC:                            -6212.\n",
      "Df Model:                           7                                         \n",
      "Covariance Type:            nonrobust                                         \n",
      "==============================================================================\n",
      "                 coef    std err          t      P>|t|      [0.025      0.975]\n",
      "------------------------------------------------------------------------------\n",
      "Intercept      0.3384      0.001    269.575      0.000       0.336       0.341\n",
      "disgust     -315.3120   5226.430     -0.060      0.952   -1.06e+04    9928.713\n",
      "fear        -349.6719   5795.902     -0.060      0.952   -1.17e+04     1.1e+04\n",
      "anger       -344.4616   5709.310     -0.060      0.952   -1.15e+04    1.08e+04\n",
      "neutral     -322.3531   5342.976     -0.060      0.952   -1.08e+04    1.02e+04\n",
      "sadness     -350.4199   5808.595     -0.060      0.952   -1.17e+04     1.1e+04\n",
      "surprise    -177.3717   2940.083     -0.060      0.952   -5940.060    5585.317\n",
      "joy         -178.9193   2965.819     -0.060      0.952   -5992.051    5634.212\n",
      "==============================================================================\n",
      "Omnibus:                     2608.321   Durbin-Watson:                   1.994\n",
      "Prob(Omnibus):                  0.000   Jarque-Bera (JB):             3735.579\n",
      "Skew:                           0.698   Prob(JB):                         0.00\n",
      "Kurtosis:                       4.011   Cond. No.                     1.30e+07\n",
      "==============================================================================\n",
      "\n",
      "Notes:\n",
      "[1] Standard Errors assume that the covariance matrix of the errors is correctly specified.\n",
      "[2] The condition number is large, 1.3e+07. This might indicate that there are\n",
      "strong multicollinearity or other numerical problems.\n"
     ]
    }
   ],
   "source": [
    "gender_mod = smf.ols(formula='GenderAvg ~ disgust + fear + anger + neutral + sadness + surprise + joy', data=character_df)\n",
    "gender_res = gender_mod.fit()\n",
    "print(gender_res.summary())"
   ]
  },
  {
   "cell_type": "markdown",
   "metadata": {},
   "source": [
    "It seems that when combined no emotion is a significant predictor, likely because of multicolinarity. So lets check that"
   ]
  },
  {
   "cell_type": "code",
   "execution_count": 107,
   "metadata": {},
   "outputs": [
    {
     "name": "stdout",
     "output_type": "stream",
     "text": [
      "   Variable           VIF\n",
      "0   disgust  1.735491e+13\n",
      "1      fear  2.134407e+13\n",
      "2     anger  2.070621e+13\n",
      "3   neutral  1.812314e+13\n",
      "4   sadness  2.139477e+13\n",
      "5  surprise  5.485505e+12\n",
      "6       joy  5.584128e+12\n"
     ]
    }
   ],
   "source": [
    "from statsmodels.stats.outliers_influence import variance_inflation_factor\n",
    "\n",
    "# Calculate VIF for each predictor\n",
    "emotion_df = character_df[['disgust', 'fear', 'anger', 'neutral', 'sadness', 'surprise', 'joy']]\n",
    "vif_data = pd.DataFrame()\n",
    "vif_data[\"Variable\"] = emotion_df.columns\n",
    "vif_data[\"VIF\"] = [variance_inflation_factor(emotion_df.values, i) for i in range(emotion_df.shape[1])]\n",
    "\n",
    "print(vif_data)"
   ]
  },
  {
   "cell_type": "code",
   "execution_count": 108,
   "metadata": {},
   "outputs": [
    {
     "name": "stdout",
     "output_type": "stream",
     "text": [
      "           disgust      fear     anger   neutral   sadness  surprise       joy\n",
      "disgust   1.000000 -0.224354 -0.055964 -0.211494 -0.242464 -0.185363 -0.176413\n",
      "fear     -0.224354  1.000000 -0.206568 -0.268345 -0.234403 -0.056546 -0.162655\n",
      "anger    -0.055964 -0.206568  1.000000 -0.291715 -0.273985 -0.157576 -0.204393\n",
      "neutral  -0.211494 -0.268345 -0.291715  1.000000 -0.210060 -0.032004  0.100285\n",
      "sadness  -0.242464 -0.234403 -0.273985 -0.210060  1.000000 -0.092891 -0.075215\n",
      "surprise -0.185363 -0.056546 -0.157576 -0.032004 -0.092891  1.000000 -0.011244\n",
      "joy      -0.176413 -0.162655 -0.204393  0.100285 -0.075215 -0.011244  1.000000\n"
     ]
    }
   ],
   "source": [
    "correlation_matrix = character_df[['disgust', 'fear', 'anger', 'neutral', 'sadness', 'surprise', 'joy']].corr()\n",
    "print(correlation_matrix)"
   ]
  },
  {
   "cell_type": "markdown",
   "metadata": {},
   "source": [
    "Event though the pairwise correlations between the emotions are not too high, the very high VIF values indicate that there is some kind of multicoliniarity between them. We try to overcome this by using regularization"
   ]
  },
  {
   "cell_type": "code",
   "execution_count": null,
   "metadata": {},
   "outputs": [
    {
     "data": {
      "text/html": [
       "<div>\n",
       "<style scoped>\n",
       "    .dataframe tbody tr th:only-of-type {\n",
       "        vertical-align: middle;\n",
       "    }\n",
       "\n",
       "    .dataframe tbody tr th {\n",
       "        vertical-align: top;\n",
       "    }\n",
       "\n",
       "    .dataframe thead th {\n",
       "        text-align: right;\n",
       "    }\n",
       "</style>\n",
       "<table border=\"1\" class=\"dataframe\">\n",
       "  <thead>\n",
       "    <tr style=\"text-align: right;\">\n",
       "      <th></th>\n",
       "      <th>Emotion</th>\n",
       "      <th>Ridge Coefficient</th>\n",
       "    </tr>\n",
       "  </thead>\n",
       "  <tbody>\n",
       "    <tr>\n",
       "      <th>0</th>\n",
       "      <td>disgust</td>\n",
       "      <td>-0.099118</td>\n",
       "    </tr>\n",
       "    <tr>\n",
       "      <th>1</th>\n",
       "      <td>fear</td>\n",
       "      <td>0.180371</td>\n",
       "    </tr>\n",
       "    <tr>\n",
       "      <th>2</th>\n",
       "      <td>anger</td>\n",
       "      <td>0.002660</td>\n",
       "    </tr>\n",
       "    <tr>\n",
       "      <th>3</th>\n",
       "      <td>neutral</td>\n",
       "      <td>0.175966</td>\n",
       "    </tr>\n",
       "    <tr>\n",
       "      <th>4</th>\n",
       "      <td>sadness</td>\n",
       "      <td>-0.175872</td>\n",
       "    </tr>\n",
       "    <tr>\n",
       "      <th>5</th>\n",
       "      <td>surprise</td>\n",
       "      <td>0.005256</td>\n",
       "    </tr>\n",
       "    <tr>\n",
       "      <th>6</th>\n",
       "      <td>joy</td>\n",
       "      <td>-0.160355</td>\n",
       "    </tr>\n",
       "  </tbody>\n",
       "</table>\n",
       "</div>"
      ],
      "text/plain": [
       "    Emotion  Ridge Coefficient\n",
       "0   disgust          -0.099118\n",
       "1      fear           0.180371\n",
       "2     anger           0.002660\n",
       "3   neutral           0.175966\n",
       "4   sadness          -0.175872\n",
       "5  surprise           0.005256\n",
       "6       joy          -0.160355"
      ]
     },
     "execution_count": 111,
     "metadata": {},
     "output_type": "execute_result"
    }
   ],
   "source": [
    "# Define predictors and target\n",
    "X = character_df[['disgust', 'fear', 'anger', 'neutral', 'sadness', 'surprise', 'joy']]\n",
    "actor_y = character_df['AgeAvg']\n",
    "\n",
    "# Ridge Regression\n",
    "ridge = Ridge(alpha=1.0)\n",
    "ridge.fit(X, actor_y)\n",
    "\n",
    "# Create a dataframe for better visualization\n",
    "actor_coefficients_df = pd.DataFrame({\n",
    "    'Emotion': ['disgust', 'fear', 'anger', 'neutral', 'sadness', 'surprise', 'joy'],\n",
    "    'Ridge Coefficient': ridge.coef_\n",
    "})\n",
    "\n",
    "actor_coefficients_df"
   ]
  },
  {
   "cell_type": "code",
   "execution_count": null,
   "metadata": {},
   "outputs": [
    {
     "data": {
      "image/png": "[encoded data removed]",
      "text/plain": [
       "<Figure size 1000x600 with 1 Axes>"
      ]
     },
     "metadata": {},
     "output_type": "display_data"
    }
   ],
   "source": [
    "# Plot the results\n",
    "actor_coefficients_df.set_index('Emotion').plot(kind='bar', figsize=(10, 6))\n",
    "plt.axhline(0, color='black', linewidth=0.8, linestyle='--')\n",
    "plt.ylabel('Coefficient Value')\n",
    "plt.title('Ridge Coefficients for Emotions on Average Actor Age')\n",
    "plt.show()"
   ]
  },
  {
   "cell_type": "code",
   "execution_count": 115,
   "metadata": {},
   "outputs": [
    {
     "data": {
      "text/html": [
       "<div>\n",
       "<style scoped>\n",
       "    .dataframe tbody tr th:only-of-type {\n",
       "        vertical-align: middle;\n",
       "    }\n",
       "\n",
       "    .dataframe tbody tr th {\n",
       "        vertical-align: top;\n",
       "    }\n",
       "\n",
       "    .dataframe thead th {\n",
       "        text-align: right;\n",
       "    }\n",
       "</style>\n",
       "<table border=\"1\" class=\"dataframe\">\n",
       "  <thead>\n",
       "    <tr style=\"text-align: right;\">\n",
       "      <th></th>\n",
       "      <th>Emotion</th>\n",
       "      <th>Ridge Coefficient</th>\n",
       "    </tr>\n",
       "  </thead>\n",
       "  <tbody>\n",
       "    <tr>\n",
       "      <th>0</th>\n",
       "      <td>disgust</td>\n",
       "      <td>0.001484</td>\n",
       "    </tr>\n",
       "    <tr>\n",
       "      <th>1</th>\n",
       "      <td>fear</td>\n",
       "      <td>-0.001946</td>\n",
       "    </tr>\n",
       "    <tr>\n",
       "      <th>2</th>\n",
       "      <td>anger</td>\n",
       "      <td>-0.015681</td>\n",
       "    </tr>\n",
       "    <tr>\n",
       "      <th>3</th>\n",
       "      <td>neutral</td>\n",
       "      <td>-0.008379</td>\n",
       "    </tr>\n",
       "    <tr>\n",
       "      <th>4</th>\n",
       "      <td>sadness</td>\n",
       "      <td>0.015889</td>\n",
       "    </tr>\n",
       "    <tr>\n",
       "      <th>5</th>\n",
       "      <td>surprise</td>\n",
       "      <td>0.005187</td>\n",
       "    </tr>\n",
       "    <tr>\n",
       "      <th>6</th>\n",
       "      <td>joy</td>\n",
       "      <td>0.010205</td>\n",
       "    </tr>\n",
       "  </tbody>\n",
       "</table>\n",
       "</div>"
      ],
      "text/plain": [
       "    Emotion  Ridge Coefficient\n",
       "0   disgust           0.001484\n",
       "1      fear          -0.001946\n",
       "2     anger          -0.015681\n",
       "3   neutral          -0.008379\n",
       "4   sadness           0.015889\n",
       "5  surprise           0.005187\n",
       "6       joy           0.010205"
      ]
     },
     "execution_count": 115,
     "metadata": {},
     "output_type": "execute_result"
    }
   ],
   "source": [
    "# Define predictors and target\n",
    "X = character_df[['disgust', 'fear', 'anger', 'neutral', 'sadness', 'surprise', 'joy']]\n",
    "gender_y = character_df['GenderAvg']\n",
    "\n",
    "# Ridge Regression\n",
    "ridge = Ridge(alpha=1.0)\n",
    "ridge.fit(X, gender_y)\n",
    "\n",
    "# Create a dataframe for better visualization\n",
    "gender_coefficients_df = pd.DataFrame({\n",
    "    'Emotion': ['disgust', 'fear', 'anger', 'neutral', 'sadness', 'surprise', 'joy'],\n",
    "    'Ridge Coefficient': ridge.coef_\n",
    "})\n",
    "\n",
    "gender_coefficients_df"
   ]
  },
  {
   "cell_type": "code",
   "execution_count": 116,
   "metadata": {},
   "outputs": [
    {
     "data": {
      "image/png": "[encoded data removed]",
      "text/plain": [
       "<Figure size 1000x600 with 1 Axes>"
      ]
     },
     "metadata": {},
     "output_type": "display_data"
    }
   ],
   "source": [
    "# Plot the results\n",
    "gender_coefficients_df.set_index('Emotion').plot(kind='bar', figsize=(10, 6))\n",
    "plt.axhline(0, color='black', linewidth=0.8, linestyle='--')\n",
    "plt.ylabel('Coefficient Value')\n",
    "plt.title('Ridge Coefficients for Emotions on Average Actor Gender (0=male, 1=female)')\n",
    "plt.show()"
   ]
  },
  {
   "cell_type": "markdown",
   "metadata": {},
   "source": [
    "With ridge regression we get better results, but we can't be sure that the emotions are significant predictors. Therefore we will use bootstraping to obtain confidence intervalls for the coefficients."
   ]
  },
  {
   "cell_type": "code",
   "execution_count": null,
   "metadata": {},
   "outputs": [
    {
     "name": "stdout",
     "output_type": "stream",
     "text": [
      "Ridge coefficient confidence intervals for actor age: [[-0.16415506  0.11608728 -0.05719859  0.09539849 -0.23818762 -0.07298678\n",
      "  -0.24187866]\n",
      " [-0.02721493  0.24021296  0.06144632  0.25329069 -0.11159101  0.08192203\n",
      "  -0.07946062]]\n"
     ]
    },
    {
     "data": {
      "text/html": [
       "<div>\n",
       "<style scoped>\n",
       "    .dataframe tbody tr th:only-of-type {\n",
       "        vertical-align: middle;\n",
       "    }\n",
       "\n",
       "    .dataframe tbody tr th {\n",
       "        vertical-align: top;\n",
       "    }\n",
       "\n",
       "    .dataframe thead th {\n",
       "        text-align: right;\n",
       "    }\n",
       "</style>\n",
       "<table border=\"1\" class=\"dataframe\">\n",
       "  <thead>\n",
       "    <tr style=\"text-align: right;\">\n",
       "      <th></th>\n",
       "      <th>Emotion</th>\n",
       "      <th>Lower bound</th>\n",
       "      <th>Upper bound</th>\n",
       "    </tr>\n",
       "  </thead>\n",
       "  <tbody>\n",
       "    <tr>\n",
       "      <th>0</th>\n",
       "      <td>disgust</td>\n",
       "      <td>-0.164155</td>\n",
       "      <td>-0.027215</td>\n",
       "    </tr>\n",
       "    <tr>\n",
       "      <th>1</th>\n",
       "      <td>fear</td>\n",
       "      <td>0.116087</td>\n",
       "      <td>0.240213</td>\n",
       "    </tr>\n",
       "    <tr>\n",
       "      <th>2</th>\n",
       "      <td>anger</td>\n",
       "      <td>-0.057199</td>\n",
       "      <td>0.061446</td>\n",
       "    </tr>\n",
       "    <tr>\n",
       "      <th>3</th>\n",
       "      <td>neutral</td>\n",
       "      <td>0.095398</td>\n",
       "      <td>0.253291</td>\n",
       "    </tr>\n",
       "    <tr>\n",
       "      <th>4</th>\n",
       "      <td>sadness</td>\n",
       "      <td>-0.238188</td>\n",
       "      <td>-0.111591</td>\n",
       "    </tr>\n",
       "    <tr>\n",
       "      <th>5</th>\n",
       "      <td>surprise</td>\n",
       "      <td>-0.072987</td>\n",
       "      <td>0.081922</td>\n",
       "    </tr>\n",
       "    <tr>\n",
       "      <th>6</th>\n",
       "      <td>joy</td>\n",
       "      <td>-0.241879</td>\n",
       "      <td>-0.079461</td>\n",
       "    </tr>\n",
       "  </tbody>\n",
       "</table>\n",
       "</div>"
      ],
      "text/plain": [
       "    Emotion  Lower bound  Upper bound\n",
       "0   disgust    -0.164155    -0.027215\n",
       "1      fear     0.116087     0.240213\n",
       "2     anger    -0.057199     0.061446\n",
       "3   neutral     0.095398     0.253291\n",
       "4   sadness    -0.238188    -0.111591\n",
       "5  surprise    -0.072987     0.081922\n",
       "6       joy    -0.241879    -0.079461"
      ]
     },
     "execution_count": 122,
     "metadata": {},
     "output_type": "execute_result"
    }
   ],
   "source": [
    "from sklearn.utils import resample\n",
    "\n",
    "# Number of bootstrap samples\n",
    "n_bootstraps = 1000\n",
    "ridge_coefs = []\n",
    "\n",
    "# Bootstrap resampling\n",
    "for _ in range(n_bootstraps):\n",
    "    X_resample, y_resample = resample(X, y)\n",
    "    \n",
    "    # Ridge\n",
    "    ridge.fit(X_resample, y_resample)\n",
    "    ridge_coefs.append(ridge.coef_)\n",
    "\n",
    "# Convert results to arrays\n",
    "ridge_coefs = np.array(ridge_coefs)\n",
    "\n",
    "# Calculate confidence intervals (e.g., 2.5% and 97.5%)\n",
    "ridge_ci = np.percentile(ridge_coefs, [2.5, 97.5], axis=0)\n",
    "\n",
    "print(\"Ridge coefficient confidence intervals for actor age:\", ridge_ci)\n",
    "\n",
    "age_coefficients_CI_df = pd.DataFrame({\n",
    "    'Emotion': ['disgust', 'fear', 'anger', 'neutral', 'sadness', 'surprise', 'joy'],\n",
    "    'Lower bound': ridge_ci[0],\n",
    "    'Upper bound': ridge_ci[1]\n",
    "})\n",
    "\n",
    "age_coefficients_CI_df"
   ]
  },
  {
   "cell_type": "markdown",
   "metadata": {},
   "source": [
    "We can say that a coefficient is significant if the 95% confidence interval does not include 0. So we can see that all emotions except anger and surprise are significant."
   ]
  },
  {
   "cell_type": "code",
   "execution_count": 123,
   "metadata": {},
   "outputs": [
    {
     "name": "stdout",
     "output_type": "stream",
     "text": [
      "Ridge coefficient confidence intervals for actor gender: [[-0.00078063 -0.00402874 -0.01771486 -0.01057496  0.01400161  0.00283955\n",
      "   0.00741963]\n",
      " [ 0.00358169  0.00012747 -0.01367544 -0.00613328  0.01799326  0.00755117\n",
      "   0.01299083]]\n"
     ]
    },
    {
     "data": {
      "text/html": [
       "<div>\n",
       "<style scoped>\n",
       "    .dataframe tbody tr th:only-of-type {\n",
       "        vertical-align: middle;\n",
       "    }\n",
       "\n",
       "    .dataframe tbody tr th {\n",
       "        vertical-align: top;\n",
       "    }\n",
       "\n",
       "    .dataframe thead th {\n",
       "        text-align: right;\n",
       "    }\n",
       "</style>\n",
       "<table border=\"1\" class=\"dataframe\">\n",
       "  <thead>\n",
       "    <tr style=\"text-align: right;\">\n",
       "      <th></th>\n",
       "      <th>Emotion</th>\n",
       "      <th>Lower bound</th>\n",
       "      <th>Upper bound</th>\n",
       "    </tr>\n",
       "  </thead>\n",
       "  <tbody>\n",
       "    <tr>\n",
       "      <th>0</th>\n",
       "      <td>disgust</td>\n",
       "      <td>-0.000781</td>\n",
       "      <td>0.003582</td>\n",
       "    </tr>\n",
       "    <tr>\n",
       "      <th>1</th>\n",
       "      <td>fear</td>\n",
       "      <td>-0.004029</td>\n",
       "      <td>0.000127</td>\n",
       "    </tr>\n",
       "    <tr>\n",
       "      <th>2</th>\n",
       "      <td>anger</td>\n",
       "      <td>-0.017715</td>\n",
       "      <td>-0.013675</td>\n",
       "    </tr>\n",
       "    <tr>\n",
       "      <th>3</th>\n",
       "      <td>neutral</td>\n",
       "      <td>-0.010575</td>\n",
       "      <td>-0.006133</td>\n",
       "    </tr>\n",
       "    <tr>\n",
       "      <th>4</th>\n",
       "      <td>sadness</td>\n",
       "      <td>0.014002</td>\n",
       "      <td>0.017993</td>\n",
       "    </tr>\n",
       "    <tr>\n",
       "      <th>5</th>\n",
       "      <td>surprise</td>\n",
       "      <td>0.002840</td>\n",
       "      <td>0.007551</td>\n",
       "    </tr>\n",
       "    <tr>\n",
       "      <th>6</th>\n",
       "      <td>joy</td>\n",
       "      <td>0.007420</td>\n",
       "      <td>0.012991</td>\n",
       "    </tr>\n",
       "  </tbody>\n",
       "</table>\n",
       "</div>"
      ],
      "text/plain": [
       "    Emotion  Lower bound  Upper bound\n",
       "0   disgust    -0.000781     0.003582\n",
       "1      fear    -0.004029     0.000127\n",
       "2     anger    -0.017715    -0.013675\n",
       "3   neutral    -0.010575    -0.006133\n",
       "4   sadness     0.014002     0.017993\n",
       "5  surprise     0.002840     0.007551\n",
       "6       joy     0.007420     0.012991"
      ]
     },
     "execution_count": 123,
     "metadata": {},
     "output_type": "execute_result"
    }
   ],
   "source": [
    "# Number of bootstrap samples\n",
    "n_bootstraps = 1000\n",
    "ridge_coefs = []\n",
    "\n",
    "# Bootstrap resampling\n",
    "for _ in range(n_bootstraps):\n",
    "    X_resample, y_resample = resample(X, gender_y)\n",
    "    \n",
    "    # Ridge\n",
    "    ridge.fit(X_resample, y_resample)\n",
    "    ridge_coefs.append(ridge.coef_)\n",
    "\n",
    "# Convert results to arrays\n",
    "ridge_coefs = np.array(ridge_coefs)\n",
    "\n",
    "# Calculate confidence intervals (e.g., 2.5% and 97.5%)\n",
    "ridge_ci = np.percentile(ridge_coefs, [2.5, 97.5], axis=0)\n",
    "\n",
    "print(\"Ridge coefficient confidence intervals for actor gender:\", ridge_ci)\n",
    "\n",
    "gender_coefficients_CI_df = pd.DataFrame({\n",
    "    'Emotion': ['disgust', 'fear', 'anger', 'neutral', 'sadness', 'surprise', 'joy'],\n",
    "    'Lower bound': ridge_ci[0],\n",
    "    'Upper bound': ridge_ci[1]\n",
    "})\n",
    "\n",
    "gender_coefficients_CI_df"
   ]
  },
  {
   "cell_type": "markdown",
   "metadata": {},
   "source": [
    "Again, a coefficient is significant if its confidence interval does not includes 0. So we can see that for the gender of actors all emotions except disgust and fear are significant predictors."
   ]
  },
  {
   "cell_type": "markdown",
   "metadata": {},
   "source": [
    "With ridge regression we get better results. We can see that disgust, sadness and joy have a negative coefficient for the average age of involved actors, which means that in movies where these emotions are dominant, the involved actors tend to be younger. Anger and surprise seem to have not a big impact and fear and neutral have a positive impact, meaning that in movies where these emotions are dominant involved actors tend to be older."
   ]
  },
  {
   "cell_type": "code",
   "execution_count": null,
   "metadata": {},
   "outputs": [],
   "source": []
  }
 ],
 "metadata": {
  "kernelspec": {
   "display_name": "ada_project",
   "language": "python",
   "name": "python3"
  },
  "language_info": {
   "codemirror_mode": {
    "name": "ipython",
    "version": 3
   },
   "file_extension": ".py",
   "mimetype": "text/x-python",
   "name": "python",
   "nbconvert_exporter": "python",
   "pygments_lexer": "ipython3",
   "version": "3.11.10"
  }
 },
 "nbformat": 4,
 "nbformat_minor": 2
}
