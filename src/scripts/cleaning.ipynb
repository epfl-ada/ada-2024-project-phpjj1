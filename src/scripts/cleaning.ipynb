{
 "cells": [
  {
   "cell_type": "code",
   "execution_count": 147,
   "metadata": {},
   "outputs": [
    {
     "data": {
      "text/html": [
       "<div>\n",
       "<style scoped>\n",
       "    .dataframe tbody tr th:only-of-type {\n",
       "        vertical-align: middle;\n",
       "    }\n",
       "\n",
       "    .dataframe tbody tr th {\n",
       "        vertical-align: top;\n",
       "    }\n",
       "\n",
       "    .dataframe thead th {\n",
       "        text-align: right;\n",
       "    }\n",
       "</style>\n",
       "<table border=\"1\" class=\"dataframe\">\n",
       "  <thead>\n",
       "    <tr style=\"text-align: right;\">\n",
       "      <th></th>\n",
       "      <th>WikiID</th>\n",
       "      <th>FreebaseID</th>\n",
       "      <th>Name</th>\n",
       "      <th>ReleaseDate</th>\n",
       "      <th>Revenue</th>\n",
       "      <th>Runtime</th>\n",
       "      <th>Languages_tuple</th>\n",
       "      <th>Countries_tuples</th>\n",
       "      <th>Genres_tuples</th>\n",
       "    </tr>\n",
       "  </thead>\n",
       "  <tbody>\n",
       "    <tr>\n",
       "      <th>0</th>\n",
       "      <td>975900</td>\n",
       "      <td>/m/03vyhn</td>\n",
       "      <td>Ghosts of Mars</td>\n",
       "      <td>2001-08-24</td>\n",
       "      <td>14010832.0</td>\n",
       "      <td>98.0</td>\n",
       "      <td>{\"/m/02h40lc\": \"English Language\"}</td>\n",
       "      <td>{\"/m/09c7w0\": \"United States of America\"}</td>\n",
       "      <td>{\"/m/01jfsb\": \"Thriller\", \"/m/06n90\": \"Science...</td>\n",
       "    </tr>\n",
       "    <tr>\n",
       "      <th>1</th>\n",
       "      <td>3196793</td>\n",
       "      <td>/m/08yl5d</td>\n",
       "      <td>Getting Away with Murder: The JonBenét Ramsey ...</td>\n",
       "      <td>2000-02-16</td>\n",
       "      <td>NaN</td>\n",
       "      <td>95.0</td>\n",
       "      <td>{\"/m/02h40lc\": \"English Language\"}</td>\n",
       "      <td>{\"/m/09c7w0\": \"United States of America\"}</td>\n",
       "      <td>{\"/m/02n4kr\": \"Mystery\", \"/m/03bxz7\": \"Biograp...</td>\n",
       "    </tr>\n",
       "    <tr>\n",
       "      <th>2</th>\n",
       "      <td>28463795</td>\n",
       "      <td>/m/0crgdbh</td>\n",
       "      <td>Brun bitter</td>\n",
       "      <td>1988</td>\n",
       "      <td>NaN</td>\n",
       "      <td>83.0</td>\n",
       "      <td>{\"/m/05f_3\": \"Norwegian Language\"}</td>\n",
       "      <td>{\"/m/05b4w\": \"Norway\"}</td>\n",
       "      <td>{\"/m/0lsxr\": \"Crime Fiction\", \"/m/07s9rl0\": \"D...</td>\n",
       "    </tr>\n",
       "    <tr>\n",
       "      <th>3</th>\n",
       "      <td>9363483</td>\n",
       "      <td>/m/0285_cd</td>\n",
       "      <td>White Of The Eye</td>\n",
       "      <td>1987</td>\n",
       "      <td>NaN</td>\n",
       "      <td>110.0</td>\n",
       "      <td>{\"/m/02h40lc\": \"English Language\"}</td>\n",
       "      <td>{\"/m/07ssc\": \"United Kingdom\"}</td>\n",
       "      <td>{\"/m/01jfsb\": \"Thriller\", \"/m/0glj9q\": \"Erotic...</td>\n",
       "    </tr>\n",
       "    <tr>\n",
       "      <th>4</th>\n",
       "      <td>261236</td>\n",
       "      <td>/m/01mrr1</td>\n",
       "      <td>A Woman in Flames</td>\n",
       "      <td>1983</td>\n",
       "      <td>NaN</td>\n",
       "      <td>106.0</td>\n",
       "      <td>{\"/m/04306rv\": \"German Language\"}</td>\n",
       "      <td>{\"/m/0345h\": \"Germany\"}</td>\n",
       "      <td>{\"/m/07s9rl0\": \"Drama\"}</td>\n",
       "    </tr>\n",
       "  </tbody>\n",
       "</table>\n",
       "</div>"
      ],
      "text/plain": [
       "     WikiID  FreebaseID                                               Name  \\\n",
       "0    975900   /m/03vyhn                                     Ghosts of Mars   \n",
       "1   3196793   /m/08yl5d  Getting Away with Murder: The JonBenét Ramsey ...   \n",
       "2  28463795  /m/0crgdbh                                        Brun bitter   \n",
       "3   9363483  /m/0285_cd                                   White Of The Eye   \n",
       "4    261236   /m/01mrr1                                  A Woman in Flames   \n",
       "\n",
       "  ReleaseDate     Revenue  Runtime                     Languages_tuple  \\\n",
       "0  2001-08-24  14010832.0     98.0  {\"/m/02h40lc\": \"English Language\"}   \n",
       "1  2000-02-16         NaN     95.0  {\"/m/02h40lc\": \"English Language\"}   \n",
       "2        1988         NaN     83.0  {\"/m/05f_3\": \"Norwegian Language\"}   \n",
       "3        1987         NaN    110.0  {\"/m/02h40lc\": \"English Language\"}   \n",
       "4        1983         NaN    106.0   {\"/m/04306rv\": \"German Language\"}   \n",
       "\n",
       "                            Countries_tuples  \\\n",
       "0  {\"/m/09c7w0\": \"United States of America\"}   \n",
       "1  {\"/m/09c7w0\": \"United States of America\"}   \n",
       "2                     {\"/m/05b4w\": \"Norway\"}   \n",
       "3             {\"/m/07ssc\": \"United Kingdom\"}   \n",
       "4                    {\"/m/0345h\": \"Germany\"}   \n",
       "\n",
       "                                       Genres_tuples  \n",
       "0  {\"/m/01jfsb\": \"Thriller\", \"/m/06n90\": \"Science...  \n",
       "1  {\"/m/02n4kr\": \"Mystery\", \"/m/03bxz7\": \"Biograp...  \n",
       "2  {\"/m/0lsxr\": \"Crime Fiction\", \"/m/07s9rl0\": \"D...  \n",
       "3  {\"/m/01jfsb\": \"Thriller\", \"/m/0glj9q\": \"Erotic...  \n",
       "4                            {\"/m/07s9rl0\": \"Drama\"}  "
      ]
     },
     "execution_count": 147,
     "metadata": {},
     "output_type": "execute_result"
    }
   ],
   "source": [
    "import numpy as np \n",
    "import matplotlib.pyplot as plt\n",
    "import pandas as pd\n",
    "\n",
    "# Importing the movie dataset\n",
    "\n",
    "movie = pd.read_csv('../../data/movie.metadata.tsv', sep= '\\t', header=None)\n",
    "\n",
    "movie.columns = ['WikiID', 'FreebaseID', 'Name', 'ReleaseDate',\n",
    "                     'Revenue', 'Runtime', 'Languages_tuple', 'Countries_tuples', 'Genres_tuples']\n",
    "\n",
    "movie.head()\n"
   ]
  },
  {
   "cell_type": "code",
   "execution_count": 148,
   "metadata": {},
   "outputs": [
    {
     "name": "stdout",
     "output_type": "stream",
     "text": [
      "(81741, 9)\n",
      "WikiID                int64\n",
      "FreebaseID           object\n",
      "Name                 object\n",
      "ReleaseDate          object\n",
      "Revenue             float64\n",
      "Runtime             float64\n",
      "Languages_tuple      object\n",
      "Countries_tuples     object\n",
      "Genres_tuples        object\n",
      "dtype: object\n"
     ]
    }
   ],
   "source": [
    "print(movie.shape)\n",
    "print(movie.dtypes)"
   ]
  },
  {
   "cell_type": "code",
   "execution_count": 149,
   "metadata": {},
   "outputs": [
    {
     "data": {
      "text/plain": [
       "'Ghosts of Mars'"
      ]
     },
     "execution_count": 149,
     "metadata": {},
     "output_type": "execute_result"
    }
   ],
   "source": [
    "movie['Name'].iloc[0]"
   ]
  },
  {
   "cell_type": "code",
   "execution_count": 150,
   "metadata": {},
   "outputs": [
    {
     "name": "stdout",
     "output_type": "stream",
     "text": [
      "WikiID         0.000000\n",
      "FreebaseID     0.000000\n",
      "Name           0.000000\n",
      "ReleaseDate    0.084437\n",
      "Revenue        0.897224\n",
      "Runtime        0.250180\n",
      "dtype: float64\n",
      "Languages_tuple     0.169633\n",
      "Countries_tuples    0.099754\n",
      "Genres_tuples       0.028064\n",
      "dtype: float64\n"
     ]
    }
   ],
   "source": [
    "#a lot of missing values \n",
    "\n",
    "print((pd.isna(movie.iloc[:,:6]).sum())/len(movie))\n",
    "print((movie.iloc[:, 6:] == '{}').sum()/len(movie))\n",
    "\n"
   ]
  },
  {
   "cell_type": "markdown",
   "metadata": {},
   "source": [
    " - We miss 90% of revenues, if we want to use we need to integrate them from another dataset.\n",
    " \n",
    "\n"
   ]
  },
  {
   "cell_type": "code",
   "execution_count": 151,
   "metadata": {},
   "outputs": [],
   "source": [
    "#turn the release date into a datetime object\n",
    "movie['ReleaseDate'] = pd.to_datetime(movie['ReleaseDate'], errors='coerce')\n"
   ]
  },
  {
   "cell_type": "code",
   "execution_count": 152,
   "metadata": {},
   "outputs": [],
   "source": [
    "#The tuple in the dataset are dictionary in string format.\n",
    "# Need a function to convert them to dictionary\n",
    "import ast\n",
    "\n",
    "def conv_to_dict(val): \n",
    "    try:\n",
    "        return ast.literal_eval(val) if pd.notna(val) else {}\n",
    "    except (ValueError, SyntaxError):\n",
    "        return {}\n",
    "    \n",
    "movie['Languages'] = movie['Languages_tuple'].apply(conv_to_dict)\n",
    "movie['Countries'] = movie['Countries_tuples'].apply(conv_to_dict)\n",
    "movie['Genres'] = movie['Genres_tuples'].apply(conv_to_dict)    \n"
   ]
  },
  {
   "cell_type": "code",
   "execution_count": 153,
   "metadata": {},
   "outputs": [
    {
     "data": {
      "text/plain": [
       "0                  [English Language]\n",
       "1                  [English Language]\n",
       "2                [Norwegian Language]\n",
       "3                  [English Language]\n",
       "4                   [German Language]\n",
       "5     [Silent film, English Language]\n",
       "6                  [English Language]\n",
       "7                  [English Language]\n",
       "8                  [Spanish Language]\n",
       "9                  [English Language]\n",
       "10                 [English Language]\n",
       "11                [Japanese Language]\n",
       "12                 [English Language]\n",
       "13                 [English Language]\n",
       "14                 [Turkish Language]\n",
       "15                 [English Language]\n",
       "16                                 []\n",
       "17                 [English Language]\n",
       "18                  [German Language]\n",
       "19                 [English Language]\n",
       "20                 [English Language]\n",
       "21                 [English Language]\n",
       "22                                 []\n",
       "23                  [German Language]\n",
       "24                 [Russian Language]\n",
       "Name: Languages, dtype: object"
      ]
     },
     "execution_count": 153,
     "metadata": {},
     "output_type": "execute_result"
    }
   ],
   "source": [
    "# Now we can work directly with the dictionaries inside the columns\n",
    "#Ex listing the languages for each movie\n",
    "movie['Languages'].apply(lambda x: list(x.values())).head(25)"
   ]
  },
  {
   "cell_type": "code",
   "execution_count": 154,
   "metadata": {},
   "outputs": [
    {
     "data": {
      "text/html": [
       "<div>\n",
       "<style scoped>\n",
       "    .dataframe tbody tr th:only-of-type {\n",
       "        vertical-align: middle;\n",
       "    }\n",
       "\n",
       "    .dataframe tbody tr th {\n",
       "        vertical-align: top;\n",
       "    }\n",
       "\n",
       "    .dataframe thead th {\n",
       "        text-align: right;\n",
       "    }\n",
       "</style>\n",
       "<table border=\"1\" class=\"dataframe\">\n",
       "  <thead>\n",
       "    <tr style=\"text-align: right;\">\n",
       "      <th></th>\n",
       "      <th>WikiID</th>\n",
       "      <th>Plot</th>\n",
       "    </tr>\n",
       "  </thead>\n",
       "  <tbody>\n",
       "    <tr>\n",
       "      <th>0</th>\n",
       "      <td>23890098</td>\n",
       "      <td>Shlykov, a hard-working taxi driver and Lyosha...</td>\n",
       "    </tr>\n",
       "    <tr>\n",
       "      <th>1</th>\n",
       "      <td>31186339</td>\n",
       "      <td>The nation of Panem consists of a wealthy Capi...</td>\n",
       "    </tr>\n",
       "    <tr>\n",
       "      <th>2</th>\n",
       "      <td>20663735</td>\n",
       "      <td>Poovalli Induchoodan  is sentenced for six yea...</td>\n",
       "    </tr>\n",
       "    <tr>\n",
       "      <th>3</th>\n",
       "      <td>2231378</td>\n",
       "      <td>The Lemon Drop Kid , a New York City swindler,...</td>\n",
       "    </tr>\n",
       "    <tr>\n",
       "      <th>4</th>\n",
       "      <td>595909</td>\n",
       "      <td>Seventh-day Adventist Church pastor Michael Ch...</td>\n",
       "    </tr>\n",
       "  </tbody>\n",
       "</table>\n",
       "</div>"
      ],
      "text/plain": [
       "     WikiID                                               Plot\n",
       "0  23890098  Shlykov, a hard-working taxi driver and Lyosha...\n",
       "1  31186339  The nation of Panem consists of a wealthy Capi...\n",
       "2  20663735  Poovalli Induchoodan  is sentenced for six yea...\n",
       "3   2231378  The Lemon Drop Kid , a New York City swindler,...\n",
       "4    595909  Seventh-day Adventist Church pastor Michael Ch..."
      ]
     },
     "execution_count": 154,
     "metadata": {},
     "output_type": "execute_result"
    }
   ],
   "source": [
    "#importing the movies plot dataset\n",
    "\n",
    "plots = pd.read_csv('../../data/plot_summaries.txt', sep='\\t', header=None)\n",
    "plots.columns = ['WikiID', 'Plot']\n",
    "\n",
    "plots.head()"
   ]
  },
  {
   "cell_type": "code",
   "execution_count": 155,
   "metadata": {},
   "outputs": [
    {
     "data": {
      "text/html": [
       "<div>\n",
       "<style scoped>\n",
       "    .dataframe tbody tr th:only-of-type {\n",
       "        vertical-align: middle;\n",
       "    }\n",
       "\n",
       "    .dataframe tbody tr th {\n",
       "        vertical-align: top;\n",
       "    }\n",
       "\n",
       "    .dataframe thead th {\n",
       "        text-align: right;\n",
       "    }\n",
       "</style>\n",
       "<table border=\"1\" class=\"dataframe\">\n",
       "  <thead>\n",
       "    <tr style=\"text-align: right;\">\n",
       "      <th></th>\n",
       "      <th>WikiMovieID</th>\n",
       "      <th>FreebaseMovieID</th>\n",
       "      <th>MovieReleaseDate</th>\n",
       "      <th>CharacterName</th>\n",
       "      <th>ActorBirthDate</th>\n",
       "      <th>ActorGender</th>\n",
       "      <th>ActorHeight</th>\n",
       "      <th>ActorEthnicity</th>\n",
       "      <th>ActorName</th>\n",
       "      <th>ActoreAge</th>\n",
       "      <th>CharacterActorMap</th>\n",
       "      <th>CharacterID</th>\n",
       "      <th>ActorID</th>\n",
       "    </tr>\n",
       "  </thead>\n",
       "  <tbody>\n",
       "    <tr>\n",
       "      <th>0</th>\n",
       "      <td>975900</td>\n",
       "      <td>/m/03vyhn</td>\n",
       "      <td>2001-08-24</td>\n",
       "      <td>Akooshay</td>\n",
       "      <td>1958-08-26</td>\n",
       "      <td>F</td>\n",
       "      <td>1.620</td>\n",
       "      <td>NaN</td>\n",
       "      <td>Wanda De Jesus</td>\n",
       "      <td>42.0</td>\n",
       "      <td>/m/0bgchxw</td>\n",
       "      <td>/m/0bgcj3x</td>\n",
       "      <td>/m/03wcfv7</td>\n",
       "    </tr>\n",
       "    <tr>\n",
       "      <th>1</th>\n",
       "      <td>975900</td>\n",
       "      <td>/m/03vyhn</td>\n",
       "      <td>2001-08-24</td>\n",
       "      <td>Lieutenant Melanie Ballard</td>\n",
       "      <td>1974-08-15</td>\n",
       "      <td>F</td>\n",
       "      <td>1.780</td>\n",
       "      <td>/m/044038p</td>\n",
       "      <td>Natasha Henstridge</td>\n",
       "      <td>27.0</td>\n",
       "      <td>/m/0jys3m</td>\n",
       "      <td>/m/0bgchn4</td>\n",
       "      <td>/m/0346l4</td>\n",
       "    </tr>\n",
       "    <tr>\n",
       "      <th>2</th>\n",
       "      <td>975900</td>\n",
       "      <td>/m/03vyhn</td>\n",
       "      <td>2001-08-24</td>\n",
       "      <td>Desolation Williams</td>\n",
       "      <td>1969-06-15</td>\n",
       "      <td>M</td>\n",
       "      <td>1.727</td>\n",
       "      <td>/m/0x67</td>\n",
       "      <td>Ice Cube</td>\n",
       "      <td>32.0</td>\n",
       "      <td>/m/0jys3g</td>\n",
       "      <td>/m/0bgchn_</td>\n",
       "      <td>/m/01vw26l</td>\n",
       "    </tr>\n",
       "    <tr>\n",
       "      <th>3</th>\n",
       "      <td>975900</td>\n",
       "      <td>/m/03vyhn</td>\n",
       "      <td>2001-08-24</td>\n",
       "      <td>Sgt Jericho Butler</td>\n",
       "      <td>1967-09-12</td>\n",
       "      <td>M</td>\n",
       "      <td>1.750</td>\n",
       "      <td>NaN</td>\n",
       "      <td>Jason Statham</td>\n",
       "      <td>33.0</td>\n",
       "      <td>/m/02vchl6</td>\n",
       "      <td>/m/0bgchnq</td>\n",
       "      <td>/m/034hyc</td>\n",
       "    </tr>\n",
       "    <tr>\n",
       "      <th>4</th>\n",
       "      <td>975900</td>\n",
       "      <td>/m/03vyhn</td>\n",
       "      <td>2001-08-24</td>\n",
       "      <td>Bashira Kincaid</td>\n",
       "      <td>1977-09-25</td>\n",
       "      <td>F</td>\n",
       "      <td>1.650</td>\n",
       "      <td>NaN</td>\n",
       "      <td>Clea DuVall</td>\n",
       "      <td>23.0</td>\n",
       "      <td>/m/02vbb3r</td>\n",
       "      <td>/m/0bgchp9</td>\n",
       "      <td>/m/01y9xg</td>\n",
       "    </tr>\n",
       "  </tbody>\n",
       "</table>\n",
       "</div>"
      ],
      "text/plain": [
       "   WikiMovieID FreebaseMovieID MovieReleaseDate               CharacterName  \\\n",
       "0       975900       /m/03vyhn       2001-08-24                    Akooshay   \n",
       "1       975900       /m/03vyhn       2001-08-24  Lieutenant Melanie Ballard   \n",
       "2       975900       /m/03vyhn       2001-08-24         Desolation Williams   \n",
       "3       975900       /m/03vyhn       2001-08-24          Sgt Jericho Butler   \n",
       "4       975900       /m/03vyhn       2001-08-24             Bashira Kincaid   \n",
       "\n",
       "  ActorBirthDate ActorGender  ActorHeight ActorEthnicity           ActorName  \\\n",
       "0     1958-08-26           F        1.620            NaN      Wanda De Jesus   \n",
       "1     1974-08-15           F        1.780     /m/044038p  Natasha Henstridge   \n",
       "2     1969-06-15           M        1.727        /m/0x67            Ice Cube   \n",
       "3     1967-09-12           M        1.750            NaN       Jason Statham   \n",
       "4     1977-09-25           F        1.650            NaN         Clea DuVall   \n",
       "\n",
       "   ActoreAge CharacterActorMap CharacterID     ActorID  \n",
       "0       42.0        /m/0bgchxw  /m/0bgcj3x  /m/03wcfv7  \n",
       "1       27.0         /m/0jys3m  /m/0bgchn4   /m/0346l4  \n",
       "2       32.0         /m/0jys3g  /m/0bgchn_  /m/01vw26l  \n",
       "3       33.0        /m/02vchl6  /m/0bgchnq   /m/034hyc  \n",
       "4       23.0        /m/02vbb3r  /m/0bgchp9   /m/01y9xg  "
      ]
     },
     "execution_count": 155,
     "metadata": {},
     "output_type": "execute_result"
    }
   ],
   "source": [
    "\n",
    "#importing the character dataset\n",
    "\n",
    "characters = pd.read_csv('../../data/character.metadata.tsv', sep= '\\t', header=None)\n",
    "characters.columns = ['WikiMovieID', 'FreebaseMovieID', 'MovieReleaseDate','CharacterName',\n",
    "                      'ActorBirthDate', 'ActorGender', 'ActorHeight','ActorEthnicity', \n",
    "                      'ActorName', 'ActoreAge', 'CharacterActorMap', 'CharacterID', 'ActorID']\n",
    "\n",
    "characters.head()\n"
   ]
  },
  {
   "cell_type": "code",
   "execution_count": 156,
   "metadata": {},
   "outputs": [
    {
     "data": {
      "text/plain": [
       "WikiMovieID            int64\n",
       "FreebaseMovieID       object\n",
       "MovieReleaseDate      object\n",
       "CharacterName         object\n",
       "ActorBirthDate        object\n",
       "ActorGender           object\n",
       "ActorHeight          float64\n",
       "ActorEthnicity        object\n",
       "ActorName             object\n",
       "ActoreAge            float64\n",
       "CharacterActorMap     object\n",
       "CharacterID           object\n",
       "ActorID               object\n",
       "dtype: object"
      ]
     },
     "execution_count": 156,
     "metadata": {},
     "output_type": "execute_result"
    }
   ],
   "source": [
    "characters.dtypes"
   ]
  },
  {
   "cell_type": "code",
   "execution_count": 157,
   "metadata": {},
   "outputs": [],
   "source": [
    "characters['MovieReleaseDate'] = pd.to_datetime(characters['MovieReleaseDate'], errors='coerce')"
   ]
  },
  {
   "cell_type": "code",
   "execution_count": 158,
   "metadata": {},
   "outputs": [
    {
     "data": {
      "text/plain": [
       "WikiMovieID          0.000000\n",
       "FreebaseMovieID      0.000000\n",
       "MovieReleaseDate     0.392299\n",
       "CharacterName        0.572205\n",
       "ActorBirthDate       0.235528\n",
       "ActorGender          0.101203\n",
       "ActorHeight          0.656457\n",
       "ActorEthnicity       0.764665\n",
       "ActorName            0.002725\n",
       "ActoreAge            0.350841\n",
       "CharacterActorMap    0.000000\n",
       "CharacterID          0.572183\n",
       "ActorID              0.001808\n",
       "dtype: float64"
      ]
     },
     "execution_count": 158,
     "metadata": {},
     "output_type": "execute_result"
    }
   ],
   "source": [
    "pd.isna(characters).sum()/len(characters)"
   ]
  },
  {
   "cell_type": "code",
   "execution_count": 159,
   "metadata": {},
   "outputs": [
    {
     "name": "stdout",
     "output_type": "stream",
     "text": [
      "(2666, 2)\n"
     ]
    },
    {
     "data": {
      "text/html": [
       "<div>\n",
       "<style scoped>\n",
       "    .dataframe tbody tr th:only-of-type {\n",
       "        vertical-align: middle;\n",
       "    }\n",
       "\n",
       "    .dataframe tbody tr th {\n",
       "        vertical-align: top;\n",
       "    }\n",
       "\n",
       "    .dataframe thead th {\n",
       "        text-align: right;\n",
       "    }\n",
       "</style>\n",
       "<table border=\"1\" class=\"dataframe\">\n",
       "  <thead>\n",
       "    <tr style=\"text-align: right;\">\n",
       "      <th></th>\n",
       "      <th>Instaces</th>\n",
       "      <th>CharacterActorMap</th>\n",
       "    </tr>\n",
       "  </thead>\n",
       "  <tbody>\n",
       "    <tr>\n",
       "      <th>0</th>\n",
       "      <td>Stuart Little</td>\n",
       "      <td>/m/0k3w9c</td>\n",
       "    </tr>\n",
       "    <tr>\n",
       "      <th>1</th>\n",
       "      <td>Stuart Little</td>\n",
       "      <td>/m/0k3wcx</td>\n",
       "    </tr>\n",
       "    <tr>\n",
       "      <th>2</th>\n",
       "      <td>Stuart Little</td>\n",
       "      <td>/m/0k3wbn</td>\n",
       "    </tr>\n",
       "    <tr>\n",
       "      <th>3</th>\n",
       "      <td>John Doe</td>\n",
       "      <td>/m/0jyg35</td>\n",
       "    </tr>\n",
       "    <tr>\n",
       "      <th>4</th>\n",
       "      <td>John Doe</td>\n",
       "      <td>/m/0k2_zn</td>\n",
       "    </tr>\n",
       "  </tbody>\n",
       "</table>\n",
       "</div>"
      ],
      "text/plain": [
       "        Instaces CharacterActorMap\n",
       "0  Stuart Little         /m/0k3w9c\n",
       "1  Stuart Little         /m/0k3wcx\n",
       "2  Stuart Little         /m/0k3wbn\n",
       "3       John Doe         /m/0jyg35\n",
       "4       John Doe         /m/0k2_zn"
      ]
     },
     "execution_count": 159,
     "metadata": {},
     "output_type": "execute_result"
    }
   ],
   "source": [
    "#import the name clusters\n",
    "\n",
    "name_clusters = pd.read_csv('../../data/name.clusters.txt', sep='\\t', header=None)\n",
    "\n",
    "name_clusters.columns = ['Instaces', 'CharacterActorMap']\n",
    "\n",
    "print(name_clusters.shape)\n",
    "name_clusters.head()"
   ]
  },
  {
   "cell_type": "code",
   "execution_count": 160,
   "metadata": {},
   "outputs": [
    {
     "data": {
      "text/plain": [
       "(501, 2)"
      ]
     },
     "execution_count": 160,
     "metadata": {},
     "output_type": "execute_result"
    }
   ],
   "source": [
    "#import the tvtropes clusters\n",
    "\n",
    "tvtropes_clusters = pd.read_csv('../../data/tvtropes.clusters.txt', sep='\\t', header=None)\n",
    "tvtropes_clusters.columns = ['Instaces', 'Dictionary_str']\n",
    "\n",
    "tvtropes_clusters.shape\n"
   ]
  },
  {
   "cell_type": "code",
   "execution_count": 162,
   "metadata": {},
   "outputs": [],
   "source": [
    "tvtropes_clusters['Dictionary'] = tvtropes_clusters['Dictionary_str'].apply(conv_to_dict)\n",
    "\n",
    "#create column for each key in the dictionary\n",
    "\n",
    "c = tvtropes_clusters['Dictionary'].apply(pd.Series)\n",
    "\n",
    "tvtropes_new = pd.concat([tvtropes_clusters['Instaces'], c], axis=1)\n"
   ]
  },
  {
   "cell_type": "code",
   "execution_count": 164,
   "metadata": {},
   "outputs": [
    {
     "data": {
      "text/html": [
       "<div>\n",
       "<style scoped>\n",
       "    .dataframe tbody tr th:only-of-type {\n",
       "        vertical-align: middle;\n",
       "    }\n",
       "\n",
       "    .dataframe tbody tr th {\n",
       "        vertical-align: top;\n",
       "    }\n",
       "\n",
       "    .dataframe thead th {\n",
       "        text-align: right;\n",
       "    }\n",
       "</style>\n",
       "<table border=\"1\" class=\"dataframe\">\n",
       "  <thead>\n",
       "    <tr style=\"text-align: right;\">\n",
       "      <th></th>\n",
       "      <th>Instaces</th>\n",
       "      <th>char</th>\n",
       "      <th>movie</th>\n",
       "      <th>id</th>\n",
       "      <th>actor</th>\n",
       "    </tr>\n",
       "  </thead>\n",
       "  <tbody>\n",
       "    <tr>\n",
       "      <th>0</th>\n",
       "      <td>absent_minded_professor</td>\n",
       "      <td>Professor Philip Brainard</td>\n",
       "      <td>Flubber</td>\n",
       "      <td>/m/0jy9q0</td>\n",
       "      <td>Robin Williams</td>\n",
       "    </tr>\n",
       "    <tr>\n",
       "      <th>1</th>\n",
       "      <td>absent_minded_professor</td>\n",
       "      <td>Professor Keenbean</td>\n",
       "      <td>Richie Rich</td>\n",
       "      <td>/m/02vchl3</td>\n",
       "      <td>Michael McShane</td>\n",
       "    </tr>\n",
       "    <tr>\n",
       "      <th>2</th>\n",
       "      <td>absent_minded_professor</td>\n",
       "      <td>Dr. Reinhardt Lane</td>\n",
       "      <td>The Shadow</td>\n",
       "      <td>/m/0k6fkc</td>\n",
       "      <td>Ian McKellen</td>\n",
       "    </tr>\n",
       "    <tr>\n",
       "      <th>3</th>\n",
       "      <td>absent_minded_professor</td>\n",
       "      <td>Dr. Harold Medford</td>\n",
       "      <td>Them!</td>\n",
       "      <td>/m/0k6_br</td>\n",
       "      <td>Edmund Gwenn</td>\n",
       "    </tr>\n",
       "    <tr>\n",
       "      <th>4</th>\n",
       "      <td>absent_minded_professor</td>\n",
       "      <td>Daniel Jackson</td>\n",
       "      <td>Stargate</td>\n",
       "      <td>/m/0k3rhh</td>\n",
       "      <td>James Spader</td>\n",
       "    </tr>\n",
       "  </tbody>\n",
       "</table>\n",
       "</div>"
      ],
      "text/plain": [
       "                  Instaces                       char        movie  \\\n",
       "0  absent_minded_professor  Professor Philip Brainard      Flubber   \n",
       "1  absent_minded_professor         Professor Keenbean  Richie Rich   \n",
       "2  absent_minded_professor         Dr. Reinhardt Lane   The Shadow   \n",
       "3  absent_minded_professor         Dr. Harold Medford        Them!   \n",
       "4  absent_minded_professor             Daniel Jackson     Stargate   \n",
       "\n",
       "           id            actor  \n",
       "0   /m/0jy9q0   Robin Williams  \n",
       "1  /m/02vchl3  Michael McShane  \n",
       "2   /m/0k6fkc     Ian McKellen  \n",
       "3   /m/0k6_br     Edmund Gwenn  \n",
       "4   /m/0k3rhh     James Spader  "
      ]
     },
     "execution_count": 164,
     "metadata": {},
     "output_type": "execute_result"
    }
   ],
   "source": [
    "tvtropes_new.head()"
   ]
  },
  {
   "cell_type": "code",
   "execution_count": 165,
   "metadata": {},
   "outputs": [
    {
     "data": {
      "text/plain": [
       "Instaces    0.0\n",
       "char        0.0\n",
       "movie       0.0\n",
       "id          0.0\n",
       "actor       0.0\n",
       "dtype: float64"
      ]
     },
     "execution_count": 165,
     "metadata": {},
     "output_type": "execute_result"
    }
   ],
   "source": [
    "pd.isna(tvtropes_new).sum()/len(tvtropes_new)"
   ]
  }
 ],
 "metadata": {
  "kernelspec": {
   "display_name": "ADA_Proj",
   "language": "python",
   "name": "python3"
  },
  "language_info": {
   "codemirror_mode": {
    "name": "ipython",
    "version": 3
   },
   "file_extension": ".py",
   "mimetype": "text/x-python",
   "name": "python",
   "nbconvert_exporter": "python",
   "pygments_lexer": "ipython3",
   "version": "3.12.7"
  }
 },
 "nbformat": 4,
 "nbformat_minor": 2
}
