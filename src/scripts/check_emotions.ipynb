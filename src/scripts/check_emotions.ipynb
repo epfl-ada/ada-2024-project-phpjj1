{
 "cells": [
  {
   "cell_type": "code",
   "execution_count": 1,
   "metadata": {},
   "outputs": [
    {
     "data": {
      "text/html": [
       "<div>\n",
       "<style scoped>\n",
       "    .dataframe tbody tr th:only-of-type {\n",
       "        vertical-align: middle;\n",
       "    }\n",
       "\n",
       "    .dataframe tbody tr th {\n",
       "        vertical-align: top;\n",
       "    }\n",
       "\n",
       "    .dataframe thead th {\n",
       "        text-align: right;\n",
       "    }\n",
       "</style>\n",
       "<table border=\"1\" class=\"dataframe\">\n",
       "  <thead>\n",
       "    <tr style=\"text-align: right;\">\n",
       "      <th></th>\n",
       "      <th>WikiID</th>\n",
       "      <th>FreebaseID</th>\n",
       "      <th>Name</th>\n",
       "      <th>ReleaseDate</th>\n",
       "      <th>Revenue</th>\n",
       "      <th>Runtime</th>\n",
       "      <th>Languages_tuple</th>\n",
       "      <th>Countries_tuples</th>\n",
       "      <th>Genres_tuples</th>\n",
       "      <th>Languages</th>\n",
       "      <th>Countries</th>\n",
       "      <th>Genres</th>\n",
       "      <th>Plot</th>\n",
       "      <th>WikiMovieID</th>\n",
       "      <th>CharacterName</th>\n",
       "      <th>CharacterID</th>\n",
       "      <th>Instances</th>\n",
       "      <th>CharacterActorMap</th>\n",
       "      <th>ActorID</th>\n",
       "      <th>ActorName</th>\n",
       "      <th>ActorAge</th>\n",
       "      <th>ActorGender</th>\n",
       "      <th>ActorBirthDate</th>\n",
       "      <th>ActorHeight</th>\n",
       "      <th>merge_title</th>\n",
       "      <th>merge_year</th>\n",
       "      <th>movieId</th>\n",
       "      <th>title</th>\n",
       "      <th>mean</th>\n",
       "      <th>std</th>\n",
       "      <th>count</th>\n",
       "    </tr>\n",
       "  </thead>\n",
       "  <tbody>\n",
       "    <tr>\n",
       "      <th>0</th>\n",
       "      <td>975900</td>\n",
       "      <td>/m/03vyhn</td>\n",
       "      <td>Ghosts of Mars</td>\n",
       "      <td>2001-08-24</td>\n",
       "      <td>14010832.0</td>\n",
       "      <td>98.0</td>\n",
       "      <td>{\"/m/02h40lc\": \"English Language\"}</td>\n",
       "      <td>{\"/m/09c7w0\": \"United States of America\"}</td>\n",
       "      <td>{\"/m/01jfsb\": \"Thriller\", \"/m/06n90\": \"Science...</td>\n",
       "      <td>{'/m/02h40lc': 'English Language'}</td>\n",
       "      <td>{'/m/09c7w0': 'United States of America'}</td>\n",
       "      <td>{'/m/01jfsb': 'Thriller', '/m/06n90': 'Science...</td>\n",
       "      <td>Set in the second half of the 22nd century, th...</td>\n",
       "      <td>975900.0</td>\n",
       "      <td>{1: 'Akooshay', 2: 'Lieutenant Melanie Ballard...</td>\n",
       "      <td>{1: '/m/0bgcj3x', 2: '/m/0bgchn4', 3: '/m/0bgc...</td>\n",
       "      <td>{1: nan, 2: nan, 3: nan, 4: nan, 5: nan, 6: na...</td>\n",
       "      <td>{1: '/m/0bgchxw', 2: '/m/0jys3m', 3: '/m/0jys3...</td>\n",
       "      <td>{1: '/m/03wcfv7', 2: '/m/0346l4', 3: '/m/01vw2...</td>\n",
       "      <td>{1: 'Wanda De Jesus', 2: 'Natasha Henstridge',...</td>\n",
       "      <td>{1: 42.0, 2: 27.0, 3: 32.0, 4: 33.0, 5: 23.0, ...</td>\n",
       "      <td>{1: 'F', 2: 'F', 3: 'M', 4: 'M', 5: 'F', 6: 'F...</td>\n",
       "      <td>{1: '1958-08-26', 2: '1974-08-15', 3: '1969-06...</td>\n",
       "      <td>{1: 1.62, 2: 1.78, 3: 1.727, 4: 1.75, 5: 1.65,...</td>\n",
       "      <td>ghosts of mars</td>\n",
       "      <td>2001.0</td>\n",
       "      <td>4735.0</td>\n",
       "      <td>Ghosts of Mars (2001)</td>\n",
       "      <td>2.35196</td>\n",
       "      <td>1.064942</td>\n",
       "      <td>1709.0</td>\n",
       "    </tr>\n",
       "    <tr>\n",
       "      <th>1</th>\n",
       "      <td>3196793</td>\n",
       "      <td>/m/08yl5d</td>\n",
       "      <td>Getting Away with Murder: The JonBenét Ramsey ...</td>\n",
       "      <td>2000-02-16</td>\n",
       "      <td>NaN</td>\n",
       "      <td>95.0</td>\n",
       "      <td>{\"/m/02h40lc\": \"English Language\"}</td>\n",
       "      <td>{\"/m/09c7w0\": \"United States of America\"}</td>\n",
       "      <td>{\"/m/02n4kr\": \"Mystery\", \"/m/03bxz7\": \"Biograp...</td>\n",
       "      <td>{'/m/02h40lc': 'English Language'}</td>\n",
       "      <td>{'/m/09c7w0': 'United States of America'}</td>\n",
       "      <td>{'/m/02n4kr': 'Mystery', '/m/03bxz7': 'Biograp...</td>\n",
       "      <td>NaN</td>\n",
       "      <td>3196793.0</td>\n",
       "      <td>{1: 'Police Officer', 2: 'Reporter', 3: nan, 4...</td>\n",
       "      <td>{1: '/m/0lr3z80', 2: '/m/0lr3z8g', 3: nan, 4: ...</td>\n",
       "      <td>{1: nan, 2: nan, 3: nan, 4: nan, 5: nan, 6: na...</td>\n",
       "      <td>{1: '/m/0lr37fl', 2: '/m/0lr37d8', 3: '/m/0lr3...</td>\n",
       "      <td>{1: '/m/0h8pnlw', 2: '/m/034dbm', 3: '/m/0lr37...</td>\n",
       "      <td>{1: 'Allen Cutler', 2: 'Alice Barrett', 3: 'Ro...</td>\n",
       "      <td>{1: nan, 2: 43.0, 3: nan, 4: nan, 5: 50.0, 6: ...</td>\n",
       "      <td>{1: 'M', 2: 'F', 3: 'M', 4: 'F', 5: 'M', 6: 'M...</td>\n",
       "      <td>{1: nan, 2: '1956-12-19', 3: nan, 4: nan, 5: '...</td>\n",
       "      <td>{1: nan, 2: nan, 3: nan, 4: nan, 5: nan, 6: 1....</td>\n",
       "      <td>getting away with murder: the jonbenét ramsey ...</td>\n",
       "      <td>2000.0</td>\n",
       "      <td>NaN</td>\n",
       "      <td>NaN</td>\n",
       "      <td>NaN</td>\n",
       "      <td>NaN</td>\n",
       "      <td>NaN</td>\n",
       "    </tr>\n",
       "    <tr>\n",
       "      <th>2</th>\n",
       "      <td>28463795</td>\n",
       "      <td>/m/0crgdbh</td>\n",
       "      <td>Brun bitter</td>\n",
       "      <td>1988</td>\n",
       "      <td>NaN</td>\n",
       "      <td>83.0</td>\n",
       "      <td>{\"/m/05f_3\": \"Norwegian Language\"}</td>\n",
       "      <td>{\"/m/05b4w\": \"Norway\"}</td>\n",
       "      <td>{\"/m/0lsxr\": \"Crime Fiction\", \"/m/07s9rl0\": \"D...</td>\n",
       "      <td>{'/m/05f_3': 'Norwegian Language'}</td>\n",
       "      <td>{'/m/05b4w': 'Norway'}</td>\n",
       "      <td>{'/m/0lsxr': 'Crime Fiction', '/m/07s9rl0': 'D...</td>\n",
       "      <td>NaN</td>\n",
       "      <td>28463795.0</td>\n",
       "      <td>{1: nan, 2: nan, 3: nan, 4: nan}</td>\n",
       "      <td>{1: nan, 2: nan, 3: nan, 4: nan}</td>\n",
       "      <td>{1: nan, 2: nan, 3: nan, 4: nan}</td>\n",
       "      <td>{1: '/m/0gct1bn', 2: '/m/0gct1bv', 3: '/m/0gct...</td>\n",
       "      <td>{1: '/m/053j7xf', 2: '/m/0gct1by', 3: '/m/0bwh...</td>\n",
       "      <td>{1: 'Frank Krog', 2: 'Kristin Kajander', 3: 'V...</td>\n",
       "      <td>{1: 33.0, 2: 28.0, 3: 40.0, 4: 30.0}</td>\n",
       "      <td>{1: 'M', 2: 'F', 3: 'M', 4: 'F'}</td>\n",
       "      <td>{1: '1954-10-05', 2: '1959-02-28', 3: '1947', ...</td>\n",
       "      <td>{1: nan, 2: nan, 3: nan, 4: nan}</td>\n",
       "      <td>brun bitter</td>\n",
       "      <td>1988.0</td>\n",
       "      <td>NaN</td>\n",
       "      <td>NaN</td>\n",
       "      <td>NaN</td>\n",
       "      <td>NaN</td>\n",
       "      <td>NaN</td>\n",
       "    </tr>\n",
       "    <tr>\n",
       "      <th>3</th>\n",
       "      <td>9363483</td>\n",
       "      <td>/m/0285_cd</td>\n",
       "      <td>White Of The Eye</td>\n",
       "      <td>1987</td>\n",
       "      <td>NaN</td>\n",
       "      <td>110.0</td>\n",
       "      <td>{\"/m/02h40lc\": \"English Language\"}</td>\n",
       "      <td>{\"/m/07ssc\": \"United Kingdom\"}</td>\n",
       "      <td>{\"/m/01jfsb\": \"Thriller\", \"/m/0glj9q\": \"Erotic...</td>\n",
       "      <td>{'/m/02h40lc': 'English Language'}</td>\n",
       "      <td>{'/m/07ssc': 'United Kingdom'}</td>\n",
       "      <td>{'/m/01jfsb': 'Thriller', '/m/0glj9q': 'Erotic...</td>\n",
       "      <td>A series of murders of rich young women throug...</td>\n",
       "      <td>9363483.0</td>\n",
       "      <td>{1: nan, 2: nan}</td>\n",
       "      <td>{1: nan, 2: nan}</td>\n",
       "      <td>{1: nan, 2: nan}</td>\n",
       "      <td>{1: '/m/02t9_0c', 2: '/m/02vct27'}</td>\n",
       "      <td>{1: '/m/036496', 2: '/m/07g60h'}</td>\n",
       "      <td>{1: 'David Keith', 2: 'Cathy Moriarty'}</td>\n",
       "      <td>{1: 32.0, 2: 26.0}</td>\n",
       "      <td>{1: 'M', 2: 'F'}</td>\n",
       "      <td>{1: '1954-05-08', 2: '1960-11-29'}</td>\n",
       "      <td>{1: 1.83, 2: 1.75}</td>\n",
       "      <td>white of the eye</td>\n",
       "      <td>1987.0</td>\n",
       "      <td>90015.0</td>\n",
       "      <td>White of the Eye (1987)</td>\n",
       "      <td>3.00000</td>\n",
       "      <td>1.038328</td>\n",
       "      <td>33.0</td>\n",
       "    </tr>\n",
       "    <tr>\n",
       "      <th>4</th>\n",
       "      <td>261236</td>\n",
       "      <td>/m/01mrr1</td>\n",
       "      <td>A Woman in Flames</td>\n",
       "      <td>1983</td>\n",
       "      <td>NaN</td>\n",
       "      <td>106.0</td>\n",
       "      <td>{\"/m/04306rv\": \"German Language\"}</td>\n",
       "      <td>{\"/m/0345h\": \"Germany\"}</td>\n",
       "      <td>{\"/m/07s9rl0\": \"Drama\"}</td>\n",
       "      <td>{'/m/04306rv': 'German Language'}</td>\n",
       "      <td>{'/m/0345h': 'Germany'}</td>\n",
       "      <td>{'/m/07s9rl0': 'Drama'}</td>\n",
       "      <td>Eva, an upper class housewife, becomes frustra...</td>\n",
       "      <td>261236.0</td>\n",
       "      <td>{1: nan, 2: nan, 3: nan}</td>\n",
       "      <td>{1: nan, 2: nan, 3: nan}</td>\n",
       "      <td>{1: nan, 2: nan, 3: nan}</td>\n",
       "      <td>{1: '/m/02vb3cv', 2: '/m/02tbd9f', 3: '/m/02vd...</td>\n",
       "      <td>{1: '/m/09d6hv', 2: '/m/06prxs', 3: '/m/09k3x_'}</td>\n",
       "      <td>{1: 'Gudrun Landgrebe', 2: 'Mathieu Carrière',...</td>\n",
       "      <td>{1: 32.0, 2: 32.0, 3: 35.0}</td>\n",
       "      <td>{1: 'F', 2: 'M', 3: 'M'}</td>\n",
       "      <td>{1: '1950-06-20', 2: '1950-08-02', 3: '1947-06...</td>\n",
       "      <td>{1: nan, 2: nan, 3: nan}</td>\n",
       "      <td>a woman in flames</td>\n",
       "      <td>1983.0</td>\n",
       "      <td>NaN</td>\n",
       "      <td>NaN</td>\n",
       "      <td>NaN</td>\n",
       "      <td>NaN</td>\n",
       "      <td>NaN</td>\n",
       "    </tr>\n",
       "  </tbody>\n",
       "</table>\n",
       "</div>"
      ],
      "text/plain": [
       "     WikiID  FreebaseID                                               Name  \\\n",
       "0    975900   /m/03vyhn                                     Ghosts of Mars   \n",
       "1   3196793   /m/08yl5d  Getting Away with Murder: The JonBenét Ramsey ...   \n",
       "2  28463795  /m/0crgdbh                                        Brun bitter   \n",
       "3   9363483  /m/0285_cd                                   White Of The Eye   \n",
       "4    261236   /m/01mrr1                                  A Woman in Flames   \n",
       "\n",
       "  ReleaseDate     Revenue  Runtime                     Languages_tuple  \\\n",
       "0  2001-08-24  14010832.0     98.0  {\"/m/02h40lc\": \"English Language\"}   \n",
       "1  2000-02-16         NaN     95.0  {\"/m/02h40lc\": \"English Language\"}   \n",
       "2        1988         NaN     83.0  {\"/m/05f_3\": \"Norwegian Language\"}   \n",
       "3        1987         NaN    110.0  {\"/m/02h40lc\": \"English Language\"}   \n",
       "4        1983         NaN    106.0   {\"/m/04306rv\": \"German Language\"}   \n",
       "\n",
       "                            Countries_tuples  \\\n",
       "0  {\"/m/09c7w0\": \"United States of America\"}   \n",
       "1  {\"/m/09c7w0\": \"United States of America\"}   \n",
       "2                     {\"/m/05b4w\": \"Norway\"}   \n",
       "3             {\"/m/07ssc\": \"United Kingdom\"}   \n",
       "4                    {\"/m/0345h\": \"Germany\"}   \n",
       "\n",
       "                                       Genres_tuples  \\\n",
       "0  {\"/m/01jfsb\": \"Thriller\", \"/m/06n90\": \"Science...   \n",
       "1  {\"/m/02n4kr\": \"Mystery\", \"/m/03bxz7\": \"Biograp...   \n",
       "2  {\"/m/0lsxr\": \"Crime Fiction\", \"/m/07s9rl0\": \"D...   \n",
       "3  {\"/m/01jfsb\": \"Thriller\", \"/m/0glj9q\": \"Erotic...   \n",
       "4                            {\"/m/07s9rl0\": \"Drama\"}   \n",
       "\n",
       "                            Languages  \\\n",
       "0  {'/m/02h40lc': 'English Language'}   \n",
       "1  {'/m/02h40lc': 'English Language'}   \n",
       "2  {'/m/05f_3': 'Norwegian Language'}   \n",
       "3  {'/m/02h40lc': 'English Language'}   \n",
       "4   {'/m/04306rv': 'German Language'}   \n",
       "\n",
       "                                   Countries  \\\n",
       "0  {'/m/09c7w0': 'United States of America'}   \n",
       "1  {'/m/09c7w0': 'United States of America'}   \n",
       "2                     {'/m/05b4w': 'Norway'}   \n",
       "3             {'/m/07ssc': 'United Kingdom'}   \n",
       "4                    {'/m/0345h': 'Germany'}   \n",
       "\n",
       "                                              Genres  \\\n",
       "0  {'/m/01jfsb': 'Thriller', '/m/06n90': 'Science...   \n",
       "1  {'/m/02n4kr': 'Mystery', '/m/03bxz7': 'Biograp...   \n",
       "2  {'/m/0lsxr': 'Crime Fiction', '/m/07s9rl0': 'D...   \n",
       "3  {'/m/01jfsb': 'Thriller', '/m/0glj9q': 'Erotic...   \n",
       "4                            {'/m/07s9rl0': 'Drama'}   \n",
       "\n",
       "                                                Plot  WikiMovieID  \\\n",
       "0  Set in the second half of the 22nd century, th...     975900.0   \n",
       "1                                                NaN    3196793.0   \n",
       "2                                                NaN   28463795.0   \n",
       "3  A series of murders of rich young women throug...    9363483.0   \n",
       "4  Eva, an upper class housewife, becomes frustra...     261236.0   \n",
       "\n",
       "                                       CharacterName  \\\n",
       "0  {1: 'Akooshay', 2: 'Lieutenant Melanie Ballard...   \n",
       "1  {1: 'Police Officer', 2: 'Reporter', 3: nan, 4...   \n",
       "2                   {1: nan, 2: nan, 3: nan, 4: nan}   \n",
       "3                                   {1: nan, 2: nan}   \n",
       "4                           {1: nan, 2: nan, 3: nan}   \n",
       "\n",
       "                                         CharacterID  \\\n",
       "0  {1: '/m/0bgcj3x', 2: '/m/0bgchn4', 3: '/m/0bgc...   \n",
       "1  {1: '/m/0lr3z80', 2: '/m/0lr3z8g', 3: nan, 4: ...   \n",
       "2                   {1: nan, 2: nan, 3: nan, 4: nan}   \n",
       "3                                   {1: nan, 2: nan}   \n",
       "4                           {1: nan, 2: nan, 3: nan}   \n",
       "\n",
       "                                           Instances  \\\n",
       "0  {1: nan, 2: nan, 3: nan, 4: nan, 5: nan, 6: na...   \n",
       "1  {1: nan, 2: nan, 3: nan, 4: nan, 5: nan, 6: na...   \n",
       "2                   {1: nan, 2: nan, 3: nan, 4: nan}   \n",
       "3                                   {1: nan, 2: nan}   \n",
       "4                           {1: nan, 2: nan, 3: nan}   \n",
       "\n",
       "                                   CharacterActorMap  \\\n",
       "0  {1: '/m/0bgchxw', 2: '/m/0jys3m', 3: '/m/0jys3...   \n",
       "1  {1: '/m/0lr37fl', 2: '/m/0lr37d8', 3: '/m/0lr3...   \n",
       "2  {1: '/m/0gct1bn', 2: '/m/0gct1bv', 3: '/m/0gct...   \n",
       "3                 {1: '/m/02t9_0c', 2: '/m/02vct27'}   \n",
       "4  {1: '/m/02vb3cv', 2: '/m/02tbd9f', 3: '/m/02vd...   \n",
       "\n",
       "                                             ActorID  \\\n",
       "0  {1: '/m/03wcfv7', 2: '/m/0346l4', 3: '/m/01vw2...   \n",
       "1  {1: '/m/0h8pnlw', 2: '/m/034dbm', 3: '/m/0lr37...   \n",
       "2  {1: '/m/053j7xf', 2: '/m/0gct1by', 3: '/m/0bwh...   \n",
       "3                   {1: '/m/036496', 2: '/m/07g60h'}   \n",
       "4   {1: '/m/09d6hv', 2: '/m/06prxs', 3: '/m/09k3x_'}   \n",
       "\n",
       "                                           ActorName  \\\n",
       "0  {1: 'Wanda De Jesus', 2: 'Natasha Henstridge',...   \n",
       "1  {1: 'Allen Cutler', 2: 'Alice Barrett', 3: 'Ro...   \n",
       "2  {1: 'Frank Krog', 2: 'Kristin Kajander', 3: 'V...   \n",
       "3            {1: 'David Keith', 2: 'Cathy Moriarty'}   \n",
       "4  {1: 'Gudrun Landgrebe', 2: 'Mathieu Carrière',...   \n",
       "\n",
       "                                            ActorAge  \\\n",
       "0  {1: 42.0, 2: 27.0, 3: 32.0, 4: 33.0, 5: 23.0, ...   \n",
       "1  {1: nan, 2: 43.0, 3: nan, 4: nan, 5: 50.0, 6: ...   \n",
       "2               {1: 33.0, 2: 28.0, 3: 40.0, 4: 30.0}   \n",
       "3                                 {1: 32.0, 2: 26.0}   \n",
       "4                        {1: 32.0, 2: 32.0, 3: 35.0}   \n",
       "\n",
       "                                         ActorGender  \\\n",
       "0  {1: 'F', 2: 'F', 3: 'M', 4: 'M', 5: 'F', 6: 'F...   \n",
       "1  {1: 'M', 2: 'F', 3: 'M', 4: 'F', 5: 'M', 6: 'M...   \n",
       "2                   {1: 'M', 2: 'F', 3: 'M', 4: 'F'}   \n",
       "3                                   {1: 'M', 2: 'F'}   \n",
       "4                           {1: 'F', 2: 'M', 3: 'M'}   \n",
       "\n",
       "                                      ActorBirthDate  \\\n",
       "0  {1: '1958-08-26', 2: '1974-08-15', 3: '1969-06...   \n",
       "1  {1: nan, 2: '1956-12-19', 3: nan, 4: nan, 5: '...   \n",
       "2  {1: '1954-10-05', 2: '1959-02-28', 3: '1947', ...   \n",
       "3                 {1: '1954-05-08', 2: '1960-11-29'}   \n",
       "4  {1: '1950-06-20', 2: '1950-08-02', 3: '1947-06...   \n",
       "\n",
       "                                         ActorHeight  \\\n",
       "0  {1: 1.62, 2: 1.78, 3: 1.727, 4: 1.75, 5: 1.65,...   \n",
       "1  {1: nan, 2: nan, 3: nan, 4: nan, 5: nan, 6: 1....   \n",
       "2                   {1: nan, 2: nan, 3: nan, 4: nan}   \n",
       "3                                 {1: 1.83, 2: 1.75}   \n",
       "4                           {1: nan, 2: nan, 3: nan}   \n",
       "\n",
       "                                         merge_title  merge_year  movieId  \\\n",
       "0                                     ghosts of mars      2001.0   4735.0   \n",
       "1  getting away with murder: the jonbenét ramsey ...      2000.0      NaN   \n",
       "2                                        brun bitter      1988.0      NaN   \n",
       "3                                   white of the eye      1987.0  90015.0   \n",
       "4                                  a woman in flames      1983.0      NaN   \n",
       "\n",
       "                     title     mean       std   count  \n",
       "0    Ghosts of Mars (2001)  2.35196  1.064942  1709.0  \n",
       "1                      NaN      NaN       NaN     NaN  \n",
       "2                      NaN      NaN       NaN     NaN  \n",
       "3  White of the Eye (1987)  3.00000  1.038328    33.0  \n",
       "4                      NaN      NaN       NaN     NaN  "
      ]
     },
     "execution_count": 1,
     "metadata": {},
     "output_type": "execute_result"
    }
   ],
   "source": [
    "#Load final Dataset \n",
    "import pandas as pd \n",
    "import numpy as np\n",
    "\n",
    "pd.set_option('display.max_columns', None)\n",
    "\n",
    "#Load the final dataset\n",
    "df = pd.read_csv(\"../data/processed/df_final.csv\")\n",
    "df.head()"
   ]
  },
  {
   "cell_type": "code",
   "execution_count": 2,
   "metadata": {},
   "outputs": [
    {
     "data": {
      "application/vnd.jupyter.widget-view+json": {
       "model_id": "ffa2faeb3b884b6da6665521a5c2b407",
       "version_major": 2,
       "version_minor": 0
      },
      "text/plain": [
       "pytorch_model.bin:   0%|          | 0.00/329M [00:00<?, ?B/s]"
      ]
     },
     "metadata": {},
     "output_type": "display_data"
    },
    {
     "data": {
      "application/vnd.jupyter.widget-view+json": {
       "model_id": "5335135ab4a24812a6c4f4d456054c1e",
       "version_major": 2,
       "version_minor": 0
      },
      "text/plain": [
       "tokenizer_config.json:   0%|          | 0.00/294 [00:00<?, ?B/s]"
      ]
     },
     "metadata": {},
     "output_type": "display_data"
    },
    {
     "data": {
      "application/vnd.jupyter.widget-view+json": {
       "model_id": "bfead3ea441543789dc7203e32bdb5b7",
       "version_major": 2,
       "version_minor": 0
      },
      "text/plain": [
       "vocab.json:   0%|          | 0.00/798k [00:00<?, ?B/s]"
      ]
     },
     "metadata": {},
     "output_type": "display_data"
    },
    {
     "data": {
      "application/vnd.jupyter.widget-view+json": {
       "model_id": "75424c2f1c1c480e9ccb59b24d865eda",
       "version_major": 2,
       "version_minor": 0
      },
      "text/plain": [
       "merges.txt:   0%|          | 0.00/456k [00:00<?, ?B/s]"
      ]
     },
     "metadata": {},
     "output_type": "display_data"
    },
    {
     "data": {
      "application/vnd.jupyter.widget-view+json": {
       "model_id": "55f0092109c94e9eaba28df2fa3150ba",
       "version_major": 2,
       "version_minor": 0
      },
      "text/plain": [
       "tokenizer.json:   0%|          | 0.00/1.36M [00:00<?, ?B/s]"
      ]
     },
     "metadata": {},
     "output_type": "display_data"
    },
    {
     "data": {
      "application/vnd.jupyter.widget-view+json": {
       "model_id": "3470be5f8d26475087513b5567e81c4d",
       "version_major": 2,
       "version_minor": 0
      },
      "text/plain": [
       "special_tokens_map.json:   0%|          | 0.00/239 [00:00<?, ?B/s]"
      ]
     },
     "metadata": {},
     "output_type": "display_data"
    },
    {
     "name": "stderr",
     "output_type": "stream",
     "text": [
      "Hardware accelerator e.g. GPU is available in the environment, but no `device` argument is passed to the `Pipeline` object. Model will be on CPU.\n",
      "/home/filo/anaconda3/envs/ADA_Proj/lib/python3.12/site-packages/transformers/pipelines/text_classification.py:106: UserWarning: `return_all_scores` is now deprecated,  if want a similar functionality use `top_k=None` instead of `return_all_scores=True` or `top_k=1` instead of `return_all_scores=False`.\n",
      "  warnings.warn(\n"
     ]
    },
    {
     "data": {
      "text/plain": [
       "[[{'label': 'anger', 'score': 0.004419783595949411},\n",
       "  {'label': 'disgust', 'score': 0.0016119909705594182},\n",
       "  {'label': 'fear', 'score': 0.0004138521908316761},\n",
       "  {'label': 'joy', 'score': 0.9771687984466553},\n",
       "  {'label': 'neutral', 'score': 0.005764589179307222},\n",
       "  {'label': 'sadness', 'score': 0.002092392183840275},\n",
       "  {'label': 'surprise', 'score': 0.00852868054062128}]]"
      ]
     },
     "execution_count": 2,
     "metadata": {},
     "output_type": "execute_result"
    }
   ],
   "source": [
    "from transformers import pipeline\n",
    "classifier = pipeline(\"text-classification\", model=\"j-hartmann/emotion-english-distilroberta-base\", return_all_scores=True)\n",
    "classifier(\"I love this!\")"
   ]
  },
  {
   "cell_type": "code",
   "execution_count": null,
   "metadata": {},
   "outputs": [
    {
     "name": "stdout",
     "output_type": "stream",
     "text": [
      "Using device: cuda\n"
     ]
    },
    {
     "name": "stderr",
     "output_type": "stream",
     "text": [
      "/home/filo/anaconda3/envs/ADA_Proj/lib/python3.12/site-packages/transformers/pipelines/text_classification.py:106: UserWarning: `return_all_scores` is now deprecated,  if want a similar functionality use `top_k=None` instead of `return_all_scores=True` or `top_k=1` instead of `return_all_scores=False`.\n",
      "  warnings.warn(\n"
     ]
    },
    {
     "data": {
      "text/plain": [
       "[[{'label': 'anger', 'score': 0.06532254815101624},\n",
       "  {'label': 'disgust', 'score': 0.4177263081073761},\n",
       "  {'label': 'fear', 'score': 0.4373196065425873},\n",
       "  {'label': 'joy', 'score': 0.0020105931907892227},\n",
       "  {'label': 'neutral', 'score': 0.051793716847896576},\n",
       "  {'label': 'sadness', 'score': 0.021847708150744438},\n",
       "  {'label': 'surprise', 'score': 0.0039795394986867905}]]"
      ]
     },
     "execution_count": 11,
     "metadata": {},
     "output_type": "execute_result"
    }
   ],
   "source": [
    "#E\n",
    "\n",
    "import torch\n",
    "\n",
    "device = torch.device(\"cuda\" if torch.cuda.is_available() else \"cpu\")\n",
    "print(\"Using device:\", device)\n",
    "\n",
    "classifier = pipeline(\"text-classification\", model=\"j-hartmann/emotion-english-distilroberta-base\", return_all_scores=True, device=0)\n",
    "\n",
    "classifier(df.loc[0, \"Plot\"])\n"
   ]
  },
  {
   "cell_type": "code",
   "execution_count": null,
   "metadata": {},
   "outputs": [
    {
     "data": {
      "text/plain": [
       "'Set in the second half of the 22nd century, the film depicts Mars as a planet that has been 84% terraformed, allowing humans to walk on the surface without wearing pressure suits. The Martian society has become largely matriarchal, with women in most positions of authority. The story concerns a police officer, Melanie Ballard , second in command of a small team alongside Sergeant Jericho  sent to pick up and transport a prisoner named Desolation Williams . Arriving at the remote mining town where Williams is being held, Ballard finds virtually all of the people missing. She learns that the miners had discovered an underground doorway created by an ancient Martian civilization. When the door was opened it released \"ghosts,\" disembodied spirits which possessed the miners. Violence ensues, as the possessed miners commit horrific acts of death and destruction, as well as self-mutilation. With their team leader Helena Bradock  murdered, Ballard must fight off the attacking miners, escape the town, and destroy the ghosts, if possible. Unfortunately, her intentions are complicated by the fact that killing a possessed human merely releases the Martian spirit to possess another human. The team eventually decides to blow up a nuclear reactor to try and vaporize all of the ghosts. At several points in the film Sergeant Jericho shows a romantic interest in Ballard, mostly unreciprocated. Ballard\\'s crew along with survivors who manage to gather in the jail are eventually wiped out by the miners after many fierce battles and events , leaving only her and Williams after Sergeant Jericho and the other remaining officers and the two operators of the train are killed upon returning from a brief retreat to finish the fight. Not wanting the authorities to blame the massacre on him, he handcuffs Ballard to her cot and escapes from the train, leaving her to return home and deliver her report, which is received with skepticism by her superiors. While Ballard recuperates at a hospital, the released spirits, who weren\\'t destroyed after all, attack the city. The end scene sets the movie up for a sequel as Williams returns to team up with Ballard to fight the possessed.'"
      ]
     },
     "execution_count": 12,
     "metadata": {},
     "output_type": "execute_result"
    }
   ],
   "source": []
  }
 ],
 "metadata": {
  "kernelspec": {
   "display_name": "ADA_Proj",
   "language": "python",
   "name": "python3"
  },
  "language_info": {
   "codemirror_mode": {
    "name": "ipython",
    "version": 3
   },
   "file_extension": ".py",
   "mimetype": "text/x-python",
   "name": "python",
   "nbconvert_exporter": "python",
   "pygments_lexer": "ipython3",
   "version": "3.12.2"
  }
 },
 "nbformat": 4,
 "nbformat_minor": 2
}
